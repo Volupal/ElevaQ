{
 "cells": [
  {
   "cell_type": "code",
   "execution_count": 1,
   "id": "b9f3a7cc-f23a-43fd-8f29-050ddc6bf431",
   "metadata": {
    "execution": {
     "iopub.execute_input": "2024-02-17T20:29:58.820695Z",
     "iopub.status.busy": "2024-02-17T20:29:58.819314Z",
     "iopub.status.idle": "2024-02-17T20:29:58.859611Z",
     "shell.execute_reply": "2024-02-17T20:29:58.857918Z",
     "shell.execute_reply.started": "2024-02-17T20:29:58.820627Z"
    }
   },
   "outputs": [],
   "source": [
    "%load_ext autoreload\n",
    "%autoreload 2"
   ]
  },
  {
   "cell_type": "markdown",
   "id": "a0e90f14-a776-47b2-9265-ff4fb8689608",
   "metadata": {},
   "source": [
    "> this notebook will follow the tutorial in:\n",
    "https://blog.gopenai.com/fine-tuning-dialogpt-medium-on-daily-dialog-dataset-a-step-by-step-guide-4eaecc1b9323"
   ]
  },
  {
   "cell_type": "code",
   "execution_count": 2,
   "id": "4453318c-3fa5-4b1e-86d1-af7ec9ef15a0",
   "metadata": {
    "execution": {
     "iopub.execute_input": "2024-02-17T20:30:00.390773Z",
     "iopub.status.busy": "2024-02-17T20:30:00.390146Z",
     "iopub.status.idle": "2024-02-17T20:30:09.522275Z",
     "shell.execute_reply": "2024-02-17T20:30:09.520984Z",
     "shell.execute_reply.started": "2024-02-17T20:30:00.390720Z"
    },
    "scrolled": true
   },
   "outputs": [
    {
     "name": "stdout",
     "output_type": "stream",
     "text": [
      "Requirement already satisfied: transformers in ./env/lib/python3.10/site-packages (4.37.2)\n",
      "Requirement already satisfied: requests in ./env/lib/python3.10/site-packages (from transformers) (2.31.0)\n",
      "Requirement already satisfied: huggingface-hub<1.0,>=0.19.3 in ./env/lib/python3.10/site-packages (from transformers) (0.20.2)\n",
      "Requirement already satisfied: safetensors>=0.4.1 in ./env/lib/python3.10/site-packages (from transformers) (0.4.1)\n",
      "Requirement already satisfied: packaging>=20.0 in ./env/lib/python3.10/site-packages (from transformers) (23.2)\n",
      "Requirement already satisfied: tqdm>=4.27 in ./env/lib/python3.10/site-packages (from transformers) (4.66.1)\n",
      "Requirement already satisfied: regex!=2019.12.17 in ./env/lib/python3.10/site-packages (from transformers) (2023.12.25)\n",
      "Requirement already satisfied: numpy>=1.17 in ./env/lib/python3.10/site-packages (from transformers) (1.26.3)\n",
      "Requirement already satisfied: pyyaml>=5.1 in ./env/lib/python3.10/site-packages (from transformers) (6.0.1)\n",
      "Requirement already satisfied: filelock in ./env/lib/python3.10/site-packages (from transformers) (3.13.1)\n",
      "Requirement already satisfied: tokenizers<0.19,>=0.14 in ./env/lib/python3.10/site-packages (from transformers) (0.15.0)\n",
      "Requirement already satisfied: typing-extensions>=3.7.4.3 in ./env/lib/python3.10/site-packages (from huggingface-hub<1.0,>=0.19.3->transformers) (4.9.0)\n",
      "Requirement already satisfied: fsspec>=2023.5.0 in ./env/lib/python3.10/site-packages (from huggingface-hub<1.0,>=0.19.3->transformers) (2023.10.0)\n",
      "Requirement already satisfied: urllib3<3,>=1.21.1 in ./env/lib/python3.10/site-packages (from requests->transformers) (2.1.0)\n",
      "Requirement already satisfied: certifi>=2017.4.17 in ./env/lib/python3.10/site-packages (from requests->transformers) (2023.11.17)\n",
      "Requirement already satisfied: charset-normalizer<4,>=2 in ./env/lib/python3.10/site-packages (from requests->transformers) (3.3.2)\n",
      "Requirement already satisfied: idna<4,>=2.5 in ./env/lib/python3.10/site-packages (from requests->transformers) (3.6)\n",
      "Requirement already satisfied: datasets in ./env/lib/python3.10/site-packages (2.16.1)\n",
      "Requirement already satisfied: huggingface-hub>=0.19.4 in ./env/lib/python3.10/site-packages (from datasets) (0.20.2)\n",
      "Requirement already satisfied: numpy>=1.17 in ./env/lib/python3.10/site-packages (from datasets) (1.26.3)\n",
      "Requirement already satisfied: packaging in ./env/lib/python3.10/site-packages (from datasets) (23.2)\n",
      "Requirement already satisfied: pandas in ./env/lib/python3.10/site-packages (from datasets) (2.1.4)\n",
      "Requirement already satisfied: requests>=2.19.0 in ./env/lib/python3.10/site-packages (from datasets) (2.31.0)\n",
      "Requirement already satisfied: pyarrow-hotfix in ./env/lib/python3.10/site-packages (from datasets) (0.6)\n",
      "Requirement already satisfied: aiohttp in ./env/lib/python3.10/site-packages (from datasets) (3.9.1)\n",
      "Requirement already satisfied: pyarrow>=8.0.0 in ./env/lib/python3.10/site-packages (from datasets) (14.0.2)\n",
      "Requirement already satisfied: filelock in ./env/lib/python3.10/site-packages (from datasets) (3.13.1)\n",
      "Requirement already satisfied: tqdm>=4.62.1 in ./env/lib/python3.10/site-packages (from datasets) (4.66.1)\n",
      "Requirement already satisfied: fsspec[http]<=2023.10.0,>=2023.1.0 in ./env/lib/python3.10/site-packages (from datasets) (2023.10.0)\n",
      "Requirement already satisfied: xxhash in ./env/lib/python3.10/site-packages (from datasets) (3.4.1)\n",
      "Requirement already satisfied: pyyaml>=5.1 in ./env/lib/python3.10/site-packages (from datasets) (6.0.1)\n",
      "Requirement already satisfied: dill<0.3.8,>=0.3.0 in ./env/lib/python3.10/site-packages (from datasets) (0.3.7)\n",
      "Requirement already satisfied: multiprocess in ./env/lib/python3.10/site-packages (from datasets) (0.70.15)\n",
      "Requirement already satisfied: async-timeout<5.0,>=4.0 in ./env/lib/python3.10/site-packages (from aiohttp->datasets) (4.0.3)\n",
      "Requirement already satisfied: attrs>=17.3.0 in ./env/lib/python3.10/site-packages (from aiohttp->datasets) (23.2.0)\n",
      "Requirement already satisfied: aiosignal>=1.1.2 in ./env/lib/python3.10/site-packages (from aiohttp->datasets) (1.3.1)\n",
      "Requirement already satisfied: multidict<7.0,>=4.5 in ./env/lib/python3.10/site-packages (from aiohttp->datasets) (6.0.4)\n",
      "Requirement already satisfied: frozenlist>=1.1.1 in ./env/lib/python3.10/site-packages (from aiohttp->datasets) (1.4.1)\n",
      "Requirement already satisfied: yarl<2.0,>=1.0 in ./env/lib/python3.10/site-packages (from aiohttp->datasets) (1.9.4)\n",
      "Requirement already satisfied: typing-extensions>=3.7.4.3 in ./env/lib/python3.10/site-packages (from huggingface-hub>=0.19.4->datasets) (4.9.0)\n",
      "Requirement already satisfied: charset-normalizer<4,>=2 in ./env/lib/python3.10/site-packages (from requests>=2.19.0->datasets) (3.3.2)\n",
      "Requirement already satisfied: urllib3<3,>=1.21.1 in ./env/lib/python3.10/site-packages (from requests>=2.19.0->datasets) (2.1.0)\n",
      "Requirement already satisfied: certifi>=2017.4.17 in ./env/lib/python3.10/site-packages (from requests>=2.19.0->datasets) (2023.11.17)\n",
      "Requirement already satisfied: idna<4,>=2.5 in ./env/lib/python3.10/site-packages (from requests>=2.19.0->datasets) (3.6)\n",
      "Requirement already satisfied: pytz>=2020.1 in ./env/lib/python3.10/site-packages (from pandas->datasets) (2023.3.post1)\n",
      "Requirement already satisfied: tzdata>=2022.1 in ./env/lib/python3.10/site-packages (from pandas->datasets) (2023.4)\n",
      "Requirement already satisfied: python-dateutil>=2.8.2 in ./env/lib/python3.10/site-packages (from pandas->datasets) (2.8.2)\n",
      "Requirement already satisfied: six>=1.5 in ./env/lib/python3.10/site-packages (from python-dateutil>=2.8.2->pandas->datasets) (1.16.0)\n",
      "Requirement already satisfied: accelerate in ./env/lib/python3.10/site-packages (0.26.1)\n",
      "Collecting accelerate\n",
      "  Downloading accelerate-0.27.2-py3-none-any.whl (279 kB)\n",
      "\u001b[2K     \u001b[38;2;114;156;31m━━━━━━━━━━━━━━━━━━━━━━━━━━━━━━━━━━━━━━━\u001b[0m \u001b[32m280.0/280.0 KB\u001b[0m \u001b[31m1.7 MB/s\u001b[0m eta \u001b[36m0:00:00\u001b[0m MB/s\u001b[0m eta \u001b[36m0:00:01\u001b[0m:01\u001b[0m\n",
      "\u001b[?25hRequirement already satisfied: psutil in ./env/lib/python3.10/site-packages (from accelerate) (5.9.7)\n",
      "Requirement already satisfied: torch>=1.10.0 in ./env/lib/python3.10/site-packages (from accelerate) (2.1.2)\n",
      "Requirement already satisfied: pyyaml in ./env/lib/python3.10/site-packages (from accelerate) (6.0.1)\n",
      "Requirement already satisfied: huggingface-hub in ./env/lib/python3.10/site-packages (from accelerate) (0.20.2)\n",
      "Requirement already satisfied: safetensors>=0.3.1 in ./env/lib/python3.10/site-packages (from accelerate) (0.4.1)\n",
      "Requirement already satisfied: packaging>=20.0 in ./env/lib/python3.10/site-packages (from accelerate) (23.2)\n",
      "Requirement already satisfied: numpy>=1.17 in ./env/lib/python3.10/site-packages (from accelerate) (1.26.3)\n",
      "Requirement already satisfied: fsspec in ./env/lib/python3.10/site-packages (from torch>=1.10.0->accelerate) (2023.10.0)\n",
      "Requirement already satisfied: nvidia-cufft-cu12==11.0.2.54 in ./env/lib/python3.10/site-packages (from torch>=1.10.0->accelerate) (11.0.2.54)\n",
      "Requirement already satisfied: triton==2.1.0 in ./env/lib/python3.10/site-packages (from torch>=1.10.0->accelerate) (2.1.0)\n",
      "Requirement already satisfied: typing-extensions in ./env/lib/python3.10/site-packages (from torch>=1.10.0->accelerate) (4.9.0)\n",
      "Requirement already satisfied: nvidia-cuda-runtime-cu12==12.1.105 in ./env/lib/python3.10/site-packages (from torch>=1.10.0->accelerate) (12.1.105)\n",
      "Requirement already satisfied: nvidia-cusparse-cu12==12.1.0.106 in ./env/lib/python3.10/site-packages (from torch>=1.10.0->accelerate) (12.1.0.106)\n",
      "Requirement already satisfied: nvidia-nvtx-cu12==12.1.105 in ./env/lib/python3.10/site-packages (from torch>=1.10.0->accelerate) (12.1.105)\n",
      "Requirement already satisfied: filelock in ./env/lib/python3.10/site-packages (from torch>=1.10.0->accelerate) (3.13.1)\n",
      "Requirement already satisfied: nvidia-curand-cu12==10.3.2.106 in ./env/lib/python3.10/site-packages (from torch>=1.10.0->accelerate) (10.3.2.106)\n",
      "Requirement already satisfied: nvidia-nccl-cu12==2.18.1 in ./env/lib/python3.10/site-packages (from torch>=1.10.0->accelerate) (2.18.1)\n",
      "Requirement already satisfied: nvidia-cublas-cu12==12.1.3.1 in ./env/lib/python3.10/site-packages (from torch>=1.10.0->accelerate) (12.1.3.1)\n",
      "Requirement already satisfied: nvidia-cudnn-cu12==8.9.2.26 in ./env/lib/python3.10/site-packages (from torch>=1.10.0->accelerate) (8.9.2.26)\n",
      "Requirement already satisfied: jinja2 in ./env/lib/python3.10/site-packages (from torch>=1.10.0->accelerate) (3.1.3)\n",
      "Requirement already satisfied: sympy in ./env/lib/python3.10/site-packages (from torch>=1.10.0->accelerate) (1.12)\n",
      "Requirement already satisfied: nvidia-cuda-nvrtc-cu12==12.1.105 in ./env/lib/python3.10/site-packages (from torch>=1.10.0->accelerate) (12.1.105)\n",
      "Requirement already satisfied: nvidia-cuda-cupti-cu12==12.1.105 in ./env/lib/python3.10/site-packages (from torch>=1.10.0->accelerate) (12.1.105)\n",
      "Requirement already satisfied: nvidia-cusolver-cu12==11.4.5.107 in ./env/lib/python3.10/site-packages (from torch>=1.10.0->accelerate) (11.4.5.107)\n",
      "Requirement already satisfied: networkx in ./env/lib/python3.10/site-packages (from torch>=1.10.0->accelerate) (3.2.1)\n",
      "Requirement already satisfied: nvidia-nvjitlink-cu12 in ./env/lib/python3.10/site-packages (from nvidia-cusolver-cu12==11.4.5.107->torch>=1.10.0->accelerate) (12.3.101)\n",
      "Requirement already satisfied: tqdm>=4.42.1 in ./env/lib/python3.10/site-packages (from huggingface-hub->accelerate) (4.66.1)\n",
      "Requirement already satisfied: requests in ./env/lib/python3.10/site-packages (from huggingface-hub->accelerate) (2.31.0)\n",
      "Requirement already satisfied: MarkupSafe>=2.0 in ./env/lib/python3.10/site-packages (from jinja2->torch>=1.10.0->accelerate) (2.1.3)\n",
      "Requirement already satisfied: charset-normalizer<4,>=2 in ./env/lib/python3.10/site-packages (from requests->huggingface-hub->accelerate) (3.3.2)\n",
      "Requirement already satisfied: certifi>=2017.4.17 in ./env/lib/python3.10/site-packages (from requests->huggingface-hub->accelerate) (2023.11.17)\n",
      "Requirement already satisfied: idna<4,>=2.5 in ./env/lib/python3.10/site-packages (from requests->huggingface-hub->accelerate) (3.6)\n",
      "Requirement already satisfied: urllib3<3,>=1.21.1 in ./env/lib/python3.10/site-packages (from requests->huggingface-hub->accelerate) (2.1.0)\n",
      "Requirement already satisfied: mpmath>=0.19 in ./env/lib/python3.10/site-packages (from sympy->torch>=1.10.0->accelerate) (1.3.0)\n",
      "Installing collected packages: accelerate\n",
      "  Attempting uninstall: accelerate\n",
      "    Found existing installation: accelerate 0.26.1\n",
      "    Uninstalling accelerate-0.26.1:\n",
      "      Successfully uninstalled accelerate-0.26.1\n",
      "Successfully installed accelerate-0.27.2\n"
     ]
    }
   ],
   "source": [
    "!pip install -U transformers\n",
    "!pip install datasets\n",
    "!pip install -U accelerate"
   ]
  },
  {
   "cell_type": "markdown",
   "id": "082a8aa2-047a-43ae-bcde-56e23f48c6c9",
   "metadata": {},
   "source": [
    "# make my own dataset"
   ]
  },
  {
   "cell_type": "code",
   "execution_count": 1,
   "id": "a0f0a4b1-a071-446a-8fb9-2604542b6447",
   "metadata": {
    "execution": {
     "iopub.execute_input": "2024-02-17T20:37:01.056240Z",
     "iopub.status.busy": "2024-02-17T20:37:01.054902Z",
     "iopub.status.idle": "2024-02-17T20:37:01.064562Z",
     "shell.execute_reply": "2024-02-17T20:37:01.062392Z",
     "shell.execute_reply.started": "2024-02-17T20:37:01.056150Z"
    }
   },
   "outputs": [],
   "source": [
    "# https://huggingface.co/learn/nlp-course/chapter5/5\n",
    "# https://huggingface.co/learn/nlp-course/chapter5/2"
   ]
  },
  {
   "cell_type": "code",
   "execution_count": 1,
   "id": "d5eb83a7-2330-46ad-a22f-a80cca669419",
   "metadata": {
    "execution": {
     "iopub.execute_input": "2024-02-17T20:38:23.549377Z",
     "iopub.status.busy": "2024-02-17T20:38:23.548123Z",
     "iopub.status.idle": "2024-02-17T20:38:24.501144Z",
     "shell.execute_reply": "2024-02-17T20:38:24.500064Z",
     "shell.execute_reply.started": "2024-02-17T20:38:23.549298Z"
    }
   },
   "outputs": [
    {
     "name": "stderr",
     "output_type": "stream",
     "text": [
      "/home/peterdays/Documents/personal/Volupal/ElevaQ/env/lib/python3.10/site-packages/tqdm/auto.py:21: TqdmWarning: IProgress not found. Please update jupyter and ipywidgets. See https://ipywidgets.readthedocs.io/en/stable/user_install.html\n",
      "  from .autonotebook import tqdm as notebook_tqdm\n"
     ]
    }
   ],
   "source": [
    "from datasets import load_dataset\n",
    "from glob import glob"
   ]
  },
  {
   "cell_type": "code",
   "execution_count": 2,
   "id": "e92d28bf-d212-464e-a7c1-31d181ddf324",
   "metadata": {
    "execution": {
     "iopub.execute_input": "2024-02-17T20:38:26.612742Z",
     "iopub.status.busy": "2024-02-17T20:38:26.612267Z",
     "iopub.status.idle": "2024-02-17T20:38:26.626128Z",
     "shell.execute_reply": "2024-02-17T20:38:26.624748Z",
     "shell.execute_reply.started": "2024-02-17T20:38:26.612713Z"
    }
   },
   "outputs": [
    {
     "data": {
      "text/plain": [
       "['data/DL103_2008.json',\n",
       " 'data/0288702916.json',\n",
       " 'data/DL320_2002.json',\n",
       " 'data/L65_2013.json',\n",
       " 'data/dlr7_2016-m.json',\n",
       " 'data/0331103315.json',\n",
       " 'data/DLR4_2012_A.json']"
      ]
     },
     "execution_count": 2,
     "metadata": {},
     "output_type": "execute_result"
    }
   ],
   "source": [
    "glob('data/*.json')"
   ]
  },
  {
   "cell_type": "markdown",
   "id": "fe6ef9a0-624d-4557-83b1-2d77bf194189",
   "metadata": {},
   "source": [
    "we can also set the splits\n",
    "\n",
    "`data_files = {\"train\": \"json_example.json\", \"test\": \"json_example.json\"}`\n",
    "`dataset = load_dataset(\"json\", data_files=data_files, field=\"data\")`"
   ]
  },
  {
   "cell_type": "code",
   "execution_count": 3,
   "id": "2a66f020-e58e-4f87-8c59-54c361828133",
   "metadata": {
    "execution": {
     "iopub.execute_input": "2024-02-17T20:38:37.487630Z",
     "iopub.status.busy": "2024-02-17T20:38:37.486638Z",
     "iopub.status.idle": "2024-02-17T20:38:38.382747Z",
     "shell.execute_reply": "2024-02-17T20:38:38.381386Z",
     "shell.execute_reply.started": "2024-02-17T20:38:37.487544Z"
    }
   },
   "outputs": [],
   "source": [
    "dataset = load_dataset(\"json\", data_files=glob('data/*.json'))"
   ]
  },
  {
   "cell_type": "code",
   "execution_count": 5,
   "id": "0ebcdf67-1352-46d6-a383-3fef1db122ca",
   "metadata": {
    "execution": {
     "iopub.execute_input": "2024-02-17T20:37:02.766102Z",
     "iopub.status.busy": "2024-02-17T20:37:02.765111Z",
     "iopub.status.idle": "2024-02-17T20:37:02.772749Z",
     "shell.execute_reply": "2024-02-17T20:37:02.771497Z",
     "shell.execute_reply.started": "2024-02-17T20:37:02.766050Z"
    }
   },
   "outputs": [
    {
     "data": {
      "text/plain": [
       "DatasetDict({\n",
       "    train: Dataset({\n",
       "        features: ['text', 'page'],\n",
       "        num_rows: 106\n",
       "    })\n",
       "})"
      ]
     },
     "execution_count": 5,
     "metadata": {},
     "output_type": "execute_result"
    }
   ],
   "source": [
    "dataset"
   ]
  },
  {
   "cell_type": "code",
   "execution_count": 6,
   "id": "c149d2a5-a476-4cce-8c9a-114be87d2a7c",
   "metadata": {
    "execution": {
     "iopub.execute_input": "2024-02-17T20:37:02.982330Z",
     "iopub.status.busy": "2024-02-17T20:37:02.981223Z",
     "iopub.status.idle": "2024-02-17T20:37:02.991752Z",
     "shell.execute_reply": "2024-02-17T20:37:02.990074Z",
     "shell.execute_reply.started": "2024-02-17T20:37:02.982270Z"
    },
    "scrolled": true
   },
   "outputs": [
    {
     "data": {
      "text/plain": [
       "{'text': ['8 3765 A conformidade das máquinas continua a ser certificada pelo fabricante, sendo alargada a possibilidade de escolha de procedimentos de avaliação de conformidade para o caso das máquinas definidas no anexo IV em que se exigem procedimentos específicos',\n",
       "  'É ainda introduzido, no presente decreto -lei, um meca- nismo que permite a adopção de medidas específicas a nível comunitário, que exigem aos Estados membros a proibição ou a restrição da colocação no mercado de certos tipos de máquinas que apresentem os mesmos riscos para a saúde e a segurança das pessoas, quer devido a lacunas das normas har- monizadas pertinentes quer devido às suas características téc- nicas, ou submeter essas máquinas a condições especiais',\n",
       "  'Foram ouvidos os órgãos de governo próprio das Re- giões Autónomas',\n",
       "  'Foram ouvidas as associações representativas do sector',\n",
       "  'Assim: Nos termos da alínea a) do n.º 1 do artigo 198.º da Cons- tituição, o Governo decreta o seguinte: CAPÍTULO I Disposições gerais Artigo 1.º Objecto O presente decreto- lei estabelece as regras a que deve obedecer a colocação no mercado e a entrada em serviço das máquinas bem como a colocação no mercado das quase -máquinas, transpondo para a ordem jurídica interna a Directiva n.º 2006/42/CE, do Parlamento Europeu e do Conselho, de 17 de Maio, relativa às máquinas e que al- tera a Directiva n.º 95/16/CE, do Parlamento Europeu e do Conselho, de 29 de Junho, relativa à aproximação das legislações dos Estados membros respeitantes aos ascensores',\n",
       "  'Artigo 2.º Âmbito de aplicação 1 — As disposições do presente decreto -lei aplicam -se aos seguintes produtos: a) Máquinas; b) Equipamento intermutável; c) Componentes de segurança; d) Acessórios de elevação; e) Correntes, cabos e correias; f) Dispositivos amovíveis de transmissão mecânica; g) Quase -máquinas',\n",
       "  '2 — Excluem -se do âmbito do presente decreto -lei: a) Os componentes de segurança destinados a substi- tuir componentes idênticos, fornecidos pelo fabricante da máquina de origem; b) Os materiais específicos para feiras e ou parques de atracções; c) As máquinas especialmente concebidas ou colocadas em serviço para utilização nuclear cuja avaria possa causar uma emissão de radioactividade; d) As armas, incluindo as armas de fogo; e) Os seguintes meios de transporte: i) Tractores agrícolas e florestais para os riscos cobertos pelo Decreto- Lei n.º 74/2005, de 24 de Março, que aprova',\n",
       "  'Diário da República, 1.ª série — N.º 120 — 24 de Junho de 2008 MINISTÉRIO DA ECONOMIA E DA INOVAÇÃO Decreto-Lei n.º 103/2008 de 24 de Junho O Decreto -Lei n.º 320/2001, de 12 de Dezembro, proce- deu à codificação da legislação nacional que regulamenta a colocação no mercado e entrada em serviço das máquinas, à semelhança do que foi efectuado a nível comunitário com a Directiva n.º 98/37/CE, do Parlamento Europeu e do Conselho, de 17 de Maio, relativa à aproximação das legis- lações dos Estados membros respeitantes às máquinas',\n",
       "  'A Directiva n.º 98/37/CE será revogada, a partir de 29 de Dezembro de 2009, pela Directiva n.º 2006/42/CE, do Parlamento Europeu e do Conselho, de 17 de Maio, relativa às máquinas e que altera a Directiva n.º 95/16/CE, do Par- lamento Europeu e do Conselho, de 29 de Junho, relativa à aproximação das legislações dos Estados membros res- peitantes aos ascensores, transposta para a ordem jurídica interna pelo Decreto -Lei n.º 295/98, de 22 de Setembro',\n",
       "  'No que diz respeito à alteração efectuada à Directiva n.º 95/16/CE pela Directiva n.º 2006/42/CE, que tem por objectivo clarificar a fronteira de aplicação entre a Direc- tiva Máquinas e a Directiva Ascensores, a transposição será assegurada por diploma autónomo, tendo por base, na ordem jurídica interna, o Decreto -Lei n.º 295/98, de 22 de Setembro',\n",
       "  'A Directiva n.º 2006/42/CE também delimita de forma precisa a fronteira entre o seu âmbito de aplicação e o da Directiva n.º 2006/95/CE, do Conselho, de 12 de Dezem- bro, relativa à harmonização das legislações dos Estados membros no domínio do material eléctrico destinado a ser utilizado dentro de certos limites de tensão, transposta para a ordem jurídica interna pelo Decreto- Lei n.º 6/2008, de 10 de Janeiro. Esta delimitação encontra -se reflectida no presente decreto -lei',\n",
       "  'O presente decreto -lei tem, assim, como objectivo regu- lamentar a colocação no mercado e a entrada em serviço das máquinas, transpondo para o ordenamento jurídico interno a Directiva n.º 2006/42/CE na parte que respeita às máquinas',\n",
       "  'Pretende -se com o presente decreto -lei consolidar os resultados alcançados em termos de livre circulação e de segurança das máquinas e simultaneamente melhorar a aplicação da legislação vigente, definindo com maior pre- cisão o âmbito e os conceitos relativos à sua aplicação',\n",
       "  'O âmbito de aplicação é alargado e são clarificadas as fronteiras com os regimes constantes dos Decretos -Leis n.os 295/98, de 22 de Setembro, e 6/2008, de 10 de Ja- neiro',\n",
       "  'É também clarificada a gama de componentes de segu- rança que estão sujeitos ao cumprimento das disposições do presente decreto -lei, sendo incluída, em anexo, uma lista indicativa de componentes de segurança. É introduzido o conceito de quase -máquinas e estabelecidas regras para a sua colocação no mercado',\n",
       "  'Foi efectuado um aprofundamento dos requisitos essen- ciais de saúde e de segurança no sentido de melhorar a sua precisão, alargar a aplicação de alguns, que actualmente são apenas aplicáveis a máquinas móveis ou de elevação, a qualquer máquina que apresente os riscos em questão e incluir novos requisitos aplicáveis aos tipos de máquinas introduzidos no âmbito, sendo mantida a estrutura actual, nomeadamente a numeração, para minimizar o impacte nos utilizadores.'],\n",
       " 'page': 1}"
      ]
     },
     "execution_count": 6,
     "metadata": {},
     "output_type": "execute_result"
    }
   ],
   "source": [
    "dataset[\"train\"][0]"
   ]
  },
  {
   "cell_type": "code",
   "execution_count": 4,
   "id": "ff05d794-de18-4674-83bb-44c8d10d3c5c",
   "metadata": {
    "execution": {
     "iopub.execute_input": "2024-02-17T20:38:55.690964Z",
     "iopub.status.busy": "2024-02-17T20:38:55.690475Z",
     "iopub.status.idle": "2024-02-17T20:38:55.701749Z",
     "shell.execute_reply": "2024-02-17T20:38:55.700293Z",
     "shell.execute_reply.started": "2024-02-17T20:38:55.690923Z"
    }
   },
   "outputs": [],
   "source": [
    "# Concatenate all utterances within a dialogue and map to 'dialog' key\n",
    "def concatenate_paragraphs(example):\n",
    "    example['page'] = \" \".join(example['text'])\n",
    "    return example\n",
    "\n",
    "dataset = dataset.map(concatenate_paragraphs)"
   ]
  },
  {
   "cell_type": "markdown",
   "id": "7bb19276-8bd1-472d-b254-639882c4d365",
   "metadata": {},
   "source": [
    "> Note: not sure if this is really needed, but for simplicity will make a whole text per example"
   ]
  },
  {
   "cell_type": "code",
   "execution_count": 5,
   "id": "55af3c70-e86f-4865-bc9b-49830c1d29d5",
   "metadata": {
    "execution": {
     "iopub.execute_input": "2024-02-17T20:39:20.936503Z",
     "iopub.status.busy": "2024-02-17T20:39:20.936105Z",
     "iopub.status.idle": "2024-02-17T20:39:25.656369Z",
     "shell.execute_reply": "2024-02-17T20:39:25.655662Z",
     "shell.execute_reply.started": "2024-02-17T20:39:20.936472Z"
    }
   },
   "outputs": [
    {
     "name": "stderr",
     "output_type": "stream",
     "text": [
      "/home/peterdays/Documents/personal/Volupal/ElevaQ/env/lib/python3.10/site-packages/torch/_utils.py:831: UserWarning: TypedStorage is deprecated. It will be removed in the future and UntypedStorage will be the only storage class. This should only matter to you if you are using storages directly.  To access UntypedStorage directly, use tensor.untyped_storage() instead of tensor.storage()\n",
      "  return self.fget.__get__(instance, owner)()\n"
     ]
    }
   ],
   "source": [
    "import numpy as np\n",
    "import tempfile\n",
    "from datasets import load_dataset\n",
    "from transformers import GPT2Tokenizer, GPT2LMHeadModel, TrainingArguments, Trainer\n",
    "import os\n",
    "\n",
    "os.environ[\"CUDA_VISIBLE_DEVICES\"] = \"0\"\n",
    "\n",
    "# Load the tokenizer and model\n",
    "tokenizer = GPT2Tokenizer.from_pretrained('microsoft/DialoGPT-medium')\n",
    "tokenizer.pad_token = tokenizer.eos_token\n",
    "model = GPT2LMHeadModel.from_pretrained('microsoft/DialoGPT-medium')"
   ]
  },
  {
   "cell_type": "code",
   "execution_count": 6,
   "id": "b777bdb8-7a90-4ac0-b985-6ce39d818ab8",
   "metadata": {
    "execution": {
     "iopub.execute_input": "2024-02-17T20:39:32.013700Z",
     "iopub.status.busy": "2024-02-17T20:39:32.011937Z",
     "iopub.status.idle": "2024-02-17T20:39:33.397834Z",
     "shell.execute_reply": "2024-02-17T20:39:33.396802Z",
     "shell.execute_reply.started": "2024-02-17T20:39:32.013621Z"
    }
   },
   "outputs": [],
   "source": [
    "# Encode the dataset\n",
    "# https://huggingface.co/docs/transformers/en/pad_truncation\n",
    "def encode(examples):\n",
    "    encoded = tokenizer(examples['page'], truncation=True, padding='max_length', max_length=128)\n",
    "    encoded['labels'] = encoded['input_ids'][:]\n",
    "\n",
    "    return encoded\n",
    "\n",
    "encoded_dataset = dataset.map(encode, batched=True)"
   ]
  },
  {
   "cell_type": "markdown",
   "id": "9c4190f6-3656-4781-a05f-a0fc5d401ac0",
   "metadata": {
    "execution": {
     "iopub.execute_input": "2024-02-05T22:46:09.102739Z",
     "iopub.status.busy": "2024-02-05T22:46:09.102005Z",
     "iopub.status.idle": "2024-02-05T22:46:09.143052Z",
     "shell.execute_reply": "2024-02-05T22:46:09.141608Z",
     "shell.execute_reply.started": "2024-02-05T22:46:09.102656Z"
    }
   },
   "source": [
    "## Training"
   ]
  },
  {
   "cell_type": "code",
   "execution_count": 7,
   "id": "faa65fdb-9802-4f32-a248-8c1d82bf8720",
   "metadata": {
    "execution": {
     "iopub.execute_input": "2024-02-17T20:39:38.916413Z",
     "iopub.status.busy": "2024-02-17T20:39:38.914651Z",
     "iopub.status.idle": "2024-02-17T20:39:39.670998Z",
     "shell.execute_reply": "2024-02-17T20:39:39.670200Z",
     "shell.execute_reply.started": "2024-02-17T20:39:38.916314Z"
    }
   },
   "outputs": [],
   "source": [
    "# Define training arguments\n",
    "training_args = TrainingArguments(\n",
    "    output_dir=tempfile.mkdtemp(),   # output directory\n",
    "    num_train_epochs=10,             # total number of training epochs\n",
    "    per_device_train_batch_size=16,  # batch size per device during training\n",
    "    per_device_eval_batch_size=64,   # batch size for evaluation\n",
    "    warmup_steps=500,                # number of warmup steps for learning rate scheduler\n",
    "    weight_decay=0.01,               # strength of weight decay\n",
    "    logging_dir=None,                # directory for storing logs\n",
    "    fp16=True                        # use floating point 16 bit precision for training\n",
    ")\n",
    "\n",
    "# Create Trainer\n",
    "trainer = Trainer(\n",
    "    model=model,\n",
    "    args=training_args,\n",
    "    train_dataset=encoded_dataset['train'],\n",
    "    eval_dataset=encoded_dataset['train']\n",
    ")"
   ]
  },
  {
   "cell_type": "markdown",
   "id": "de615ecb-e60c-4388-808e-a672b0305fea",
   "metadata": {},
   "source": [
    "# Evaluation"
   ]
  },
  {
   "cell_type": "code",
   "execution_count": null,
   "id": "b036b987-e794-41d1-b7ed-2cdb1a69a18b",
   "metadata": {},
   "outputs": [],
   "source": [
    "# Evaluate before fine-tuning\n",
    "pre_eval_results = trainer.evaluate(encoded_dataset['train'])"
   ]
  },
  {
   "cell_type": "code",
   "execution_count": 8,
   "id": "77244853-6b0e-4ef9-9df9-b1b54f33bc39",
   "metadata": {
    "execution": {
     "iopub.execute_input": "2024-02-17T20:39:59.801878Z",
     "iopub.status.busy": "2024-02-17T20:39:59.801477Z",
     "iopub.status.idle": "2024-02-17T20:40:00.827185Z",
     "shell.execute_reply": "2024-02-17T20:40:00.826276Z",
     "shell.execute_reply.started": "2024-02-17T20:39:59.801850Z"
    },
    "scrolled": true
   },
   "outputs": [
    {
     "data": {
      "text/html": [],
      "text/plain": [
       "<IPython.core.display.HTML object>"
      ]
     },
     "metadata": {},
     "output_type": "display_data"
    }
   ],
   "source": [
    "# Get predictions for validation set before fine tuning for 10 samples\n",
    "pre_val_predictions = trainer.predict(encoded_dataset['train'].select(range(10)))"
   ]
  },
  {
   "cell_type": "markdown",
   "id": "1be38ba7-055a-4e48-8c42-93f992fc50a9",
   "metadata": {},
   "source": [
    "TO DO: Add the gpu to this model!!!!!"
   ]
  },
  {
   "cell_type": "code",
   "execution_count": 9,
   "id": "5ad3a389-9844-4871-ad52-bb90b5a2115c",
   "metadata": {
    "execution": {
     "iopub.execute_input": "2024-02-17T20:40:04.609711Z",
     "iopub.status.busy": "2024-02-17T20:40:04.609183Z",
     "iopub.status.idle": "2024-02-17T20:40:04.628583Z",
     "shell.execute_reply": "2024-02-17T20:40:04.627194Z",
     "shell.execute_reply.started": "2024-02-17T20:40:04.609670Z"
    }
   },
   "outputs": [
    {
     "data": {
      "text/plain": [
       "PredictionOutput(predictions=array([[[ -8.5       , -13.9296875 , -15.6875    , ..., -13.1484375 ,\n",
       "         -13.1640625 ,  -5.1015625 ],\n",
       "        [ -7.6875    , -14.734375  , -16.953125  , ..., -14.328125  ,\n",
       "         -11.5078125 ,   3.6601562 ],\n",
       "        [ -6.625     , -14.3046875 , -14.0234375 , ..., -10.1328125 ,\n",
       "          -8.9453125 ,   5.1484375 ],\n",
       "        ...,\n",
       "        [ -2.2929688 , -11.546875  ,  -9.7421875 , ...,  -7.6328125 ,\n",
       "          -5.421875  ,  11.125     ],\n",
       "        [ -0.03117371,  -9.1875    ,  -9.3046875 , ...,  -7.5273438 ,\n",
       "          -6.7578125 ,  10.5625    ],\n",
       "        [  9.671875  ,  -1.6328125 ,  -1.4101562 , ...,   6.6835938 ,\n",
       "           5.8554688 ,  28.234375  ]],\n",
       "\n",
       "       [[ -8.53125   , -13.8984375 , -15.671875  , ..., -13.078125  ,\n",
       "         -13.203125  ,  -5.0820312 ],\n",
       "        [ -5.421875  , -11.4375    , -12.7265625 , ..., -10.6484375 ,\n",
       "          -9.140625  ,   0.55078125],\n",
       "        [ -8.015625  , -16.140625  , -16.1875    , ..., -14.03125   ,\n",
       "         -10.046875  ,   4.4414062 ],\n",
       "        ...,\n",
       "        [ -1.1328125 , -12.1796875 , -10.1953125 , ...,  -6.8476562 ,\n",
       "          -5.6445312 ,   9.75      ],\n",
       "        [  7.734375  ,  -5.6367188 ,  -5.1640625 , ...,   1.4082031 ,\n",
       "           0.1472168 ,  18.46875   ],\n",
       "        [  5.8554688 ,  -4.5703125 ,  -4.1289062 , ...,   1.6611328 ,\n",
       "           1.6523438 ,  22.34375   ]],\n",
       "\n",
       "       [[ -8.5       , -13.9296875 , -15.6875    , ..., -13.1484375 ,\n",
       "         -13.1640625 ,  -5.1015625 ],\n",
       "        [ -7.6875    , -14.734375  , -16.953125  , ..., -14.328125  ,\n",
       "         -11.5078125 ,   3.6601562 ],\n",
       "        [ -5.4492188 , -14.03125   , -13.671875  , ...,  -9.3046875 ,\n",
       "          -7.6835938 ,   5.7226562 ],\n",
       "        ...,\n",
       "        [ -3.3886719 ,  -7.9101562 ,  -8.9609375 , ...,  -5.828125  ,\n",
       "          -5.609375  ,   6.875     ],\n",
       "        [  1.875     , -11.0390625 ,  -9.3671875 , ...,  -6.7148438 ,\n",
       "          -5.7109375 ,  12.9921875 ],\n",
       "        [  6.0585938 ,  -3.6425781 ,  -3.5742188 , ...,   2.1835938 ,\n",
       "           2.6835938 ,  24.890625  ]],\n",
       "\n",
       "       ...,\n",
       "\n",
       "       [[ -8.53125   , -13.8984375 , -15.671875  , ..., -13.078125  ,\n",
       "         -13.203125  ,  -5.0820312 ],\n",
       "        [ -5.421875  , -11.4375    , -12.7265625 , ..., -10.6484375 ,\n",
       "          -9.140625  ,   0.55078125],\n",
       "        [ -8.015625  , -16.140625  , -16.1875    , ..., -14.03125   ,\n",
       "         -10.046875  ,   4.4414062 ],\n",
       "        ...,\n",
       "        [ -0.41625977,  -8.46875   ,  -6.7617188 , ...,  -3.4199219 ,\n",
       "          -4.4453125 ,  14.6640625 ],\n",
       "        [ -0.98095703,  -8.5859375 ,  -8.2890625 , ...,  -7.5664062 ,\n",
       "          -3.9160156 ,   7.5625    ],\n",
       "        [  7.7734375 ,  -2.2539062 ,  -3.1347656 , ...,   3.6152344 ,\n",
       "           4.640625  ,  24.828125  ]],\n",
       "\n",
       "       [[ -8.5       , -13.9296875 , -15.6875    , ..., -13.1484375 ,\n",
       "         -13.1640625 ,  -5.1015625 ],\n",
       "        [ -8.359375  , -16.296875  , -16.75      , ..., -13.9765625 ,\n",
       "         -11.0625    ,   3.3984375 ],\n",
       "        [ -8.        , -14.875     , -13.578125  , ...,  -9.84375   ,\n",
       "          -9.8984375 ,   5.0625    ],\n",
       "        ...,\n",
       "        [  4.2265625 ,  -5.2851562 ,  -4.1171875 , ...,  -1.6181641 ,\n",
       "          -1.2001953 ,  12.8125    ],\n",
       "        [ -1.0273438 , -10.09375   ,  -9.140625  , ...,  -6.5859375 ,\n",
       "          -6.8476562 ,   9.296875  ],\n",
       "        [  5.6953125 ,  -5.1640625 ,  -3.1914062 , ...,   1.40625   ,\n",
       "           1.6240234 ,  24.46875   ]],\n",
       "\n",
       "       [[ -8.53125   , -13.8984375 , -15.671875  , ..., -13.078125  ,\n",
       "         -13.203125  ,  -5.0820312 ],\n",
       "        [ -5.421875  , -11.4375    , -12.7265625 , ..., -10.6484375 ,\n",
       "          -9.140625  ,   0.55078125],\n",
       "        [ -8.015625  , -16.140625  , -16.1875    , ..., -14.03125   ,\n",
       "         -10.046875  ,   4.4414062 ],\n",
       "        ...,\n",
       "        [ -4.4726562 , -10.1328125 , -10.3828125 , ...,  -6.0585938 ,\n",
       "          -5.9921875 ,   7.0429688 ],\n",
       "        [ -2.2734375 ,  -9.9296875 ,  -8.8359375 , ...,  -7.7070312 ,\n",
       "          -3.4257812 ,   9.125     ],\n",
       "        [  7.7851562 ,  -1.7451172 ,  -1.640625  , ...,   3.8632812 ,\n",
       "           4.4453125 ,  26.59375   ]]], dtype=float32), label_ids=array([[   23,  5214,  2996, ...,   626,   401, 20850],\n",
       "       [18683,  6557, 27250, ..., 38396,   532,   325],\n",
       "       [   23,  5214,  3134, ...,   421,  1437,   267],\n",
       "       ...,\n",
       "       [18683,  6557, 27250, ...,   271,   848,   411],\n",
       "       [   23, 42163,    18, ...,  6557,   256,  1428],\n",
       "       [18683,  6557, 27250, ...,   909,  4359,    64]]), metrics={'test_loss': 7.181562900543213, 'test_runtime': 1.0136, 'test_samples_per_second': 9.866, 'test_steps_per_second': 0.987})"
      ]
     },
     "execution_count": 9,
     "metadata": {},
     "output_type": "execute_result"
    }
   ],
   "source": [
    "pre_val_predictions"
   ]
  },
  {
   "cell_type": "code",
   "execution_count": null,
   "id": "735001f6-1cdf-4fc1-8570-b94e1d193e4c",
   "metadata": {},
   "outputs": [],
   "source": []
  }
 ],
 "metadata": {
  "kernelspec": {
   "display_name": "Python 3 (ipykernel)",
   "language": "python",
   "name": "python3"
  },
  "language_info": {
   "codemirror_mode": {
    "name": "ipython",
    "version": 3
   },
   "file_extension": ".py",
   "mimetype": "text/x-python",
   "name": "python",
   "nbconvert_exporter": "python",
   "pygments_lexer": "ipython3",
   "version": "3.10.12"
  }
 },
 "nbformat": 4,
 "nbformat_minor": 5
}
