{
 "cells": [
  {
   "cell_type": "code",
   "execution_count": 1,
   "id": "b9f3a7cc-f23a-43fd-8f29-050ddc6bf431",
   "metadata": {
    "execution": {
     "iopub.execute_input": "2024-02-19T21:55:36.580595Z",
     "iopub.status.busy": "2024-02-19T21:55:36.580223Z",
     "iopub.status.idle": "2024-02-19T21:55:36.594754Z",
     "shell.execute_reply": "2024-02-19T21:55:36.594138Z",
     "shell.execute_reply.started": "2024-02-19T21:55:36.580577Z"
    }
   },
   "outputs": [],
   "source": [
    "%load_ext autoreload\n",
    "%autoreload 2"
   ]
  },
  {
   "cell_type": "markdown",
   "id": "a0e90f14-a776-47b2-9265-ff4fb8689608",
   "metadata": {},
   "source": [
    "> this notebook will follow the tutorial in:\n",
    "https://blog.gopenai.com/fine-tuning-dialogpt-medium-on-daily-dialog-dataset-a-step-by-step-guide-4eaecc1b9323"
   ]
  },
  {
   "cell_type": "code",
   "execution_count": 2,
   "id": "4453318c-3fa5-4b1e-86d1-af7ec9ef15a0",
   "metadata": {
    "execution": {
     "iopub.execute_input": "2024-02-19T21:04:00.324327Z",
     "iopub.status.busy": "2024-02-19T21:04:00.324111Z",
     "iopub.status.idle": "2024-02-19T21:04:05.079107Z",
     "shell.execute_reply": "2024-02-19T21:04:05.078568Z",
     "shell.execute_reply.started": "2024-02-19T21:04:00.324310Z"
    },
    "scrolled": true
   },
   "outputs": [
    {
     "name": "stdout",
     "output_type": "stream",
     "text": [
      "Requirement already satisfied: transformers in ./env/lib/python3.10/site-packages (4.37.2)\n",
      "Requirement already satisfied: filelock in ./env/lib/python3.10/site-packages (from transformers) (3.13.1)\n",
      "Requirement already satisfied: huggingface-hub<1.0,>=0.19.3 in ./env/lib/python3.10/site-packages (from transformers) (0.20.3)\n",
      "Requirement already satisfied: numpy>=1.17 in ./env/lib/python3.10/site-packages (from transformers) (1.26.4)\n",
      "Requirement already satisfied: packaging>=20.0 in ./env/lib/python3.10/site-packages (from transformers) (23.2)\n",
      "Requirement already satisfied: pyyaml>=5.1 in ./env/lib/python3.10/site-packages (from transformers) (6.0.1)\n",
      "Requirement already satisfied: regex!=2019.12.17 in ./env/lib/python3.10/site-packages (from transformers) (2023.12.25)\n",
      "Requirement already satisfied: requests in ./env/lib/python3.10/site-packages (from transformers) (2.31.0)\n",
      "Requirement already satisfied: tokenizers<0.19,>=0.14 in ./env/lib/python3.10/site-packages (from transformers) (0.15.2)\n",
      "Requirement already satisfied: safetensors>=0.4.1 in ./env/lib/python3.10/site-packages (from transformers) (0.4.2)\n",
      "Requirement already satisfied: tqdm>=4.27 in ./env/lib/python3.10/site-packages (from transformers) (4.66.2)\n",
      "Requirement already satisfied: fsspec>=2023.5.0 in ./env/lib/python3.10/site-packages (from huggingface-hub<1.0,>=0.19.3->transformers) (2023.10.0)\n",
      "Requirement already satisfied: typing-extensions>=3.7.4.3 in ./env/lib/python3.10/site-packages (from huggingface-hub<1.0,>=0.19.3->transformers) (4.9.0)\n",
      "Requirement already satisfied: charset-normalizer<4,>=2 in ./env/lib/python3.10/site-packages (from requests->transformers) (3.3.2)\n",
      "Requirement already satisfied: idna<4,>=2.5 in ./env/lib/python3.10/site-packages (from requests->transformers) (3.6)\n",
      "Requirement already satisfied: urllib3<3,>=1.21.1 in ./env/lib/python3.10/site-packages (from requests->transformers) (2.2.1)\n",
      "Requirement already satisfied: certifi>=2017.4.17 in ./env/lib/python3.10/site-packages (from requests->transformers) (2024.2.2)\n",
      "Requirement already satisfied: datasets in ./env/lib/python3.10/site-packages (2.17.1)\n",
      "Requirement already satisfied: filelock in ./env/lib/python3.10/site-packages (from datasets) (3.13.1)\n",
      "Requirement already satisfied: numpy>=1.17 in ./env/lib/python3.10/site-packages (from datasets) (1.26.4)\n",
      "Requirement already satisfied: pyarrow>=12.0.0 in ./env/lib/python3.10/site-packages (from datasets) (15.0.0)\n",
      "Requirement already satisfied: pyarrow-hotfix in ./env/lib/python3.10/site-packages (from datasets) (0.6)\n",
      "Requirement already satisfied: dill<0.3.9,>=0.3.0 in ./env/lib/python3.10/site-packages (from datasets) (0.3.8)\n",
      "Requirement already satisfied: pandas in ./env/lib/python3.10/site-packages (from datasets) (2.1.4)\n",
      "Requirement already satisfied: requests>=2.19.0 in ./env/lib/python3.10/site-packages (from datasets) (2.31.0)\n",
      "Requirement already satisfied: tqdm>=4.62.1 in ./env/lib/python3.10/site-packages (from datasets) (4.66.2)\n",
      "Requirement already satisfied: xxhash in ./env/lib/python3.10/site-packages (from datasets) (3.4.1)\n",
      "Requirement already satisfied: multiprocess in ./env/lib/python3.10/site-packages (from datasets) (0.70.16)\n",
      "Requirement already satisfied: fsspec<=2023.10.0,>=2023.1.0 in ./env/lib/python3.10/site-packages (from fsspec[http]<=2023.10.0,>=2023.1.0->datasets) (2023.10.0)\n",
      "Requirement already satisfied: aiohttp in ./env/lib/python3.10/site-packages (from datasets) (3.9.3)\n",
      "Requirement already satisfied: huggingface-hub>=0.19.4 in ./env/lib/python3.10/site-packages (from datasets) (0.20.3)\n",
      "Requirement already satisfied: packaging in ./env/lib/python3.10/site-packages (from datasets) (23.2)\n",
      "Requirement already satisfied: pyyaml>=5.1 in ./env/lib/python3.10/site-packages (from datasets) (6.0.1)\n",
      "Requirement already satisfied: aiosignal>=1.1.2 in ./env/lib/python3.10/site-packages (from aiohttp->datasets) (1.3.1)\n",
      "Requirement already satisfied: attrs>=17.3.0 in ./env/lib/python3.10/site-packages (from aiohttp->datasets) (23.2.0)\n",
      "Requirement already satisfied: frozenlist>=1.1.1 in ./env/lib/python3.10/site-packages (from aiohttp->datasets) (1.4.1)\n",
      "Requirement already satisfied: multidict<7.0,>=4.5 in ./env/lib/python3.10/site-packages (from aiohttp->datasets) (6.0.5)\n",
      "Requirement already satisfied: yarl<2.0,>=1.0 in ./env/lib/python3.10/site-packages (from aiohttp->datasets) (1.9.4)\n",
      "Requirement already satisfied: async-timeout<5.0,>=4.0 in ./env/lib/python3.10/site-packages (from aiohttp->datasets) (4.0.3)\n",
      "Requirement already satisfied: typing-extensions>=3.7.4.3 in ./env/lib/python3.10/site-packages (from huggingface-hub>=0.19.4->datasets) (4.9.0)\n",
      "Requirement already satisfied: charset-normalizer<4,>=2 in ./env/lib/python3.10/site-packages (from requests>=2.19.0->datasets) (3.3.2)\n",
      "Requirement already satisfied: idna<4,>=2.5 in ./env/lib/python3.10/site-packages (from requests>=2.19.0->datasets) (3.6)\n",
      "Requirement already satisfied: urllib3<3,>=1.21.1 in ./env/lib/python3.10/site-packages (from requests>=2.19.0->datasets) (2.2.1)\n",
      "Requirement already satisfied: certifi>=2017.4.17 in ./env/lib/python3.10/site-packages (from requests>=2.19.0->datasets) (2024.2.2)\n",
      "Requirement already satisfied: python-dateutil>=2.8.2 in ./env/lib/python3.10/site-packages (from pandas->datasets) (2.8.2)\n",
      "Requirement already satisfied: pytz>=2020.1 in ./env/lib/python3.10/site-packages (from pandas->datasets) (2024.1)\n",
      "Requirement already satisfied: tzdata>=2022.1 in ./env/lib/python3.10/site-packages (from pandas->datasets) (2024.1)\n",
      "Requirement already satisfied: six>=1.5 in ./env/lib/python3.10/site-packages (from python-dateutil>=2.8.2->pandas->datasets) (1.16.0)\n",
      "Requirement already satisfied: accelerate in ./env/lib/python3.10/site-packages (0.27.2)\n",
      "Requirement already satisfied: numpy>=1.17 in ./env/lib/python3.10/site-packages (from accelerate) (1.26.4)\n",
      "Requirement already satisfied: packaging>=20.0 in ./env/lib/python3.10/site-packages (from accelerate) (23.2)\n",
      "Requirement already satisfied: psutil in ./env/lib/python3.10/site-packages (from accelerate) (5.9.8)\n",
      "Requirement already satisfied: pyyaml in ./env/lib/python3.10/site-packages (from accelerate) (6.0.1)\n",
      "Requirement already satisfied: torch>=1.10.0 in ./env/lib/python3.10/site-packages (from accelerate) (2.0.1)\n",
      "Requirement already satisfied: huggingface-hub in ./env/lib/python3.10/site-packages (from accelerate) (0.20.3)\n",
      "Requirement already satisfied: safetensors>=0.3.1 in ./env/lib/python3.10/site-packages (from accelerate) (0.4.2)\n",
      "Requirement already satisfied: filelock in ./env/lib/python3.10/site-packages (from torch>=1.10.0->accelerate) (3.13.1)\n",
      "Requirement already satisfied: typing-extensions in ./env/lib/python3.10/site-packages (from torch>=1.10.0->accelerate) (4.9.0)\n",
      "Requirement already satisfied: sympy in ./env/lib/python3.10/site-packages (from torch>=1.10.0->accelerate) (1.12)\n",
      "Requirement already satisfied: networkx in ./env/lib/python3.10/site-packages (from torch>=1.10.0->accelerate) (3.2.1)\n",
      "Requirement already satisfied: jinja2 in ./env/lib/python3.10/site-packages (from torch>=1.10.0->accelerate) (3.1.3)\n",
      "Requirement already satisfied: nvidia-cuda-nvrtc-cu11==11.7.99 in ./env/lib/python3.10/site-packages (from torch>=1.10.0->accelerate) (11.7.99)\n",
      "Requirement already satisfied: nvidia-cuda-runtime-cu11==11.7.99 in ./env/lib/python3.10/site-packages (from torch>=1.10.0->accelerate) (11.7.99)\n",
      "Requirement already satisfied: nvidia-cuda-cupti-cu11==11.7.101 in ./env/lib/python3.10/site-packages (from torch>=1.10.0->accelerate) (11.7.101)\n",
      "Requirement already satisfied: nvidia-cudnn-cu11==8.5.0.96 in ./env/lib/python3.10/site-packages (from torch>=1.10.0->accelerate) (8.5.0.96)\n",
      "Requirement already satisfied: nvidia-cublas-cu11==11.10.3.66 in ./env/lib/python3.10/site-packages (from torch>=1.10.0->accelerate) (11.10.3.66)\n",
      "Requirement already satisfied: nvidia-cufft-cu11==10.9.0.58 in ./env/lib/python3.10/site-packages (from torch>=1.10.0->accelerate) (10.9.0.58)\n",
      "Requirement already satisfied: nvidia-curand-cu11==10.2.10.91 in ./env/lib/python3.10/site-packages (from torch>=1.10.0->accelerate) (10.2.10.91)\n",
      "Requirement already satisfied: nvidia-cusolver-cu11==11.4.0.1 in ./env/lib/python3.10/site-packages (from torch>=1.10.0->accelerate) (11.4.0.1)\n",
      "Requirement already satisfied: nvidia-cusparse-cu11==11.7.4.91 in ./env/lib/python3.10/site-packages (from torch>=1.10.0->accelerate) (11.7.4.91)\n",
      "Requirement already satisfied: nvidia-nccl-cu11==2.14.3 in ./env/lib/python3.10/site-packages (from torch>=1.10.0->accelerate) (2.14.3)\n",
      "Requirement already satisfied: nvidia-nvtx-cu11==11.7.91 in ./env/lib/python3.10/site-packages (from torch>=1.10.0->accelerate) (11.7.91)\n",
      "Requirement already satisfied: triton==2.0.0 in ./env/lib/python3.10/site-packages (from torch>=1.10.0->accelerate) (2.0.0)\n",
      "Requirement already satisfied: setuptools in ./env/lib/python3.10/site-packages (from nvidia-cublas-cu11==11.10.3.66->torch>=1.10.0->accelerate) (65.5.0)\n",
      "Requirement already satisfied: wheel in ./env/lib/python3.10/site-packages (from nvidia-cublas-cu11==11.10.3.66->torch>=1.10.0->accelerate) (0.42.0)\n",
      "Requirement already satisfied: cmake in ./env/lib/python3.10/site-packages (from triton==2.0.0->torch>=1.10.0->accelerate) (3.28.3)\n",
      "Requirement already satisfied: lit in ./env/lib/python3.10/site-packages (from triton==2.0.0->torch>=1.10.0->accelerate) (17.0.6)\n",
      "Requirement already satisfied: fsspec>=2023.5.0 in ./env/lib/python3.10/site-packages (from huggingface-hub->accelerate) (2023.10.0)\n",
      "Requirement already satisfied: requests in ./env/lib/python3.10/site-packages (from huggingface-hub->accelerate) (2.31.0)\n",
      "Requirement already satisfied: tqdm>=4.42.1 in ./env/lib/python3.10/site-packages (from huggingface-hub->accelerate) (4.66.2)\n",
      "Requirement already satisfied: MarkupSafe>=2.0 in ./env/lib/python3.10/site-packages (from jinja2->torch>=1.10.0->accelerate) (2.1.5)\n",
      "Requirement already satisfied: charset-normalizer<4,>=2 in ./env/lib/python3.10/site-packages (from requests->huggingface-hub->accelerate) (3.3.2)\n",
      "Requirement already satisfied: idna<4,>=2.5 in ./env/lib/python3.10/site-packages (from requests->huggingface-hub->accelerate) (3.6)\n",
      "Requirement already satisfied: urllib3<3,>=1.21.1 in ./env/lib/python3.10/site-packages (from requests->huggingface-hub->accelerate) (2.2.1)\n",
      "Requirement already satisfied: certifi>=2017.4.17 in ./env/lib/python3.10/site-packages (from requests->huggingface-hub->accelerate) (2024.2.2)\n",
      "Requirement already satisfied: mpmath>=0.19 in ./env/lib/python3.10/site-packages (from sympy->torch>=1.10.0->accelerate) (1.3.0)\n"
     ]
    }
   ],
   "source": [
    "!pip install -U transformers\n",
    "!pip install datasets\n",
    "!pip install -U accelerate"
   ]
  },
  {
   "cell_type": "markdown",
   "id": "082a8aa2-047a-43ae-bcde-56e23f48c6c9",
   "metadata": {},
   "source": [
    "# make my own dataset"
   ]
  },
  {
   "cell_type": "code",
   "execution_count": 2,
   "id": "a0f0a4b1-a071-446a-8fb9-2604542b6447",
   "metadata": {
    "execution": {
     "iopub.execute_input": "2024-02-19T21:13:21.765673Z",
     "iopub.status.busy": "2024-02-19T21:13:21.765309Z",
     "iopub.status.idle": "2024-02-19T21:13:21.772716Z",
     "shell.execute_reply": "2024-02-19T21:13:21.772131Z",
     "shell.execute_reply.started": "2024-02-19T21:13:21.765655Z"
    }
   },
   "outputs": [],
   "source": [
    "# https://huggingface.co/learn/nlp-course/chapter5/5\n",
    "# https://huggingface.co/learn/nlp-course/chapter5/2"
   ]
  },
  {
   "cell_type": "code",
   "execution_count": 12,
   "id": "d5eb83a7-2330-46ad-a22f-a80cca669419",
   "metadata": {
    "execution": {
     "iopub.execute_input": "2024-02-19T21:56:39.359867Z",
     "iopub.status.busy": "2024-02-19T21:56:39.359410Z",
     "iopub.status.idle": "2024-02-19T21:56:39.376591Z",
     "shell.execute_reply": "2024-02-19T21:56:39.376119Z",
     "shell.execute_reply.started": "2024-02-19T21:56:39.359849Z"
    }
   },
   "outputs": [],
   "source": [
    "from datasets import load_dataset\n",
    "from glob import glob"
   ]
  },
  {
   "cell_type": "code",
   "execution_count": 13,
   "id": "e92d28bf-d212-464e-a7c1-31d181ddf324",
   "metadata": {
    "execution": {
     "iopub.execute_input": "2024-02-19T21:56:39.706451Z",
     "iopub.status.busy": "2024-02-19T21:56:39.705886Z",
     "iopub.status.idle": "2024-02-19T21:56:39.724748Z",
     "shell.execute_reply": "2024-02-19T21:56:39.724101Z",
     "shell.execute_reply.started": "2024-02-19T21:56:39.706427Z"
    }
   },
   "outputs": [
    {
     "data": {
      "text/plain": [
       "['data/dlr7_2016-m.json',\n",
       " 'data/DL103_2008.json',\n",
       " 'data/0331103315.json',\n",
       " 'data/DL320_2002.json',\n",
       " 'data/L65_2013.json',\n",
       " 'data/DLR4_2012_A.json',\n",
       " 'data/0288702916.json']"
      ]
     },
     "execution_count": 13,
     "metadata": {},
     "output_type": "execute_result"
    }
   ],
   "source": [
    "glob('data/*.json')"
   ]
  },
  {
   "cell_type": "markdown",
   "id": "fe6ef9a0-624d-4557-83b1-2d77bf194189",
   "metadata": {},
   "source": [
    "we can also set the splits\n",
    "\n",
    "`data_files = {\"train\": \"json_example.json\", \"test\": \"json_example.json\"}`\n",
    "`dataset = load_dataset(\"json\", data_files=data_files, field=\"data\")`"
   ]
  },
  {
   "cell_type": "code",
   "execution_count": 14,
   "id": "2a66f020-e58e-4f87-8c59-54c361828133",
   "metadata": {
    "execution": {
     "iopub.execute_input": "2024-02-19T21:56:41.105051Z",
     "iopub.status.busy": "2024-02-19T21:56:41.104527Z",
     "iopub.status.idle": "2024-02-19T21:56:41.776733Z",
     "shell.execute_reply": "2024-02-19T21:56:41.776270Z",
     "shell.execute_reply.started": "2024-02-19T21:56:41.105029Z"
    }
   },
   "outputs": [],
   "source": [
    "dataset = load_dataset(\"json\", data_files=glob('data/*.json'))\n",
    "\n",
    "# train test split\n",
    "dataset = dataset[\"train\"].train_test_split(test_size=0.20)"
   ]
  },
  {
   "cell_type": "code",
   "execution_count": 15,
   "id": "0ebcdf67-1352-46d6-a383-3fef1db122ca",
   "metadata": {
    "execution": {
     "iopub.execute_input": "2024-02-19T21:56:41.777631Z",
     "iopub.status.busy": "2024-02-19T21:56:41.777465Z",
     "iopub.status.idle": "2024-02-19T21:56:41.795819Z",
     "shell.execute_reply": "2024-02-19T21:56:41.795396Z",
     "shell.execute_reply.started": "2024-02-19T21:56:41.777613Z"
    }
   },
   "outputs": [
    {
     "data": {
      "text/plain": [
       "DatasetDict({\n",
       "    train: Dataset({\n",
       "        features: ['text', 'page'],\n",
       "        num_rows: 84\n",
       "    })\n",
       "    test: Dataset({\n",
       "        features: ['text', 'page'],\n",
       "        num_rows: 22\n",
       "    })\n",
       "})"
      ]
     },
     "execution_count": 15,
     "metadata": {},
     "output_type": "execute_result"
    }
   ],
   "source": [
    "dataset"
   ]
  },
  {
   "cell_type": "code",
   "execution_count": 16,
   "id": "c149d2a5-a476-4cce-8c9a-114be87d2a7c",
   "metadata": {
    "execution": {
     "iopub.execute_input": "2024-02-19T21:56:48.776850Z",
     "iopub.status.busy": "2024-02-19T21:56:48.776568Z",
     "iopub.status.idle": "2024-02-19T21:56:48.803776Z",
     "shell.execute_reply": "2024-02-19T21:56:48.803237Z",
     "shell.execute_reply.started": "2024-02-19T21:56:48.776826Z"
    },
    "scrolled": true
   },
   "outputs": [
    {
     "data": {
      "text/plain": [
       "{'text': ['Diário da República, 1.ª série — N.º 120 — 24 de Junho de 2008 A energia residual ou acumulada que possa subsistir após o isolamento da máquina deve poder ser dissipada sem risco para as pessoas',\n",
       "  'A título de excepção ao requisito previsto nos parágrafos precedentes, determinados circuitos podem não ser isola- dos da sua fonte de energia a fim de permitir, por exemplo, a manutenção de peças, a salvaguarda de informações, a iluminação das partes internas, etc. Neste caso, devem ser tomadas disposições especiais para garantir a segurança dos operadores',\n",
       "  '1.6.4 — Intervenção do operador. — A máquina deve ser concebida, fabricada e equipada de forma a limitar a necessidade de intervenção dos operadores. Sempre que não for possível evitar a intervenção de um operador, esta deve poder efectuar -se facilmente e com segurança',\n",
       "  '1.6.5 — Limpeza das partes internas. — A máquina deve ser concebida e construída de modo a que a limpeza das suas partes internas que tenham contido substâncias ou prepara- ções perigosas seja possível sem que seja necessário nelas penetrar; de igual modo, a sua eventual desobstrução deve poder efectuar -se do exterior. Se for impossível evitar penetrar na máquina, esta deverá ter sido concebida e construída por forma que a limpeza possa ser efectuada com segurança',\n",
       "  '1.7 — Informações: 1.7.1 — Informações e avisos apostos na máquina. — As in- formações e avisos apostos na máquina deverão, de preferência, constar de símbolos ou pictogramas facilmente compreensíveis',\n",
       "  'Quaisquer informações e avisos escritos ou verbais devem ser expressos em português e ou na ou nas línguas oficiais da Co- munidade que forem determinadas, nos termos do Tratado, pelo Estado membro em que a máquina for colocada no mercado e ou entrar em serviço e devem ser acompanhados, a pedido, de versões em outra(s) língua(s) oficial(ais) da Comunidade compreendidas pelos operadores',\n",
       "  '1.7.1.1 — Informações e dispositivos de informação. — As informações necessárias à utilização de uma máquina devem ser facultadas sob uma forma inequí- voca e de fácil compreensão. Essas informações não devem ser excessivas a ponto de sobrecarregar o operador',\n",
       "  'Os ecrãs de visualização ou qualquer outro meio de comunicação interactivo entre o operador e a máquina devem ser de fácil compreensão e utilização',\n",
       "  '1.7.1.2 — Dispositivos de alerta. — Se a segurança e a saúde das pessoas puderem ser postas em perigo devido ao funcionamento deficiente de uma máquina não sujeita a vigilância, esta deve ser equipada de modo a transmitir um sinal de aviso sonoro ou luminoso adequado',\n",
       "  'Se a máquina estiver equipada com dispositivos de alerta, estes devem poder ser compreendidos sem ambi- guidades e ser facilmente perceptíveis. Devem ser tomadas medidas para permitir ao operador verificar em permanên- cia da eficácia desses dispositivos de alerta',\n",
       "  'Deve aplicar -se o disposto nas directivas comunitárias específicas em matéria de cores e sinais de segurança',\n",
       "  '1.7.2 — Avisos sobre os riscos residuais. — Quando continuarem a existir riscos, apesar de a segurança ter sido integrada na concepção da máquina e de terem sido adoptadas medidas de segurança e medidas de protecção complementares, devem ser colocados os avisos necessá- rios, incluindo dispositivos de alerta',\n",
       "  '1.7.3 — Marcação das máquinas. — Cada máquina deve ostentar, de modo visível, legível e indelével, as seguintes indicações mínimas: — Denominação social e endereço completo do fabri- cante e, se for o caso, do seu mandatário;',\n",
       "  '3778 D sitivos de confinamento e ou de evacuação devem estar situados de modo a produzir o máximo efeito',\n",
       "  '1.5.14 — Risco de aprisionamento numa máquina. — A máquina deve ser concebida, fabricada ou equipada com meios que permitam evitar que qualquer pessoa fique nela encarcerada ou, se tal não for possível, que permitam pedir ajuda',\n",
       "  '1.5.15 — Risco de escorregar, tropeçar ou cair. — As partes da máquina sobre as quais se prevê que possa haver pessoas a deslocar -se ou a estacionar devem ser conce- bidas e fabricadas de modo a evitar que essas pessoas escorreguem, tropecem ou caiam sobre essas partes ou fora delas',\n",
       "  'Se necessário, essas partes devem estar equipadas com meios para as pessoas se agarrarem, os quais devem estar numa posição fixa em relação ao utilizador e permitir -lhe manter a sua estabilidade',\n",
       "  '1.5.16 — Descargas atmosféricas. — As máquinas que necessitem de protecção contra os efeitos das descargas atmosféricas durante a sua utilização devem ser equipadas com um sistema que permita escoar para a terra as cargas eléctricas resultantes',\n",
       "  '1.6 — Manutenção: 1.6.1 — Manutenção da máquina. — Os pontos de re- gulação e de manutenção devem estar situados fora das zonas perigosas. As operações de regulação, manutenção, reparação e limpeza da máquina, bem como outras inter- venções na máquina, devem poder ser efectuadas com a máquina parada',\n",
       "  'Se pelo menos uma das condições precedentes não pu- der, por razões técnicas, ser satisfeita, deverão ser tomadas medidas para garantir que essas operações possam ser efectuadas com segurança (v. n.º 1.2.5)',\n",
       "  'No caso das máquinas automáticas e, eventualmente, no caso de outras máquinas, deverá prever -se um dispo- sitivo de ligação que permita montar um equipamento de diagnóstico de busca de avarias',\n",
       "  'Os elementos de uma máquina automática que tenham de ser frequentemente substituídos deverão poder ser des- montados e novamente montados com facilidade e em segurança. O acesso a estes elementos deverá permitir a execução de tais tarefas com os meios técnicos necessários, de acordo com instruções previstas',\n",
       "  '1.6.2 — Acesso aos postos de trabalho e aos pontos de intervenção. — A máquina deve ser concebida e fabricada de forma a dispor de meios de acesso que permitam atingir, com segurança, todos os locais em que seja necessária uma intervenção durante o funcionamento, a regulação e a manutenção da máquina',\n",
       "  '1.6.3 — Isolamento das fontes de energia. — A má- quina deve ser equipada com dispositivos que permitam isolá -la de todas as fontes de energia. Estes dispositivos devem estar claramente identificados. Se a sua reconexão apresentar perigo para as pessoas, devem ser bloqueáveis',\n",
       "  'Estes dispositivos devem igualmente ser bloqueáveis se o operador não puder, de todos os locais a que tem de aceder, verificar que se mantém o isolamento em relação às fontes de energia',\n",
       "  'No caso de uma máquina que possa ser ligada a uma alimentação eléctrica por meio de uma ficha, basta que exista a possibilidade de retirar a ficha da tomada, desde que o operador possa, de todos os locais a que tem de aceder, verificar que a ficha se mantém retirada.'],\n",
       " 'page': 14}"
      ]
     },
     "execution_count": 16,
     "metadata": {},
     "output_type": "execute_result"
    }
   ],
   "source": [
    "dataset[\"train\"][0]"
   ]
  },
  {
   "cell_type": "code",
   "execution_count": 7,
   "id": "ff05d794-de18-4674-83bb-44c8d10d3c5c",
   "metadata": {
    "execution": {
     "iopub.execute_input": "2024-02-19T21:55:44.031252Z",
     "iopub.status.busy": "2024-02-19T21:55:44.030770Z",
     "iopub.status.idle": "2024-02-19T21:55:44.065282Z",
     "shell.execute_reply": "2024-02-19T21:55:44.064713Z",
     "shell.execute_reply.started": "2024-02-19T21:55:44.031230Z"
    }
   },
   "outputs": [
    {
     "name": "stderr",
     "output_type": "stream",
     "text": [
      "Map: 100%|████████████████████████████████████████████████████████████████████████████████████████████████| 84/84 [00:00<00:00, 5937.74 examples/s]\n",
      "Map: 100%|████████████████████████████████████████████████████████████████████████████████████████████████| 22/22 [00:00<00:00, 4360.19 examples/s]\n"
     ]
    }
   ],
   "source": [
    "# Concatenate all utterances within a dialogue and map to 'dialog' key\n",
    "def concatenate_paragraphs(example):\n",
    "    example['page'] = \" \".join(example['text'])\n",
    "    return example\n",
    "\n",
    "dataset = dataset.map(concatenate_paragraphs)"
   ]
  },
  {
   "cell_type": "markdown",
   "id": "7bb19276-8bd1-472d-b254-639882c4d365",
   "metadata": {},
   "source": [
    "> Note: not sure if this is really needed, but for simplicity will make a whole text per example\n",
    ">\n",
    "> The DialogPT is based on short context, this doesn't lead to good results! Will be trying without concatenating"
   ]
  },
  {
   "cell_type": "markdown",
   "id": "c38d08da-201f-47a4-9e80-d99d8fe4ddae",
   "metadata": {
    "jp-MarkdownHeadingCollapsed": true
   },
   "source": [
    "### DETOUR!!"
   ]
  },
  {
   "cell_type": "code",
   "execution_count": 9,
   "id": "6b2f8d6e-733c-4051-9c61-0c567354faa8",
   "metadata": {
    "execution": {
     "iopub.execute_input": "2024-02-19T20:41:58.161103Z",
     "iopub.status.busy": "2024-02-19T20:41:58.160719Z",
     "iopub.status.idle": "2024-02-19T20:41:58.176270Z",
     "shell.execute_reply": "2024-02-19T20:41:58.175595Z",
     "shell.execute_reply.started": "2024-02-19T20:41:58.161078Z"
    }
   },
   "outputs": [],
   "source": [
    "import os\n",
    "\n",
    "os.environ[\"LD_LIBRARY_PATH\"]=\"\""
   ]
  },
  {
   "cell_type": "code",
   "execution_count": 15,
   "id": "5902f014-698e-41bc-86e6-afb0f094a498",
   "metadata": {
    "execution": {
     "iopub.execute_input": "2024-02-19T20:18:06.817723Z",
     "iopub.status.busy": "2024-02-19T20:18:06.817333Z",
     "iopub.status.idle": "2024-02-19T20:19:58.062024Z",
     "shell.execute_reply": "2024-02-19T20:19:58.061454Z",
     "shell.execute_reply.started": "2024-02-19T20:18:06.817698Z"
    },
    "scrolled": true
   },
   "outputs": [
    {
     "name": "stdout",
     "output_type": "stream",
     "text": [
      "Collecting torch==2.0.1\n",
      "  Downloading torch-2.0.1-cp310-cp310-manylinux1_x86_64.whl.metadata (24 kB)\n",
      "Requirement already satisfied: filelock in ./env/lib/python3.10/site-packages (from torch==2.0.1) (3.13.1)\n",
      "Requirement already satisfied: typing-extensions in ./env/lib/python3.10/site-packages (from torch==2.0.1) (4.9.0)\n",
      "Requirement already satisfied: sympy in ./env/lib/python3.10/site-packages (from torch==2.0.1) (1.12)\n",
      "Requirement already satisfied: networkx in ./env/lib/python3.10/site-packages (from torch==2.0.1) (3.2.1)\n",
      "Requirement already satisfied: jinja2 in ./env/lib/python3.10/site-packages (from torch==2.0.1) (3.1.3)\n",
      "Collecting nvidia-cuda-nvrtc-cu11==11.7.99 (from torch==2.0.1)\n",
      "  Downloading nvidia_cuda_nvrtc_cu11-11.7.99-2-py3-none-manylinux1_x86_64.whl (21.0 MB)\n",
      "\u001b[2K     \u001b[38;2;114;156;31m━━━━━━━━━━━━━━━━━━━━━━━━━━━━━━━━━━━━━━━━\u001b[0m \u001b[32m21.0/21.0 MB\u001b[0m \u001b[31m52.4 MB/s\u001b[0m eta \u001b[36m0:00:00\u001b[0mm eta \u001b[36m0:00:01\u001b[0m[36m0:00:01\u001b[0m\n",
      "\u001b[?25hCollecting nvidia-cuda-runtime-cu11==11.7.99 (from torch==2.0.1)\n",
      "  Downloading nvidia_cuda_runtime_cu11-11.7.99-py3-none-manylinux1_x86_64.whl (849 kB)\n",
      "\u001b[2K     \u001b[38;2;114;156;31m━━━━━━━━━━━━━━━━━━━━━━━━━━━━━━━━━━━━━━\u001b[0m \u001b[32m849.3/849.3 kB\u001b[0m \u001b[31m49.3 MB/s\u001b[0m eta \u001b[36m0:00:00\u001b[0m\n",
      "\u001b[?25hCollecting nvidia-cuda-cupti-cu11==11.7.101 (from torch==2.0.1)\n",
      "  Downloading nvidia_cuda_cupti_cu11-11.7.101-py3-none-manylinux1_x86_64.whl (11.8 MB)\n",
      "\u001b[2K     \u001b[38;2;114;156;31m━━━━━━━━━━━━━━━━━━━━━━━━━━━━━━━━━━━━━━━━\u001b[0m \u001b[32m11.8/11.8 MB\u001b[0m \u001b[31m50.1 MB/s\u001b[0m eta \u001b[36m0:00:00\u001b[0mm eta \u001b[36m0:00:01\u001b[0m[36m0:00:01\u001b[0m\n",
      "\u001b[?25hCollecting nvidia-cudnn-cu11==8.5.0.96 (from torch==2.0.1)\n",
      "  Downloading nvidia_cudnn_cu11-8.5.0.96-2-py3-none-manylinux1_x86_64.whl (557.1 MB)\n",
      "\u001b[2K     \u001b[38;2;114;156;31m━━━━━━━━━━━━━━━━━━━━━━━━━━━━━━━━━━━━━━━\u001b[0m \u001b[32m557.1/557.1 MB\u001b[0m \u001b[31m8.8 MB/s\u001b[0m eta \u001b[36m0:00:00\u001b[0mm eta \u001b[36m0:00:01\u001b[0m[36m0:00:01\u001b[0m\n",
      "\u001b[?25hCollecting nvidia-cublas-cu11==11.10.3.66 (from torch==2.0.1)\n",
      "  Downloading nvidia_cublas_cu11-11.10.3.66-py3-none-manylinux1_x86_64.whl (317.1 MB)\n",
      "\u001b[2K     \u001b[38;2;114;156;31m━━━━━━━━━━━━━━━━━━━━━━━━━━━━━━━━━━━━━━\u001b[0m \u001b[32m317.1/317.1 MB\u001b[0m \u001b[31m14.1 MB/s\u001b[0m eta \u001b[36m0:00:00\u001b[0mm eta \u001b[36m0:00:01\u001b[0m[36m0:00:01\u001b[0m\n",
      "\u001b[?25hCollecting nvidia-cufft-cu11==10.9.0.58 (from torch==2.0.1)\n",
      "  Downloading nvidia_cufft_cu11-10.9.0.58-py3-none-manylinux1_x86_64.whl (168.4 MB)\n",
      "\u001b[2K     \u001b[38;2;114;156;31m━━━━━━━━━━━━━━━━━━━━━━━━━━━━━━━━━━━━━━\u001b[0m \u001b[32m168.4/168.4 MB\u001b[0m \u001b[31m24.6 MB/s\u001b[0m eta \u001b[36m0:00:00\u001b[0mm eta \u001b[36m0:00:01\u001b[0m[36m0:00:01\u001b[0m\n",
      "\u001b[?25hCollecting nvidia-curand-cu11==10.2.10.91 (from torch==2.0.1)\n",
      "  Downloading nvidia_curand_cu11-10.2.10.91-py3-none-manylinux1_x86_64.whl (54.6 MB)\n",
      "\u001b[2K     \u001b[38;2;114;156;31m━━━━━━━━━━━━━━━━━━━━━━━━━━━━━━━━━━━━━━━━\u001b[0m \u001b[32m54.6/54.6 MB\u001b[0m \u001b[31m33.9 MB/s\u001b[0m eta \u001b[36m0:00:00\u001b[0mm eta \u001b[36m0:00:01\u001b[0m[36m0:00:01\u001b[0m\n",
      "\u001b[?25hCollecting nvidia-cusolver-cu11==11.4.0.1 (from torch==2.0.1)\n",
      "  Downloading nvidia_cusolver_cu11-11.4.0.1-2-py3-none-manylinux1_x86_64.whl (102.6 MB)\n",
      "\u001b[2K     \u001b[38;2;114;156;31m━━━━━━━━━━━━━━━━━━━━━━━━━━━━━━━━━━━━━━\u001b[0m \u001b[32m102.6/102.6 MB\u001b[0m \u001b[31m33.1 MB/s\u001b[0m eta \u001b[36m0:00:00\u001b[0mm eta \u001b[36m0:00:01\u001b[0m0:01\u001b[0m:01\u001b[0m\n",
      "\u001b[?25hCollecting nvidia-cusparse-cu11==11.7.4.91 (from torch==2.0.1)\n",
      "  Downloading nvidia_cusparse_cu11-11.7.4.91-py3-none-manylinux1_x86_64.whl (173.2 MB)\n",
      "\u001b[2K     \u001b[38;2;114;156;31m━━━━━━━━━━━━━━━━━━━━━━━━━━━━━━━━━━━━━━\u001b[0m \u001b[32m173.2/173.2 MB\u001b[0m \u001b[31m22.6 MB/s\u001b[0m eta \u001b[36m0:00:00\u001b[0mm eta \u001b[36m0:00:01\u001b[0m[36m0:00:01\u001b[0m\n",
      "\u001b[?25hCollecting nvidia-nccl-cu11==2.14.3 (from torch==2.0.1)\n",
      "  Downloading nvidia_nccl_cu11-2.14.3-py3-none-manylinux1_x86_64.whl (177.1 MB)\n",
      "\u001b[2K     \u001b[38;2;114;156;31m━━━━━━━━━━━━━━━━━━━━━━━━━━━━━━━━━━━━━━\u001b[0m \u001b[32m177.1/177.1 MB\u001b[0m \u001b[31m23.1 MB/s\u001b[0m eta \u001b[36m0:00:00\u001b[0mm eta \u001b[36m0:00:01\u001b[0m[36m0:00:01\u001b[0m\n",
      "\u001b[?25hCollecting nvidia-nvtx-cu11==11.7.91 (from torch==2.0.1)\n",
      "  Downloading nvidia_nvtx_cu11-11.7.91-py3-none-manylinux1_x86_64.whl (98 kB)\n",
      "\u001b[2K     \u001b[38;2;114;156;31m━━━━━━━━━━━━━━━━━━━━━━━━━━━━━━━━━━━━━━━━\u001b[0m \u001b[32m98.6/98.6 kB\u001b[0m \u001b[31m26.4 MB/s\u001b[0m eta \u001b[36m0:00:00\u001b[0m\n",
      "\u001b[?25hCollecting triton==2.0.0 (from torch==2.0.1)\n",
      "  Downloading triton-2.0.0-1-cp310-cp310-manylinux2014_x86_64.manylinux_2_17_x86_64.whl.metadata (1.0 kB)\n",
      "Requirement already satisfied: setuptools in ./env/lib/python3.10/site-packages (from nvidia-cublas-cu11==11.10.3.66->torch==2.0.1) (65.5.0)\n",
      "Collecting wheel (from nvidia-cublas-cu11==11.10.3.66->torch==2.0.1)\n",
      "  Downloading wheel-0.42.0-py3-none-any.whl.metadata (2.2 kB)\n",
      "Collecting cmake (from triton==2.0.0->torch==2.0.1)\n",
      "  Downloading cmake-3.28.3-py2.py3-none-manylinux2014_x86_64.manylinux_2_17_x86_64.whl.metadata (6.3 kB)\n",
      "Collecting lit (from triton==2.0.0->torch==2.0.1)\n",
      "  Downloading lit-17.0.6.tar.gz (153 kB)\n",
      "\u001b[2K     \u001b[38;2;114;156;31m━━━━━━━━━━━━━━━━━━━━━━━━━━━━━━━━━━━━━━\u001b[0m \u001b[32m153.0/153.0 kB\u001b[0m \u001b[31m42.3 MB/s\u001b[0m eta \u001b[36m0:00:00\u001b[0m\n",
      "\u001b[?25h  Installing build dependencies ... \u001b[?25ldone\n",
      "\u001b[?25h  Getting requirements to build wheel ... \u001b[?25ldone\n",
      "\u001b[?25h  Installing backend dependencies ... \u001b[?25ldone\n",
      "\u001b[?25h  Preparing metadata (pyproject.toml) ... \u001b[?25ldone\n",
      "\u001b[?25hRequirement already satisfied: MarkupSafe>=2.0 in ./env/lib/python3.10/site-packages (from jinja2->torch==2.0.1) (2.1.5)\n",
      "Requirement already satisfied: mpmath>=0.19 in ./env/lib/python3.10/site-packages (from sympy->torch==2.0.1) (1.3.0)\n",
      "Downloading torch-2.0.1-cp310-cp310-manylinux1_x86_64.whl (619.9 MB)\n",
      "\u001b[2K   \u001b[38;2;114;156;31m━━━━━━━━━━━━━━━━━━━━━━━━━━━━━━━━━━━━━━━━\u001b[0m \u001b[32m619.9/619.9 MB\u001b[0m \u001b[31m4.8 MB/s\u001b[0m eta \u001b[36m0:00:00\u001b[0mm eta \u001b[36m0:00:01\u001b[0mm[36m0:00:01\u001b[0m\n",
      "\u001b[?25hDownloading triton-2.0.0-1-cp310-cp310-manylinux2014_x86_64.manylinux_2_17_x86_64.whl (63.3 MB)\n",
      "\u001b[2K   \u001b[38;2;114;156;31m━━━━━━━━━━━━━━━━━━━━━━━━━━━━━━━━━━━━━━━━\u001b[0m \u001b[32m63.3/63.3 MB\u001b[0m \u001b[31m30.7 MB/s\u001b[0m eta \u001b[36m0:00:00\u001b[0mm eta \u001b[36m0:00:01\u001b[0m0:01\u001b[0m:01\u001b[0m\n",
      "\u001b[?25hDownloading cmake-3.28.3-py2.py3-none-manylinux2014_x86_64.manylinux_2_17_x86_64.whl (26.3 MB)\n",
      "\u001b[2K   \u001b[38;2;114;156;31m━━━━━━━━━━━━━━━━━━━━━━━━━━━━━━━━━━━━━━━━\u001b[0m \u001b[32m26.3/26.3 MB\u001b[0m \u001b[31m30.2 MB/s\u001b[0m eta \u001b[36m0:00:00\u001b[0mm eta \u001b[36m0:00:01\u001b[0m[36m0:00:01\u001b[0m\n",
      "\u001b[?25hUsing cached wheel-0.42.0-py3-none-any.whl (65 kB)\n",
      "Building wheels for collected packages: lit\n",
      "  Building wheel for lit (pyproject.toml) ... \u001b[?25ldone\n",
      "\u001b[?25h  Created wheel for lit: filename=lit-17.0.6-py3-none-any.whl size=93255 sha256=3249284b82d28d23e7cecf4a8bc3f24e97db258f30bb14af7619eeb4961eaba5\n",
      "  Stored in directory: /home/ana/.cache/pip/wheels/30/dd/04/47d42976a6a86dc2ab66d7518621ae96f43452c8841d74758a\n",
      "Successfully built lit\n",
      "Installing collected packages: lit, cmake, wheel, nvidia-nccl-cu11, nvidia-cufft-cu11, nvidia-cuda-nvrtc-cu11, nvidia-nvtx-cu11, nvidia-cusparse-cu11, nvidia-curand-cu11, nvidia-cuda-runtime-cu11, nvidia-cuda-cupti-cu11, nvidia-cublas-cu11, nvidia-cusolver-cu11, nvidia-cudnn-cu11, triton, torch\n",
      "  Attempting uninstall: triton\n",
      "    Found existing installation: triton 2.2.0\n",
      "    Uninstalling triton-2.2.0:\n",
      "      Successfully uninstalled triton-2.2.0\n",
      "  Attempting uninstall: torch\n",
      "    Found existing installation: torch 2.2.0\n",
      "    Uninstalling torch-2.2.0:\n",
      "      Successfully uninstalled torch-2.2.0\n",
      "Successfully installed cmake-3.28.3 lit-17.0.6 nvidia-cublas-cu11-11.10.3.66 nvidia-cuda-cupti-cu11-11.7.101 nvidia-cuda-nvrtc-cu11-11.7.99 nvidia-cuda-runtime-cu11-11.7.99 nvidia-cudnn-cu11-8.5.0.96 nvidia-cufft-cu11-10.9.0.58 nvidia-curand-cu11-10.2.10.91 nvidia-cusolver-cu11-11.4.0.1 nvidia-cusparse-cu11-11.7.4.91 nvidia-nccl-cu11-2.14.3 nvidia-nvtx-cu11-11.7.91 torch-2.0.1 triton-2.0.0 wheel-0.42.0\n"
     ]
    }
   ],
   "source": [
    "# TODO: FIX TORCH VERSION  -> this one was not the one original!!\n",
    "!pip3 install torch==2.0.1"
   ]
  },
  {
   "cell_type": "markdown",
   "id": "3b71b8c4-f5fd-4e3f-aee1-32e84a432e4d",
   "metadata": {},
   "source": [
    "## Encoding"
   ]
  },
  {
   "cell_type": "code",
   "execution_count": 8,
   "id": "55af3c70-e86f-4865-bc9b-49830c1d29d5",
   "metadata": {
    "execution": {
     "iopub.execute_input": "2024-02-19T21:55:47.291278Z",
     "iopub.status.busy": "2024-02-19T21:55:47.290846Z",
     "iopub.status.idle": "2024-02-19T21:55:49.346454Z",
     "shell.execute_reply": "2024-02-19T21:55:49.345958Z",
     "shell.execute_reply.started": "2024-02-19T21:55:47.291259Z"
    }
   },
   "outputs": [],
   "source": [
    "import numpy as np\n",
    "import tempfile\n",
    "from datasets import load_dataset\n",
    "from transformers import GPT2Tokenizer, GPT2LMHeadModel, TrainingArguments, Trainer\n",
    "import os\n",
    "\n",
    "os.environ[\"CUDA_VISIBLE_DEVICES\"] = \"0\"\n",
    "\n",
    "# Load the tokenizer and model\n",
    "tokenizer = GPT2Tokenizer.from_pretrained('microsoft/DialoGPT-small')\n",
    "tokenizer.pad_token = tokenizer.eos_token\n",
    "model = GPT2LMHeadModel.from_pretrained('microsoft/DialoGPT-small')"
   ]
  },
  {
   "cell_type": "code",
   "execution_count": 9,
   "id": "b777bdb8-7a90-4ac0-b985-6ce39d818ab8",
   "metadata": {
    "execution": {
     "iopub.execute_input": "2024-02-19T21:55:49.347414Z",
     "iopub.status.busy": "2024-02-19T21:55:49.347198Z",
     "iopub.status.idle": "2024-02-19T21:55:51.360063Z",
     "shell.execute_reply": "2024-02-19T21:55:51.359710Z",
     "shell.execute_reply.started": "2024-02-19T21:55:49.347400Z"
    }
   },
   "outputs": [
    {
     "name": "stderr",
     "output_type": "stream",
     "text": [
      "Map: 100%|█████████████████████████████████████████████████████████████████████████████████████████████████| 84/84 [00:00<00:00, 157.88 examples/s]\n",
      "Map: 100%|█████████████████████████████████████████████████████████████████████████████████████████████████| 22/22 [00:00<00:00, 139.11 examples/s]\n"
     ]
    }
   ],
   "source": [
    "# Encode the dataset\n",
    "# https://huggingface.co/docs/transformers/en/pad_truncation\n",
    "def encode(examples):\n",
    "    encoded = tokenizer(examples['page'],\n",
    "                        truncation=True, \n",
    "                        padding='max_length',\n",
    "                        max_length=128\n",
    "                       )\n",
    "    encoded['labels'] = encoded['input_ids'][:]\n",
    "\n",
    "    return encoded\n",
    "\n",
    "encoded_dataset = dataset.map(encode, batched=True)"
   ]
  },
  {
   "cell_type": "markdown",
   "id": "9c4190f6-3656-4781-a05f-a0fc5d401ac0",
   "metadata": {
    "execution": {
     "iopub.execute_input": "2024-02-05T22:46:09.102739Z",
     "iopub.status.busy": "2024-02-05T22:46:09.102005Z",
     "iopub.status.idle": "2024-02-05T22:46:09.143052Z",
     "shell.execute_reply": "2024-02-05T22:46:09.141608Z",
     "shell.execute_reply.started": "2024-02-05T22:46:09.102656Z"
    }
   },
   "source": [
    "## Training"
   ]
  },
  {
   "cell_type": "code",
   "execution_count": 10,
   "id": "faa65fdb-9802-4f32-a248-8c1d82bf8720",
   "metadata": {
    "execution": {
     "iopub.execute_input": "2024-02-19T21:55:52.089553Z",
     "iopub.status.busy": "2024-02-19T21:55:52.089104Z",
     "iopub.status.idle": "2024-02-19T21:55:52.888935Z",
     "shell.execute_reply": "2024-02-19T21:55:52.888469Z",
     "shell.execute_reply.started": "2024-02-19T21:55:52.089538Z"
    }
   },
   "outputs": [],
   "source": [
    "# Define training arguments\n",
    "training_args = TrainingArguments(\n",
    "    output_dir=tempfile.mkdtemp(),   # output directory\n",
    "    num_train_epochs=100,             # total number of training epochs\n",
    "    per_device_train_batch_size=8,  # batch size per device during training\n",
    "    per_device_eval_batch_size=32,   # batch size for evaluation\n",
    "    warmup_steps=500,                # number of warmup steps for learning rate scheduler\n",
    "    weight_decay=0.01,               # strength of weight decay\n",
    "    logging_dir=None,                # directory for storing logs\n",
    "    fp16=True                        # use floating point 16 bit precision for training\n",
    ")\n",
    "\n",
    "# Create Trainer\n",
    "trainer = Trainer(\n",
    "    model=model,\n",
    "    args=training_args,\n",
    "    train_dataset=encoded_dataset['train'],\n",
    "    eval_dataset=encoded_dataset['test']\n",
    ")"
   ]
  },
  {
   "cell_type": "markdown",
   "id": "de615ecb-e60c-4388-808e-a672b0305fea",
   "metadata": {},
   "source": [
    "# Evaluation"
   ]
  },
  {
   "cell_type": "code",
   "execution_count": 11,
   "id": "b036b987-e794-41d1-b7ed-2cdb1a69a18b",
   "metadata": {
    "execution": {
     "iopub.execute_input": "2024-02-19T21:55:54.059931Z",
     "iopub.status.busy": "2024-02-19T21:55:54.059641Z",
     "iopub.status.idle": "2024-02-19T21:55:55.027883Z",
     "shell.execute_reply": "2024-02-19T21:55:55.027278Z",
     "shell.execute_reply.started": "2024-02-19T21:55:54.059909Z"
    }
   },
   "outputs": [
    {
     "name": "stderr",
     "output_type": "stream",
     "text": [
      "../aten/src/ATen/native/cuda/Indexing.cu:1146: indexSelectLargeIndex: block: [50,0,0], thread: [32,0,0] Assertion `srcIndex < srcSelectDimSize` failed.\n",
      "../aten/src/ATen/native/cuda/Indexing.cu:1146: indexSelectLargeIndex: block: [50,0,0], thread: [33,0,0] Assertion `srcIndex < srcSelectDimSize` failed.\n",
      "../aten/src/ATen/native/cuda/Indexing.cu:1146: indexSelectLargeIndex: block: [50,0,0], thread: [34,0,0] Assertion `srcIndex < srcSelectDimSize` failed.\n",
      "../aten/src/ATen/native/cuda/Indexing.cu:1146: indexSelectLargeIndex: block: [50,0,0], thread: [35,0,0] Assertion `srcIndex < srcSelectDimSize` failed.\n",
      "../aten/src/ATen/native/cuda/Indexing.cu:1146: indexSelectLargeIndex: block: [50,0,0], thread: [36,0,0] Assertion `srcIndex < srcSelectDimSize` failed.\n",
      "../aten/src/ATen/native/cuda/Indexing.cu:1146: indexSelectLargeIndex: block: [50,0,0], thread: [37,0,0] Assertion `srcIndex < srcSelectDimSize` failed.\n",
      "../aten/src/ATen/native/cuda/Indexing.cu:1146: indexSelectLargeIndex: block: [50,0,0], thread: [38,0,0] Assertion `srcIndex < srcSelectDimSize` failed.\n",
      "../aten/src/ATen/native/cuda/Indexing.cu:1146: indexSelectLargeIndex: block: [50,0,0], thread: [39,0,0] Assertion `srcIndex < srcSelectDimSize` failed.\n",
      "../aten/src/ATen/native/cuda/Indexing.cu:1146: indexSelectLargeIndex: block: [50,0,0], thread: [40,0,0] Assertion `srcIndex < srcSelectDimSize` failed.\n",
      "../aten/src/ATen/native/cuda/Indexing.cu:1146: indexSelectLargeIndex: block: [50,0,0], thread: [41,0,0] Assertion `srcIndex < srcSelectDimSize` failed.\n",
      "../aten/src/ATen/native/cuda/Indexing.cu:1146: indexSelectLargeIndex: block: [50,0,0], thread: [42,0,0] Assertion `srcIndex < srcSelectDimSize` failed.\n",
      "../aten/src/ATen/native/cuda/Indexing.cu:1146: indexSelectLargeIndex: block: [50,0,0], thread: [43,0,0] Assertion `srcIndex < srcSelectDimSize` failed.\n",
      "../aten/src/ATen/native/cuda/Indexing.cu:1146: indexSelectLargeIndex: block: [50,0,0], thread: [44,0,0] Assertion `srcIndex < srcSelectDimSize` failed.\n",
      "../aten/src/ATen/native/cuda/Indexing.cu:1146: indexSelectLargeIndex: block: [50,0,0], thread: [45,0,0] Assertion `srcIndex < srcSelectDimSize` failed.\n",
      "../aten/src/ATen/native/cuda/Indexing.cu:1146: indexSelectLargeIndex: block: [50,0,0], thread: [46,0,0] Assertion `srcIndex < srcSelectDimSize` failed.\n",
      "../aten/src/ATen/native/cuda/Indexing.cu:1146: indexSelectLargeIndex: block: [50,0,0], thread: [47,0,0] Assertion `srcIndex < srcSelectDimSize` failed.\n",
      "../aten/src/ATen/native/cuda/Indexing.cu:1146: indexSelectLargeIndex: block: [50,0,0], thread: [48,0,0] Assertion `srcIndex < srcSelectDimSize` failed.\n",
      "../aten/src/ATen/native/cuda/Indexing.cu:1146: indexSelectLargeIndex: block: [50,0,0], thread: [49,0,0] Assertion `srcIndex < srcSelectDimSize` failed.\n",
      "../aten/src/ATen/native/cuda/Indexing.cu:1146: indexSelectLargeIndex: block: [50,0,0], thread: [50,0,0] Assertion `srcIndex < srcSelectDimSize` failed.\n",
      "../aten/src/ATen/native/cuda/Indexing.cu:1146: indexSelectLargeIndex: block: [50,0,0], thread: [51,0,0] Assertion `srcIndex < srcSelectDimSize` failed.\n",
      "../aten/src/ATen/native/cuda/Indexing.cu:1146: indexSelectLargeIndex: block: [50,0,0], thread: [52,0,0] Assertion `srcIndex < srcSelectDimSize` failed.\n",
      "../aten/src/ATen/native/cuda/Indexing.cu:1146: indexSelectLargeIndex: block: [50,0,0], thread: [53,0,0] Assertion `srcIndex < srcSelectDimSize` failed.\n",
      "../aten/src/ATen/native/cuda/Indexing.cu:1146: indexSelectLargeIndex: block: [50,0,0], thread: [54,0,0] Assertion `srcIndex < srcSelectDimSize` failed.\n",
      "../aten/src/ATen/native/cuda/Indexing.cu:1146: indexSelectLargeIndex: block: [50,0,0], thread: [55,0,0] Assertion `srcIndex < srcSelectDimSize` failed.\n",
      "../aten/src/ATen/native/cuda/Indexing.cu:1146: indexSelectLargeIndex: block: [50,0,0], thread: [56,0,0] Assertion `srcIndex < srcSelectDimSize` failed.\n",
      "../aten/src/ATen/native/cuda/Indexing.cu:1146: indexSelectLargeIndex: block: [50,0,0], thread: [57,0,0] Assertion `srcIndex < srcSelectDimSize` failed.\n",
      "../aten/src/ATen/native/cuda/Indexing.cu:1146: indexSelectLargeIndex: block: [50,0,0], thread: [58,0,0] Assertion `srcIndex < srcSelectDimSize` failed.\n",
      "../aten/src/ATen/native/cuda/Indexing.cu:1146: indexSelectLargeIndex: block: [50,0,0], thread: [59,0,0] Assertion `srcIndex < srcSelectDimSize` failed.\n",
      "../aten/src/ATen/native/cuda/Indexing.cu:1146: indexSelectLargeIndex: block: [50,0,0], thread: [60,0,0] Assertion `srcIndex < srcSelectDimSize` failed.\n",
      "../aten/src/ATen/native/cuda/Indexing.cu:1146: indexSelectLargeIndex: block: [50,0,0], thread: [61,0,0] Assertion `srcIndex < srcSelectDimSize` failed.\n",
      "../aten/src/ATen/native/cuda/Indexing.cu:1146: indexSelectLargeIndex: block: [50,0,0], thread: [62,0,0] Assertion `srcIndex < srcSelectDimSize` failed.\n",
      "../aten/src/ATen/native/cuda/Indexing.cu:1146: indexSelectLargeIndex: block: [50,0,0], thread: [63,0,0] Assertion `srcIndex < srcSelectDimSize` failed.\n"
     ]
    },
    {
     "ename": "RuntimeError",
     "evalue": "CUDA error: CUBLAS_STATUS_NOT_INITIALIZED when calling `cublasCreate(handle)`",
     "output_type": "error",
     "traceback": [
      "\u001b[0;31m---------------------------------------------------------------------------\u001b[0m",
      "\u001b[0;31mRuntimeError\u001b[0m                              Traceback (most recent call last)",
      "Cell \u001b[0;32mIn[11], line 2\u001b[0m\n\u001b[1;32m      1\u001b[0m \u001b[38;5;66;03m# Evaluate before fine-tuning\u001b[39;00m\n\u001b[0;32m----> 2\u001b[0m pre_eval_results \u001b[38;5;241m=\u001b[39m \u001b[43mtrainer\u001b[49m\u001b[38;5;241;43m.\u001b[39;49m\u001b[43mevaluate\u001b[49m\u001b[43m(\u001b[49m\u001b[43mencoded_dataset\u001b[49m\u001b[43m[\u001b[49m\u001b[38;5;124;43m'\u001b[39;49m\u001b[38;5;124;43mtest\u001b[39;49m\u001b[38;5;124;43m'\u001b[39;49m\u001b[43m]\u001b[49m\u001b[43m)\u001b[49m\n",
      "File \u001b[0;32m~/Desktop/volupal_delete/ElevaQ/env/lib/python3.10/site-packages/transformers/trainer.py:3095\u001b[0m, in \u001b[0;36mTrainer.evaluate\u001b[0;34m(self, eval_dataset, ignore_keys, metric_key_prefix)\u001b[0m\n\u001b[1;32m   3092\u001b[0m start_time \u001b[38;5;241m=\u001b[39m time\u001b[38;5;241m.\u001b[39mtime()\n\u001b[1;32m   3094\u001b[0m eval_loop \u001b[38;5;241m=\u001b[39m \u001b[38;5;28mself\u001b[39m\u001b[38;5;241m.\u001b[39mprediction_loop \u001b[38;5;28;01mif\u001b[39;00m \u001b[38;5;28mself\u001b[39m\u001b[38;5;241m.\u001b[39margs\u001b[38;5;241m.\u001b[39muse_legacy_prediction_loop \u001b[38;5;28;01melse\u001b[39;00m \u001b[38;5;28mself\u001b[39m\u001b[38;5;241m.\u001b[39mevaluation_loop\n\u001b[0;32m-> 3095\u001b[0m output \u001b[38;5;241m=\u001b[39m \u001b[43meval_loop\u001b[49m\u001b[43m(\u001b[49m\n\u001b[1;32m   3096\u001b[0m \u001b[43m    \u001b[49m\u001b[43meval_dataloader\u001b[49m\u001b[43m,\u001b[49m\n\u001b[1;32m   3097\u001b[0m \u001b[43m    \u001b[49m\u001b[43mdescription\u001b[49m\u001b[38;5;241;43m=\u001b[39;49m\u001b[38;5;124;43m\"\u001b[39;49m\u001b[38;5;124;43mEvaluation\u001b[39;49m\u001b[38;5;124;43m\"\u001b[39;49m\u001b[43m,\u001b[49m\n\u001b[1;32m   3098\u001b[0m \u001b[43m    \u001b[49m\u001b[38;5;66;43;03m# No point gathering the predictions if there are no metrics, otherwise we defer to\u001b[39;49;00m\n\u001b[1;32m   3099\u001b[0m \u001b[43m    \u001b[49m\u001b[38;5;66;43;03m# self.args.prediction_loss_only\u001b[39;49;00m\n\u001b[1;32m   3100\u001b[0m \u001b[43m    \u001b[49m\u001b[43mprediction_loss_only\u001b[49m\u001b[38;5;241;43m=\u001b[39;49m\u001b[38;5;28;43;01mTrue\u001b[39;49;00m\u001b[43m \u001b[49m\u001b[38;5;28;43;01mif\u001b[39;49;00m\u001b[43m \u001b[49m\u001b[38;5;28;43mself\u001b[39;49m\u001b[38;5;241;43m.\u001b[39;49m\u001b[43mcompute_metrics\u001b[49m\u001b[43m \u001b[49m\u001b[38;5;129;43;01mis\u001b[39;49;00m\u001b[43m \u001b[49m\u001b[38;5;28;43;01mNone\u001b[39;49;00m\u001b[43m \u001b[49m\u001b[38;5;28;43;01melse\u001b[39;49;00m\u001b[43m \u001b[49m\u001b[38;5;28;43;01mNone\u001b[39;49;00m\u001b[43m,\u001b[49m\n\u001b[1;32m   3101\u001b[0m \u001b[43m    \u001b[49m\u001b[43mignore_keys\u001b[49m\u001b[38;5;241;43m=\u001b[39;49m\u001b[43mignore_keys\u001b[49m\u001b[43m,\u001b[49m\n\u001b[1;32m   3102\u001b[0m \u001b[43m    \u001b[49m\u001b[43mmetric_key_prefix\u001b[49m\u001b[38;5;241;43m=\u001b[39;49m\u001b[43mmetric_key_prefix\u001b[49m\u001b[43m,\u001b[49m\n\u001b[1;32m   3103\u001b[0m \u001b[43m\u001b[49m\u001b[43m)\u001b[49m\n\u001b[1;32m   3105\u001b[0m total_batch_size \u001b[38;5;241m=\u001b[39m \u001b[38;5;28mself\u001b[39m\u001b[38;5;241m.\u001b[39margs\u001b[38;5;241m.\u001b[39meval_batch_size \u001b[38;5;241m*\u001b[39m \u001b[38;5;28mself\u001b[39m\u001b[38;5;241m.\u001b[39margs\u001b[38;5;241m.\u001b[39mworld_size\n\u001b[1;32m   3106\u001b[0m \u001b[38;5;28;01mif\u001b[39;00m \u001b[38;5;124mf\u001b[39m\u001b[38;5;124m\"\u001b[39m\u001b[38;5;132;01m{\u001b[39;00mmetric_key_prefix\u001b[38;5;132;01m}\u001b[39;00m\u001b[38;5;124m_jit_compilation_time\u001b[39m\u001b[38;5;124m\"\u001b[39m \u001b[38;5;129;01min\u001b[39;00m output\u001b[38;5;241m.\u001b[39mmetrics:\n",
      "File \u001b[0;32m~/Desktop/volupal_delete/ElevaQ/env/lib/python3.10/site-packages/transformers/trainer.py:3284\u001b[0m, in \u001b[0;36mTrainer.evaluation_loop\u001b[0;34m(self, dataloader, description, prediction_loss_only, ignore_keys, metric_key_prefix)\u001b[0m\n\u001b[1;32m   3281\u001b[0m         batch_size \u001b[38;5;241m=\u001b[39m observed_batch_size\n\u001b[1;32m   3283\u001b[0m \u001b[38;5;66;03m# Prediction step\u001b[39;00m\n\u001b[0;32m-> 3284\u001b[0m loss, logits, labels \u001b[38;5;241m=\u001b[39m \u001b[38;5;28;43mself\u001b[39;49m\u001b[38;5;241;43m.\u001b[39;49m\u001b[43mprediction_step\u001b[49m\u001b[43m(\u001b[49m\u001b[43mmodel\u001b[49m\u001b[43m,\u001b[49m\u001b[43m \u001b[49m\u001b[43minputs\u001b[49m\u001b[43m,\u001b[49m\u001b[43m \u001b[49m\u001b[43mprediction_loss_only\u001b[49m\u001b[43m,\u001b[49m\u001b[43m \u001b[49m\u001b[43mignore_keys\u001b[49m\u001b[38;5;241;43m=\u001b[39;49m\u001b[43mignore_keys\u001b[49m\u001b[43m)\u001b[49m\n\u001b[1;32m   3285\u001b[0m main_input_name \u001b[38;5;241m=\u001b[39m \u001b[38;5;28mgetattr\u001b[39m(\u001b[38;5;28mself\u001b[39m\u001b[38;5;241m.\u001b[39mmodel, \u001b[38;5;124m\"\u001b[39m\u001b[38;5;124mmain_input_name\u001b[39m\u001b[38;5;124m\"\u001b[39m, \u001b[38;5;124m\"\u001b[39m\u001b[38;5;124minput_ids\u001b[39m\u001b[38;5;124m\"\u001b[39m)\n\u001b[1;32m   3286\u001b[0m inputs_decode \u001b[38;5;241m=\u001b[39m \u001b[38;5;28mself\u001b[39m\u001b[38;5;241m.\u001b[39m_prepare_input(inputs[main_input_name]) \u001b[38;5;28;01mif\u001b[39;00m args\u001b[38;5;241m.\u001b[39minclude_inputs_for_metrics \u001b[38;5;28;01melse\u001b[39;00m \u001b[38;5;28;01mNone\u001b[39;00m\n",
      "File \u001b[0;32m~/Desktop/volupal_delete/ElevaQ/env/lib/python3.10/site-packages/transformers/trainer.py:3501\u001b[0m, in \u001b[0;36mTrainer.prediction_step\u001b[0;34m(self, model, inputs, prediction_loss_only, ignore_keys)\u001b[0m\n\u001b[1;32m   3499\u001b[0m \u001b[38;5;28;01mif\u001b[39;00m has_labels \u001b[38;5;129;01mor\u001b[39;00m loss_without_labels:\n\u001b[1;32m   3500\u001b[0m     \u001b[38;5;28;01mwith\u001b[39;00m \u001b[38;5;28mself\u001b[39m\u001b[38;5;241m.\u001b[39mcompute_loss_context_manager():\n\u001b[0;32m-> 3501\u001b[0m         loss, outputs \u001b[38;5;241m=\u001b[39m \u001b[38;5;28;43mself\u001b[39;49m\u001b[38;5;241;43m.\u001b[39;49m\u001b[43mcompute_loss\u001b[49m\u001b[43m(\u001b[49m\u001b[43mmodel\u001b[49m\u001b[43m,\u001b[49m\u001b[43m \u001b[49m\u001b[43minputs\u001b[49m\u001b[43m,\u001b[49m\u001b[43m \u001b[49m\u001b[43mreturn_outputs\u001b[49m\u001b[38;5;241;43m=\u001b[39;49m\u001b[38;5;28;43;01mTrue\u001b[39;49;00m\u001b[43m)\u001b[49m\n\u001b[1;32m   3502\u001b[0m     loss \u001b[38;5;241m=\u001b[39m loss\u001b[38;5;241m.\u001b[39mmean()\u001b[38;5;241m.\u001b[39mdetach()\n\u001b[1;32m   3504\u001b[0m     \u001b[38;5;28;01mif\u001b[39;00m \u001b[38;5;28misinstance\u001b[39m(outputs, \u001b[38;5;28mdict\u001b[39m):\n",
      "File \u001b[0;32m~/Desktop/volupal_delete/ElevaQ/env/lib/python3.10/site-packages/transformers/trainer.py:2795\u001b[0m, in \u001b[0;36mTrainer.compute_loss\u001b[0;34m(self, model, inputs, return_outputs)\u001b[0m\n\u001b[1;32m   2793\u001b[0m \u001b[38;5;28;01melse\u001b[39;00m:\n\u001b[1;32m   2794\u001b[0m     labels \u001b[38;5;241m=\u001b[39m \u001b[38;5;28;01mNone\u001b[39;00m\n\u001b[0;32m-> 2795\u001b[0m outputs \u001b[38;5;241m=\u001b[39m \u001b[43mmodel\u001b[49m\u001b[43m(\u001b[49m\u001b[38;5;241;43m*\u001b[39;49m\u001b[38;5;241;43m*\u001b[39;49m\u001b[43minputs\u001b[49m\u001b[43m)\u001b[49m\n\u001b[1;32m   2796\u001b[0m \u001b[38;5;66;03m# Save past state if it exists\u001b[39;00m\n\u001b[1;32m   2797\u001b[0m \u001b[38;5;66;03m# TODO: this needs to be fixed and made cleaner later.\u001b[39;00m\n\u001b[1;32m   2798\u001b[0m \u001b[38;5;28;01mif\u001b[39;00m \u001b[38;5;28mself\u001b[39m\u001b[38;5;241m.\u001b[39margs\u001b[38;5;241m.\u001b[39mpast_index \u001b[38;5;241m>\u001b[39m\u001b[38;5;241m=\u001b[39m \u001b[38;5;241m0\u001b[39m:\n",
      "File \u001b[0;32m~/Desktop/volupal_delete/ElevaQ/env/lib/python3.10/site-packages/torch/nn/modules/module.py:1501\u001b[0m, in \u001b[0;36mModule._call_impl\u001b[0;34m(self, *args, **kwargs)\u001b[0m\n\u001b[1;32m   1496\u001b[0m \u001b[38;5;66;03m# If we don't have any hooks, we want to skip the rest of the logic in\u001b[39;00m\n\u001b[1;32m   1497\u001b[0m \u001b[38;5;66;03m# this function, and just call forward.\u001b[39;00m\n\u001b[1;32m   1498\u001b[0m \u001b[38;5;28;01mif\u001b[39;00m \u001b[38;5;129;01mnot\u001b[39;00m (\u001b[38;5;28mself\u001b[39m\u001b[38;5;241m.\u001b[39m_backward_hooks \u001b[38;5;129;01mor\u001b[39;00m \u001b[38;5;28mself\u001b[39m\u001b[38;5;241m.\u001b[39m_backward_pre_hooks \u001b[38;5;129;01mor\u001b[39;00m \u001b[38;5;28mself\u001b[39m\u001b[38;5;241m.\u001b[39m_forward_hooks \u001b[38;5;129;01mor\u001b[39;00m \u001b[38;5;28mself\u001b[39m\u001b[38;5;241m.\u001b[39m_forward_pre_hooks\n\u001b[1;32m   1499\u001b[0m         \u001b[38;5;129;01mor\u001b[39;00m _global_backward_pre_hooks \u001b[38;5;129;01mor\u001b[39;00m _global_backward_hooks\n\u001b[1;32m   1500\u001b[0m         \u001b[38;5;129;01mor\u001b[39;00m _global_forward_hooks \u001b[38;5;129;01mor\u001b[39;00m _global_forward_pre_hooks):\n\u001b[0;32m-> 1501\u001b[0m     \u001b[38;5;28;01mreturn\u001b[39;00m \u001b[43mforward_call\u001b[49m\u001b[43m(\u001b[49m\u001b[38;5;241;43m*\u001b[39;49m\u001b[43margs\u001b[49m\u001b[43m,\u001b[49m\u001b[43m \u001b[49m\u001b[38;5;241;43m*\u001b[39;49m\u001b[38;5;241;43m*\u001b[39;49m\u001b[43mkwargs\u001b[49m\u001b[43m)\u001b[49m\n\u001b[1;32m   1502\u001b[0m \u001b[38;5;66;03m# Do not call functions when jit is used\u001b[39;00m\n\u001b[1;32m   1503\u001b[0m full_backward_hooks, non_full_backward_hooks \u001b[38;5;241m=\u001b[39m [], []\n",
      "File \u001b[0;32m~/Desktop/volupal_delete/ElevaQ/env/lib/python3.10/site-packages/accelerate/utils/operations.py:817\u001b[0m, in \u001b[0;36mconvert_outputs_to_fp32.<locals>.forward\u001b[0;34m(*args, **kwargs)\u001b[0m\n\u001b[1;32m    816\u001b[0m \u001b[38;5;28;01mdef\u001b[39;00m \u001b[38;5;21mforward\u001b[39m(\u001b[38;5;241m*\u001b[39margs, \u001b[38;5;241m*\u001b[39m\u001b[38;5;241m*\u001b[39mkwargs):\n\u001b[0;32m--> 817\u001b[0m     \u001b[38;5;28;01mreturn\u001b[39;00m \u001b[43mmodel_forward\u001b[49m\u001b[43m(\u001b[49m\u001b[38;5;241;43m*\u001b[39;49m\u001b[43margs\u001b[49m\u001b[43m,\u001b[49m\u001b[43m \u001b[49m\u001b[38;5;241;43m*\u001b[39;49m\u001b[38;5;241;43m*\u001b[39;49m\u001b[43mkwargs\u001b[49m\u001b[43m)\u001b[49m\n",
      "File \u001b[0;32m~/Desktop/volupal_delete/ElevaQ/env/lib/python3.10/site-packages/accelerate/utils/operations.py:805\u001b[0m, in \u001b[0;36mConvertOutputsToFp32.__call__\u001b[0;34m(self, *args, **kwargs)\u001b[0m\n\u001b[1;32m    804\u001b[0m \u001b[38;5;28;01mdef\u001b[39;00m \u001b[38;5;21m__call__\u001b[39m(\u001b[38;5;28mself\u001b[39m, \u001b[38;5;241m*\u001b[39margs, \u001b[38;5;241m*\u001b[39m\u001b[38;5;241m*\u001b[39mkwargs):\n\u001b[0;32m--> 805\u001b[0m     \u001b[38;5;28;01mreturn\u001b[39;00m convert_to_fp32(\u001b[38;5;28;43mself\u001b[39;49m\u001b[38;5;241;43m.\u001b[39;49m\u001b[43mmodel_forward\u001b[49m\u001b[43m(\u001b[49m\u001b[38;5;241;43m*\u001b[39;49m\u001b[43margs\u001b[49m\u001b[43m,\u001b[49m\u001b[43m \u001b[49m\u001b[38;5;241;43m*\u001b[39;49m\u001b[38;5;241;43m*\u001b[39;49m\u001b[43mkwargs\u001b[49m\u001b[43m)\u001b[49m)\n",
      "File \u001b[0;32m~/Desktop/volupal_delete/ElevaQ/env/lib/python3.10/site-packages/torch/amp/autocast_mode.py:14\u001b[0m, in \u001b[0;36mautocast_decorator.<locals>.decorate_autocast\u001b[0;34m(*args, **kwargs)\u001b[0m\n\u001b[1;32m     11\u001b[0m \u001b[38;5;129m@functools\u001b[39m\u001b[38;5;241m.\u001b[39mwraps(func)\n\u001b[1;32m     12\u001b[0m \u001b[38;5;28;01mdef\u001b[39;00m \u001b[38;5;21mdecorate_autocast\u001b[39m(\u001b[38;5;241m*\u001b[39margs, \u001b[38;5;241m*\u001b[39m\u001b[38;5;241m*\u001b[39mkwargs):\n\u001b[1;32m     13\u001b[0m     \u001b[38;5;28;01mwith\u001b[39;00m autocast_instance:\n\u001b[0;32m---> 14\u001b[0m         \u001b[38;5;28;01mreturn\u001b[39;00m \u001b[43mfunc\u001b[49m\u001b[43m(\u001b[49m\u001b[38;5;241;43m*\u001b[39;49m\u001b[43margs\u001b[49m\u001b[43m,\u001b[49m\u001b[43m \u001b[49m\u001b[38;5;241;43m*\u001b[39;49m\u001b[38;5;241;43m*\u001b[39;49m\u001b[43mkwargs\u001b[49m\u001b[43m)\u001b[49m\n",
      "File \u001b[0;32m~/Desktop/volupal_delete/ElevaQ/env/lib/python3.10/site-packages/transformers/models/gpt2/modeling_gpt2.py:1074\u001b[0m, in \u001b[0;36mGPT2LMHeadModel.forward\u001b[0;34m(self, input_ids, past_key_values, attention_mask, token_type_ids, position_ids, head_mask, inputs_embeds, encoder_hidden_states, encoder_attention_mask, labels, use_cache, output_attentions, output_hidden_states, return_dict)\u001b[0m\n\u001b[1;32m   1066\u001b[0m \u001b[38;5;250m\u001b[39m\u001b[38;5;124mr\u001b[39m\u001b[38;5;124;03m\"\"\"\u001b[39;00m\n\u001b[1;32m   1067\u001b[0m \u001b[38;5;124;03mlabels (`torch.LongTensor` of shape `(batch_size, sequence_length)`, *optional*):\u001b[39;00m\n\u001b[1;32m   1068\u001b[0m \u001b[38;5;124;03m    Labels for language modeling. Note that the labels **are shifted** inside the model, i.e. you can set\u001b[39;00m\n\u001b[1;32m   1069\u001b[0m \u001b[38;5;124;03m    `labels = input_ids` Indices are selected in `[-100, 0, ..., config.vocab_size]` All labels set to `-100`\u001b[39;00m\n\u001b[1;32m   1070\u001b[0m \u001b[38;5;124;03m    are ignored (masked), the loss is only computed for labels in `[0, ..., config.vocab_size]`\u001b[39;00m\n\u001b[1;32m   1071\u001b[0m \u001b[38;5;124;03m\"\"\"\u001b[39;00m\n\u001b[1;32m   1072\u001b[0m return_dict \u001b[38;5;241m=\u001b[39m return_dict \u001b[38;5;28;01mif\u001b[39;00m return_dict \u001b[38;5;129;01mis\u001b[39;00m \u001b[38;5;129;01mnot\u001b[39;00m \u001b[38;5;28;01mNone\u001b[39;00m \u001b[38;5;28;01melse\u001b[39;00m \u001b[38;5;28mself\u001b[39m\u001b[38;5;241m.\u001b[39mconfig\u001b[38;5;241m.\u001b[39muse_return_dict\n\u001b[0;32m-> 1074\u001b[0m transformer_outputs \u001b[38;5;241m=\u001b[39m \u001b[38;5;28;43mself\u001b[39;49m\u001b[38;5;241;43m.\u001b[39;49m\u001b[43mtransformer\u001b[49m\u001b[43m(\u001b[49m\n\u001b[1;32m   1075\u001b[0m \u001b[43m    \u001b[49m\u001b[43minput_ids\u001b[49m\u001b[43m,\u001b[49m\n\u001b[1;32m   1076\u001b[0m \u001b[43m    \u001b[49m\u001b[43mpast_key_values\u001b[49m\u001b[38;5;241;43m=\u001b[39;49m\u001b[43mpast_key_values\u001b[49m\u001b[43m,\u001b[49m\n\u001b[1;32m   1077\u001b[0m \u001b[43m    \u001b[49m\u001b[43mattention_mask\u001b[49m\u001b[38;5;241;43m=\u001b[39;49m\u001b[43mattention_mask\u001b[49m\u001b[43m,\u001b[49m\n\u001b[1;32m   1078\u001b[0m \u001b[43m    \u001b[49m\u001b[43mtoken_type_ids\u001b[49m\u001b[38;5;241;43m=\u001b[39;49m\u001b[43mtoken_type_ids\u001b[49m\u001b[43m,\u001b[49m\n\u001b[1;32m   1079\u001b[0m \u001b[43m    \u001b[49m\u001b[43mposition_ids\u001b[49m\u001b[38;5;241;43m=\u001b[39;49m\u001b[43mposition_ids\u001b[49m\u001b[43m,\u001b[49m\n\u001b[1;32m   1080\u001b[0m \u001b[43m    \u001b[49m\u001b[43mhead_mask\u001b[49m\u001b[38;5;241;43m=\u001b[39;49m\u001b[43mhead_mask\u001b[49m\u001b[43m,\u001b[49m\n\u001b[1;32m   1081\u001b[0m \u001b[43m    \u001b[49m\u001b[43minputs_embeds\u001b[49m\u001b[38;5;241;43m=\u001b[39;49m\u001b[43minputs_embeds\u001b[49m\u001b[43m,\u001b[49m\n\u001b[1;32m   1082\u001b[0m \u001b[43m    \u001b[49m\u001b[43mencoder_hidden_states\u001b[49m\u001b[38;5;241;43m=\u001b[39;49m\u001b[43mencoder_hidden_states\u001b[49m\u001b[43m,\u001b[49m\n\u001b[1;32m   1083\u001b[0m \u001b[43m    \u001b[49m\u001b[43mencoder_attention_mask\u001b[49m\u001b[38;5;241;43m=\u001b[39;49m\u001b[43mencoder_attention_mask\u001b[49m\u001b[43m,\u001b[49m\n\u001b[1;32m   1084\u001b[0m \u001b[43m    \u001b[49m\u001b[43muse_cache\u001b[49m\u001b[38;5;241;43m=\u001b[39;49m\u001b[43muse_cache\u001b[49m\u001b[43m,\u001b[49m\n\u001b[1;32m   1085\u001b[0m \u001b[43m    \u001b[49m\u001b[43moutput_attentions\u001b[49m\u001b[38;5;241;43m=\u001b[39;49m\u001b[43moutput_attentions\u001b[49m\u001b[43m,\u001b[49m\n\u001b[1;32m   1086\u001b[0m \u001b[43m    \u001b[49m\u001b[43moutput_hidden_states\u001b[49m\u001b[38;5;241;43m=\u001b[39;49m\u001b[43moutput_hidden_states\u001b[49m\u001b[43m,\u001b[49m\n\u001b[1;32m   1087\u001b[0m \u001b[43m    \u001b[49m\u001b[43mreturn_dict\u001b[49m\u001b[38;5;241;43m=\u001b[39;49m\u001b[43mreturn_dict\u001b[49m\u001b[43m,\u001b[49m\n\u001b[1;32m   1088\u001b[0m \u001b[43m\u001b[49m\u001b[43m)\u001b[49m\n\u001b[1;32m   1089\u001b[0m hidden_states \u001b[38;5;241m=\u001b[39m transformer_outputs[\u001b[38;5;241m0\u001b[39m]\n\u001b[1;32m   1091\u001b[0m \u001b[38;5;66;03m# Set device for model parallelism\u001b[39;00m\n",
      "File \u001b[0;32m~/Desktop/volupal_delete/ElevaQ/env/lib/python3.10/site-packages/torch/nn/modules/module.py:1501\u001b[0m, in \u001b[0;36mModule._call_impl\u001b[0;34m(self, *args, **kwargs)\u001b[0m\n\u001b[1;32m   1496\u001b[0m \u001b[38;5;66;03m# If we don't have any hooks, we want to skip the rest of the logic in\u001b[39;00m\n\u001b[1;32m   1497\u001b[0m \u001b[38;5;66;03m# this function, and just call forward.\u001b[39;00m\n\u001b[1;32m   1498\u001b[0m \u001b[38;5;28;01mif\u001b[39;00m \u001b[38;5;129;01mnot\u001b[39;00m (\u001b[38;5;28mself\u001b[39m\u001b[38;5;241m.\u001b[39m_backward_hooks \u001b[38;5;129;01mor\u001b[39;00m \u001b[38;5;28mself\u001b[39m\u001b[38;5;241m.\u001b[39m_backward_pre_hooks \u001b[38;5;129;01mor\u001b[39;00m \u001b[38;5;28mself\u001b[39m\u001b[38;5;241m.\u001b[39m_forward_hooks \u001b[38;5;129;01mor\u001b[39;00m \u001b[38;5;28mself\u001b[39m\u001b[38;5;241m.\u001b[39m_forward_pre_hooks\n\u001b[1;32m   1499\u001b[0m         \u001b[38;5;129;01mor\u001b[39;00m _global_backward_pre_hooks \u001b[38;5;129;01mor\u001b[39;00m _global_backward_hooks\n\u001b[1;32m   1500\u001b[0m         \u001b[38;5;129;01mor\u001b[39;00m _global_forward_hooks \u001b[38;5;129;01mor\u001b[39;00m _global_forward_pre_hooks):\n\u001b[0;32m-> 1501\u001b[0m     \u001b[38;5;28;01mreturn\u001b[39;00m \u001b[43mforward_call\u001b[49m\u001b[43m(\u001b[49m\u001b[38;5;241;43m*\u001b[39;49m\u001b[43margs\u001b[49m\u001b[43m,\u001b[49m\u001b[43m \u001b[49m\u001b[38;5;241;43m*\u001b[39;49m\u001b[38;5;241;43m*\u001b[39;49m\u001b[43mkwargs\u001b[49m\u001b[43m)\u001b[49m\n\u001b[1;32m   1502\u001b[0m \u001b[38;5;66;03m# Do not call functions when jit is used\u001b[39;00m\n\u001b[1;32m   1503\u001b[0m full_backward_hooks, non_full_backward_hooks \u001b[38;5;241m=\u001b[39m [], []\n",
      "File \u001b[0;32m~/Desktop/volupal_delete/ElevaQ/env/lib/python3.10/site-packages/transformers/models/gpt2/modeling_gpt2.py:888\u001b[0m, in \u001b[0;36mGPT2Model.forward\u001b[0;34m(self, input_ids, past_key_values, attention_mask, token_type_ids, position_ids, head_mask, inputs_embeds, encoder_hidden_states, encoder_attention_mask, use_cache, output_attentions, output_hidden_states, return_dict)\u001b[0m\n\u001b[1;32m    876\u001b[0m     outputs \u001b[38;5;241m=\u001b[39m \u001b[38;5;28mself\u001b[39m\u001b[38;5;241m.\u001b[39m_gradient_checkpointing_func(\n\u001b[1;32m    877\u001b[0m         block\u001b[38;5;241m.\u001b[39m\u001b[38;5;21m__call__\u001b[39m,\n\u001b[1;32m    878\u001b[0m         hidden_states,\n\u001b[0;32m   (...)\u001b[0m\n\u001b[1;32m    885\u001b[0m         output_attentions,\n\u001b[1;32m    886\u001b[0m     )\n\u001b[1;32m    887\u001b[0m \u001b[38;5;28;01melse\u001b[39;00m:\n\u001b[0;32m--> 888\u001b[0m     outputs \u001b[38;5;241m=\u001b[39m \u001b[43mblock\u001b[49m\u001b[43m(\u001b[49m\n\u001b[1;32m    889\u001b[0m \u001b[43m        \u001b[49m\u001b[43mhidden_states\u001b[49m\u001b[43m,\u001b[49m\n\u001b[1;32m    890\u001b[0m \u001b[43m        \u001b[49m\u001b[43mlayer_past\u001b[49m\u001b[38;5;241;43m=\u001b[39;49m\u001b[43mlayer_past\u001b[49m\u001b[43m,\u001b[49m\n\u001b[1;32m    891\u001b[0m \u001b[43m        \u001b[49m\u001b[43mattention_mask\u001b[49m\u001b[38;5;241;43m=\u001b[39;49m\u001b[43mattention_mask\u001b[49m\u001b[43m,\u001b[49m\n\u001b[1;32m    892\u001b[0m \u001b[43m        \u001b[49m\u001b[43mhead_mask\u001b[49m\u001b[38;5;241;43m=\u001b[39;49m\u001b[43mhead_mask\u001b[49m\u001b[43m[\u001b[49m\u001b[43mi\u001b[49m\u001b[43m]\u001b[49m\u001b[43m,\u001b[49m\n\u001b[1;32m    893\u001b[0m \u001b[43m        \u001b[49m\u001b[43mencoder_hidden_states\u001b[49m\u001b[38;5;241;43m=\u001b[39;49m\u001b[43mencoder_hidden_states\u001b[49m\u001b[43m,\u001b[49m\n\u001b[1;32m    894\u001b[0m \u001b[43m        \u001b[49m\u001b[43mencoder_attention_mask\u001b[49m\u001b[38;5;241;43m=\u001b[39;49m\u001b[43mencoder_attention_mask\u001b[49m\u001b[43m,\u001b[49m\n\u001b[1;32m    895\u001b[0m \u001b[43m        \u001b[49m\u001b[43muse_cache\u001b[49m\u001b[38;5;241;43m=\u001b[39;49m\u001b[43muse_cache\u001b[49m\u001b[43m,\u001b[49m\n\u001b[1;32m    896\u001b[0m \u001b[43m        \u001b[49m\u001b[43moutput_attentions\u001b[49m\u001b[38;5;241;43m=\u001b[39;49m\u001b[43moutput_attentions\u001b[49m\u001b[43m,\u001b[49m\n\u001b[1;32m    897\u001b[0m \u001b[43m    \u001b[49m\u001b[43m)\u001b[49m\n\u001b[1;32m    899\u001b[0m hidden_states \u001b[38;5;241m=\u001b[39m outputs[\u001b[38;5;241m0\u001b[39m]\n\u001b[1;32m    900\u001b[0m \u001b[38;5;28;01mif\u001b[39;00m use_cache \u001b[38;5;129;01mis\u001b[39;00m \u001b[38;5;28;01mTrue\u001b[39;00m:\n",
      "File \u001b[0;32m~/Desktop/volupal_delete/ElevaQ/env/lib/python3.10/site-packages/torch/nn/modules/module.py:1501\u001b[0m, in \u001b[0;36mModule._call_impl\u001b[0;34m(self, *args, **kwargs)\u001b[0m\n\u001b[1;32m   1496\u001b[0m \u001b[38;5;66;03m# If we don't have any hooks, we want to skip the rest of the logic in\u001b[39;00m\n\u001b[1;32m   1497\u001b[0m \u001b[38;5;66;03m# this function, and just call forward.\u001b[39;00m\n\u001b[1;32m   1498\u001b[0m \u001b[38;5;28;01mif\u001b[39;00m \u001b[38;5;129;01mnot\u001b[39;00m (\u001b[38;5;28mself\u001b[39m\u001b[38;5;241m.\u001b[39m_backward_hooks \u001b[38;5;129;01mor\u001b[39;00m \u001b[38;5;28mself\u001b[39m\u001b[38;5;241m.\u001b[39m_backward_pre_hooks \u001b[38;5;129;01mor\u001b[39;00m \u001b[38;5;28mself\u001b[39m\u001b[38;5;241m.\u001b[39m_forward_hooks \u001b[38;5;129;01mor\u001b[39;00m \u001b[38;5;28mself\u001b[39m\u001b[38;5;241m.\u001b[39m_forward_pre_hooks\n\u001b[1;32m   1499\u001b[0m         \u001b[38;5;129;01mor\u001b[39;00m _global_backward_pre_hooks \u001b[38;5;129;01mor\u001b[39;00m _global_backward_hooks\n\u001b[1;32m   1500\u001b[0m         \u001b[38;5;129;01mor\u001b[39;00m _global_forward_hooks \u001b[38;5;129;01mor\u001b[39;00m _global_forward_pre_hooks):\n\u001b[0;32m-> 1501\u001b[0m     \u001b[38;5;28;01mreturn\u001b[39;00m \u001b[43mforward_call\u001b[49m\u001b[43m(\u001b[49m\u001b[38;5;241;43m*\u001b[39;49m\u001b[43margs\u001b[49m\u001b[43m,\u001b[49m\u001b[43m \u001b[49m\u001b[38;5;241;43m*\u001b[39;49m\u001b[38;5;241;43m*\u001b[39;49m\u001b[43mkwargs\u001b[49m\u001b[43m)\u001b[49m\n\u001b[1;32m   1502\u001b[0m \u001b[38;5;66;03m# Do not call functions when jit is used\u001b[39;00m\n\u001b[1;32m   1503\u001b[0m full_backward_hooks, non_full_backward_hooks \u001b[38;5;241m=\u001b[39m [], []\n",
      "File \u001b[0;32m~/Desktop/volupal_delete/ElevaQ/env/lib/python3.10/site-packages/transformers/models/gpt2/modeling_gpt2.py:390\u001b[0m, in \u001b[0;36mGPT2Block.forward\u001b[0;34m(self, hidden_states, layer_past, attention_mask, head_mask, encoder_hidden_states, encoder_attention_mask, use_cache, output_attentions)\u001b[0m\n\u001b[1;32m    388\u001b[0m residual \u001b[38;5;241m=\u001b[39m hidden_states\n\u001b[1;32m    389\u001b[0m hidden_states \u001b[38;5;241m=\u001b[39m \u001b[38;5;28mself\u001b[39m\u001b[38;5;241m.\u001b[39mln_1(hidden_states)\n\u001b[0;32m--> 390\u001b[0m attn_outputs \u001b[38;5;241m=\u001b[39m \u001b[38;5;28;43mself\u001b[39;49m\u001b[38;5;241;43m.\u001b[39;49m\u001b[43mattn\u001b[49m\u001b[43m(\u001b[49m\n\u001b[1;32m    391\u001b[0m \u001b[43m    \u001b[49m\u001b[43mhidden_states\u001b[49m\u001b[43m,\u001b[49m\n\u001b[1;32m    392\u001b[0m \u001b[43m    \u001b[49m\u001b[43mlayer_past\u001b[49m\u001b[38;5;241;43m=\u001b[39;49m\u001b[43mlayer_past\u001b[49m\u001b[43m,\u001b[49m\n\u001b[1;32m    393\u001b[0m \u001b[43m    \u001b[49m\u001b[43mattention_mask\u001b[49m\u001b[38;5;241;43m=\u001b[39;49m\u001b[43mattention_mask\u001b[49m\u001b[43m,\u001b[49m\n\u001b[1;32m    394\u001b[0m \u001b[43m    \u001b[49m\u001b[43mhead_mask\u001b[49m\u001b[38;5;241;43m=\u001b[39;49m\u001b[43mhead_mask\u001b[49m\u001b[43m,\u001b[49m\n\u001b[1;32m    395\u001b[0m \u001b[43m    \u001b[49m\u001b[43muse_cache\u001b[49m\u001b[38;5;241;43m=\u001b[39;49m\u001b[43muse_cache\u001b[49m\u001b[43m,\u001b[49m\n\u001b[1;32m    396\u001b[0m \u001b[43m    \u001b[49m\u001b[43moutput_attentions\u001b[49m\u001b[38;5;241;43m=\u001b[39;49m\u001b[43moutput_attentions\u001b[49m\u001b[43m,\u001b[49m\n\u001b[1;32m    397\u001b[0m \u001b[43m\u001b[49m\u001b[43m)\u001b[49m\n\u001b[1;32m    398\u001b[0m attn_output \u001b[38;5;241m=\u001b[39m attn_outputs[\u001b[38;5;241m0\u001b[39m]  \u001b[38;5;66;03m# output_attn: a, present, (attentions)\u001b[39;00m\n\u001b[1;32m    399\u001b[0m outputs \u001b[38;5;241m=\u001b[39m attn_outputs[\u001b[38;5;241m1\u001b[39m:]\n",
      "File \u001b[0;32m~/Desktop/volupal_delete/ElevaQ/env/lib/python3.10/site-packages/torch/nn/modules/module.py:1501\u001b[0m, in \u001b[0;36mModule._call_impl\u001b[0;34m(self, *args, **kwargs)\u001b[0m\n\u001b[1;32m   1496\u001b[0m \u001b[38;5;66;03m# If we don't have any hooks, we want to skip the rest of the logic in\u001b[39;00m\n\u001b[1;32m   1497\u001b[0m \u001b[38;5;66;03m# this function, and just call forward.\u001b[39;00m\n\u001b[1;32m   1498\u001b[0m \u001b[38;5;28;01mif\u001b[39;00m \u001b[38;5;129;01mnot\u001b[39;00m (\u001b[38;5;28mself\u001b[39m\u001b[38;5;241m.\u001b[39m_backward_hooks \u001b[38;5;129;01mor\u001b[39;00m \u001b[38;5;28mself\u001b[39m\u001b[38;5;241m.\u001b[39m_backward_pre_hooks \u001b[38;5;129;01mor\u001b[39;00m \u001b[38;5;28mself\u001b[39m\u001b[38;5;241m.\u001b[39m_forward_hooks \u001b[38;5;129;01mor\u001b[39;00m \u001b[38;5;28mself\u001b[39m\u001b[38;5;241m.\u001b[39m_forward_pre_hooks\n\u001b[1;32m   1499\u001b[0m         \u001b[38;5;129;01mor\u001b[39;00m _global_backward_pre_hooks \u001b[38;5;129;01mor\u001b[39;00m _global_backward_hooks\n\u001b[1;32m   1500\u001b[0m         \u001b[38;5;129;01mor\u001b[39;00m _global_forward_hooks \u001b[38;5;129;01mor\u001b[39;00m _global_forward_pre_hooks):\n\u001b[0;32m-> 1501\u001b[0m     \u001b[38;5;28;01mreturn\u001b[39;00m \u001b[43mforward_call\u001b[49m\u001b[43m(\u001b[49m\u001b[38;5;241;43m*\u001b[39;49m\u001b[43margs\u001b[49m\u001b[43m,\u001b[49m\u001b[43m \u001b[49m\u001b[38;5;241;43m*\u001b[39;49m\u001b[38;5;241;43m*\u001b[39;49m\u001b[43mkwargs\u001b[49m\u001b[43m)\u001b[49m\n\u001b[1;32m   1502\u001b[0m \u001b[38;5;66;03m# Do not call functions when jit is used\u001b[39;00m\n\u001b[1;32m   1503\u001b[0m full_backward_hooks, non_full_backward_hooks \u001b[38;5;241m=\u001b[39m [], []\n",
      "File \u001b[0;32m~/Desktop/volupal_delete/ElevaQ/env/lib/python3.10/site-packages/transformers/models/gpt2/modeling_gpt2.py:312\u001b[0m, in \u001b[0;36mGPT2Attention.forward\u001b[0;34m(self, hidden_states, layer_past, attention_mask, head_mask, encoder_hidden_states, encoder_attention_mask, use_cache, output_attentions)\u001b[0m\n\u001b[1;32m    310\u001b[0m     attention_mask \u001b[38;5;241m=\u001b[39m encoder_attention_mask\n\u001b[1;32m    311\u001b[0m \u001b[38;5;28;01melse\u001b[39;00m:\n\u001b[0;32m--> 312\u001b[0m     query, key, value \u001b[38;5;241m=\u001b[39m \u001b[38;5;28;43mself\u001b[39;49m\u001b[38;5;241;43m.\u001b[39;49m\u001b[43mc_attn\u001b[49m\u001b[43m(\u001b[49m\u001b[43mhidden_states\u001b[49m\u001b[43m)\u001b[49m\u001b[38;5;241m.\u001b[39msplit(\u001b[38;5;28mself\u001b[39m\u001b[38;5;241m.\u001b[39msplit_size, dim\u001b[38;5;241m=\u001b[39m\u001b[38;5;241m2\u001b[39m)\n\u001b[1;32m    314\u001b[0m query \u001b[38;5;241m=\u001b[39m \u001b[38;5;28mself\u001b[39m\u001b[38;5;241m.\u001b[39m_split_heads(query, \u001b[38;5;28mself\u001b[39m\u001b[38;5;241m.\u001b[39mnum_heads, \u001b[38;5;28mself\u001b[39m\u001b[38;5;241m.\u001b[39mhead_dim)\n\u001b[1;32m    315\u001b[0m key \u001b[38;5;241m=\u001b[39m \u001b[38;5;28mself\u001b[39m\u001b[38;5;241m.\u001b[39m_split_heads(key, \u001b[38;5;28mself\u001b[39m\u001b[38;5;241m.\u001b[39mnum_heads, \u001b[38;5;28mself\u001b[39m\u001b[38;5;241m.\u001b[39mhead_dim)\n",
      "File \u001b[0;32m~/Desktop/volupal_delete/ElevaQ/env/lib/python3.10/site-packages/torch/nn/modules/module.py:1501\u001b[0m, in \u001b[0;36mModule._call_impl\u001b[0;34m(self, *args, **kwargs)\u001b[0m\n\u001b[1;32m   1496\u001b[0m \u001b[38;5;66;03m# If we don't have any hooks, we want to skip the rest of the logic in\u001b[39;00m\n\u001b[1;32m   1497\u001b[0m \u001b[38;5;66;03m# this function, and just call forward.\u001b[39;00m\n\u001b[1;32m   1498\u001b[0m \u001b[38;5;28;01mif\u001b[39;00m \u001b[38;5;129;01mnot\u001b[39;00m (\u001b[38;5;28mself\u001b[39m\u001b[38;5;241m.\u001b[39m_backward_hooks \u001b[38;5;129;01mor\u001b[39;00m \u001b[38;5;28mself\u001b[39m\u001b[38;5;241m.\u001b[39m_backward_pre_hooks \u001b[38;5;129;01mor\u001b[39;00m \u001b[38;5;28mself\u001b[39m\u001b[38;5;241m.\u001b[39m_forward_hooks \u001b[38;5;129;01mor\u001b[39;00m \u001b[38;5;28mself\u001b[39m\u001b[38;5;241m.\u001b[39m_forward_pre_hooks\n\u001b[1;32m   1499\u001b[0m         \u001b[38;5;129;01mor\u001b[39;00m _global_backward_pre_hooks \u001b[38;5;129;01mor\u001b[39;00m _global_backward_hooks\n\u001b[1;32m   1500\u001b[0m         \u001b[38;5;129;01mor\u001b[39;00m _global_forward_hooks \u001b[38;5;129;01mor\u001b[39;00m _global_forward_pre_hooks):\n\u001b[0;32m-> 1501\u001b[0m     \u001b[38;5;28;01mreturn\u001b[39;00m \u001b[43mforward_call\u001b[49m\u001b[43m(\u001b[49m\u001b[38;5;241;43m*\u001b[39;49m\u001b[43margs\u001b[49m\u001b[43m,\u001b[49m\u001b[43m \u001b[49m\u001b[38;5;241;43m*\u001b[39;49m\u001b[38;5;241;43m*\u001b[39;49m\u001b[43mkwargs\u001b[49m\u001b[43m)\u001b[49m\n\u001b[1;32m   1502\u001b[0m \u001b[38;5;66;03m# Do not call functions when jit is used\u001b[39;00m\n\u001b[1;32m   1503\u001b[0m full_backward_hooks, non_full_backward_hooks \u001b[38;5;241m=\u001b[39m [], []\n",
      "File \u001b[0;32m~/Desktop/volupal_delete/ElevaQ/env/lib/python3.10/site-packages/transformers/pytorch_utils.py:102\u001b[0m, in \u001b[0;36mConv1D.forward\u001b[0;34m(self, x)\u001b[0m\n\u001b[1;32m    100\u001b[0m \u001b[38;5;28;01mdef\u001b[39;00m \u001b[38;5;21mforward\u001b[39m(\u001b[38;5;28mself\u001b[39m, x):\n\u001b[1;32m    101\u001b[0m     size_out \u001b[38;5;241m=\u001b[39m x\u001b[38;5;241m.\u001b[39msize()[:\u001b[38;5;241m-\u001b[39m\u001b[38;5;241m1\u001b[39m] \u001b[38;5;241m+\u001b[39m (\u001b[38;5;28mself\u001b[39m\u001b[38;5;241m.\u001b[39mnf,)\n\u001b[0;32m--> 102\u001b[0m     x \u001b[38;5;241m=\u001b[39m \u001b[43mtorch\u001b[49m\u001b[38;5;241;43m.\u001b[39;49m\u001b[43maddmm\u001b[49m\u001b[43m(\u001b[49m\u001b[38;5;28;43mself\u001b[39;49m\u001b[38;5;241;43m.\u001b[39;49m\u001b[43mbias\u001b[49m\u001b[43m,\u001b[49m\u001b[43m \u001b[49m\u001b[43mx\u001b[49m\u001b[38;5;241;43m.\u001b[39;49m\u001b[43mview\u001b[49m\u001b[43m(\u001b[49m\u001b[38;5;241;43m-\u001b[39;49m\u001b[38;5;241;43m1\u001b[39;49m\u001b[43m,\u001b[49m\u001b[43m \u001b[49m\u001b[43mx\u001b[49m\u001b[38;5;241;43m.\u001b[39;49m\u001b[43msize\u001b[49m\u001b[43m(\u001b[49m\u001b[38;5;241;43m-\u001b[39;49m\u001b[38;5;241;43m1\u001b[39;49m\u001b[43m)\u001b[49m\u001b[43m)\u001b[49m\u001b[43m,\u001b[49m\u001b[43m \u001b[49m\u001b[38;5;28;43mself\u001b[39;49m\u001b[38;5;241;43m.\u001b[39;49m\u001b[43mweight\u001b[49m\u001b[43m)\u001b[49m\n\u001b[1;32m    103\u001b[0m     x \u001b[38;5;241m=\u001b[39m x\u001b[38;5;241m.\u001b[39mview(size_out)\n\u001b[1;32m    104\u001b[0m     \u001b[38;5;28;01mreturn\u001b[39;00m x\n",
      "\u001b[0;31mRuntimeError\u001b[0m: CUDA error: CUBLAS_STATUS_NOT_INITIALIZED when calling `cublasCreate(handle)`"
     ]
    }
   ],
   "source": [
    "# Evaluate before fine-tuning\n",
    "pre_eval_results = trainer.evaluate(encoded_dataset['test'])"
   ]
  },
  {
   "cell_type": "code",
   "execution_count": null,
   "id": "77244853-6b0e-4ef9-9df9-b1b54f33bc39",
   "metadata": {
    "execution": {
     "iopub.status.busy": "2024-02-19T21:13:35.330195Z",
     "iopub.status.idle": "2024-02-19T21:13:35.330356Z",
     "shell.execute_reply": "2024-02-19T21:13:35.330285Z",
     "shell.execute_reply.started": "2024-02-19T21:13:35.330276Z"
    },
    "scrolled": true
   },
   "outputs": [],
   "source": [
    "# Get predictions for validation set before fine tuning for 10 samples\n",
    "pre_val_predictions = trainer.predict(encoded_dataset['test'].select(range(10)))"
   ]
  },
  {
   "cell_type": "markdown",
   "id": "46356329-c14a-474e-b854-3af16cf54049",
   "metadata": {},
   "source": [
    "## Fine tuning"
   ]
  },
  {
   "cell_type": "code",
   "execution_count": 14,
   "id": "e73fc018-0493-4089-bc87-93fe375a2cf4",
   "metadata": {
    "execution": {
     "iopub.execute_input": "2024-02-19T21:04:32.234439Z",
     "iopub.status.busy": "2024-02-19T21:04:32.234057Z",
     "iopub.status.idle": "2024-02-19T21:07:09.878463Z",
     "shell.execute_reply": "2024-02-19T21:07:09.878119Z",
     "shell.execute_reply.started": "2024-02-19T21:04:32.234417Z"
    }
   },
   "outputs": [
    {
     "data": {
      "text/html": [
       "\n",
       "    <div>\n",
       "      \n",
       "      <progress value='1100' max='1100' style='width:300px; height:20px; vertical-align: middle;'></progress>\n",
       "      [1100/1100 02:37, Epoch 100/100]\n",
       "    </div>\n",
       "    <table border=\"1\" class=\"dataframe\">\n",
       "  <thead>\n",
       " <tr style=\"text-align: left;\">\n",
       "      <th>Step</th>\n",
       "      <th>Training Loss</th>\n",
       "    </tr>\n",
       "  </thead>\n",
       "  <tbody>\n",
       "    <tr>\n",
       "      <td>500</td>\n",
       "      <td>4.823500</td>\n",
       "    </tr>\n",
       "    <tr>\n",
       "      <td>1000</td>\n",
       "      <td>0.751700</td>\n",
       "    </tr>\n",
       "  </tbody>\n",
       "</table><p>"
      ],
      "text/plain": [
       "<IPython.core.display.HTML object>"
      ]
     },
     "metadata": {},
     "output_type": "display_data"
    },
    {
     "data": {
      "text/plain": [
       "TrainOutput(global_step=1100, training_loss=2.563033887689764, metrics={'train_runtime': 157.4864, 'train_samples_per_second': 53.338, 'train_steps_per_second': 6.985, 'total_flos': 548713267200000.0, 'train_loss': 2.563033887689764, 'epoch': 100.0})"
      ]
     },
     "execution_count": 14,
     "metadata": {},
     "output_type": "execute_result"
    }
   ],
   "source": [
    "# Fine-tune the model\n",
    "trainer.train()"
   ]
  },
  {
   "cell_type": "code",
   "execution_count": 15,
   "id": "54e04eb3-2e2d-486e-8910-4ec87c3eaf7f",
   "metadata": {
    "execution": {
     "iopub.execute_input": "2024-02-19T21:07:32.194154Z",
     "iopub.status.busy": "2024-02-19T21:07:32.193869Z",
     "iopub.status.idle": "2024-02-19T21:07:32.661843Z",
     "shell.execute_reply": "2024-02-19T21:07:32.661462Z",
     "shell.execute_reply.started": "2024-02-19T21:07:32.194132Z"
    }
   },
   "outputs": [
    {
     "data": {
      "text/html": [],
      "text/plain": [
       "<IPython.core.display.HTML object>"
      ]
     },
     "metadata": {},
     "output_type": "display_data"
    },
    {
     "name": "stdout",
     "output_type": "stream",
     "text": [
      "Evaluation Results before fine-tuning : 13.283446311950684\n",
      "Evaluation Results after fine-tuning  : 5.027191162109375\n"
     ]
    }
   ],
   "source": [
    "# Get predictions for validation set before fine tuning for 10 samples\n",
    "pre_val_predictions = trainer.predict(encoded_dataset['test'].select(range(10)))\n",
    "# Evaluate after fine-tuning\n",
    "post_eval_results = trainer.evaluate(encoded_dataset['test'])\n",
    "\n",
    "# Print the evaluation losses before and after fine-tuning\n",
    "print('Evaluation Results before fine-tuning :', pre_eval_results['eval_loss'])\n",
    "print('Evaluation Results after fine-tuning  :', post_eval_results['eval_loss'])\n",
    "\n",
    "# Get predictions for validation set before fine tuning for 10 samples\n",
    "post_val_predictions = trainer.predict(encoded_dataset['test'].select(range(10)))\n",
    "\n",
    "# Zip the pre and post tuning predictions\n",
    "predictions = zip(pre_val_predictions.predictions, post_val_predictions.predictions)"
   ]
  },
  {
   "cell_type": "markdown",
   "id": "10aceb47-b8c8-4437-8f51-2cea2d490e01",
   "metadata": {},
   "source": [
    "## Results"
   ]
  },
  {
   "cell_type": "code",
   "execution_count": 16,
   "id": "4579fed6-e435-42c3-8eb2-ddd436a0852b",
   "metadata": {
    "execution": {
     "iopub.execute_input": "2024-02-19T21:07:36.511851Z",
     "iopub.status.busy": "2024-02-19T21:07:36.511472Z",
     "iopub.status.idle": "2024-02-19T21:07:36.601886Z",
     "shell.execute_reply": "2024-02-19T21:07:36.601413Z",
     "shell.execute_reply.started": "2024-02-19T21:07:36.511835Z"
    }
   },
   "outputs": [
    {
     "name": "stdout",
     "output_type": "stream",
     "text": [
      "Ground truth 0 \n",
      "Diário da República, 1.ª série — N.º 112 — 9 de junho de 2017 Artigo 47.º Entrada em vigor O presente decreto -lei entre em vigor no dia seguinte ao da sua publicação; Visto e aprovado em Conselho de Ministros de 27 de abril de 2017. — António Luís Santos da Costa — Augusto Ernesto Santos Silva — Mário José Gomes de Freitas Centeno — Manuel de Herédia Caldeira Cabral; Promulgado em 6 de junho de 2017; Publique -se; O Presidente da República, MARCELO REBELO DE SOUSA; Referendado em 7 de junho de 2017; O Primeiro-Ministro, António Luís Santos da Costa; ANEXO I Requisitos essenciais de segurança e de saúde Observações preliminares: 1 — As obrigações previstas pelos requisitos essen- ciais de segurança e de saúde só se aplicam se existir o risco correspondente para o ascensor, ou o componente de segurança para ascensores, considerado quando este for utilizado nas condições previstas pelo instalador ou pelo fabricante; 2 — Os requisitos essenciais de segurança e de saúde do presente decreto -lei são imperativos. No entanto, tendo em conta o estado da tecnologia, podem não ser atingidos os objetivos por eles fixados sendo que, nesse caso e na me- dida do possível, o ascensor ou o componente de segurança para ascensores deve ser concebido e fabricado de modo a aproximar -se o mais possível de tais objetivos; 3 — O fabricante e o instalador têm a obrigação de pro- ceder a uma avaliação dos riscos por forma a identificarem todos os riscos que se aplicam ao seu produto, devendo este ser concebido e fabricado tendo em consideração essa avaliação; 1 — Generalidades: 1.1 — Aplicação da Diretiva 2006/42/CE, do Parla- mento Europeu e do Conselho, de 17 de maio de 2006: Quando exista um risco correspondente que não seja tra- tado no presente anexo, aplicam- se os requisitos essenciais de saúde e de segurança do anexo I da Diretiva 2006/42/ CE. Os requisitos essenciais de saúde e de segurança re- feridos no n.º 1.1.2 do anexo I da Diretiva 2006/42/CE aplicam -se em todas as circunstâncias; 1.2 — Habitáculo: O habitáculo de cada ascensor deve ser uma cabina, que deve ser concebida e construída por forma a oferecer o espaço e a resistência correspondentes ao número má- ximo de pessoas e à carga nominal do ascensor fixados pelo instalador; Sempre que o ascensor se destine ao transporte de pes- soas e as suas dimensões o permitam, a cabina deve ser concebida e fabricada por forma a não dificultar ou impe- dir, pelas suas características estruturais, o acesso e a uti- lização por pessoas portadoras de deficiência, e a permitir todas as adaptações adequadas, destinadas a facilitar -lhes a sua utilização; 1.3 — Meios de suspensão e de suporte: Os meios de suspensão e/ou de suporte da cabina, as amarrações e todos os terminais dos mesmos devem ser; 2900 cendo as competências previstas no presente decreto -lei, e designadamente as seguintes: a) Recolher dados e informações relativos à aplicação do presente decreto -lei junto das autoridades de fiscalização do mercado e do controlo das fronteiras, assim como da autoridade notificadora e de acreditação; b) Reportar à Comissão Europeia, e aos Estados- -Membros, as informações recolhidas nos termos da alínea anterior; c) Representar o Estado Português nos trabalhos do Comité Ascensores, nos termos do Regulamento (UE) n.º 182/2011, do Parlamento Europeu e do Conselho, de 16 de fevereiro de 2011; d) Coordenar esforços com a ASAE no exercício das respetivas competências, conforme expressamente previsto no presente decreto -lei; e) Acompanhar, em coordenação com o IPQ, I. P., a atividade dos organismos notificados, conforme expres- samente previsto no presente decreto -lei; f) Promover e realizar encontros periódicos com a ASAE, o IPQ e a AT para partilha de informação e avaliação de situações críticas de mercado e definição de estratégias para o eficaz controlo do mesmo; Artigo 44.º Regiões Autónomas 1 — Os atos e os procedimentos necessários à execu- ção do presente decreto -lei nas Regiões Autónomas dos Açores e da Madeira competem às entidades das respetivas administrações regionais com atribuições e competências nas matérias em causa; 2 — O produto resultante da aplicação das respetivas coimas pelas Regiões Autónomas constitui receita própria das mesmas; Artigo 45.º Norma transitória 1 — Consideram -se conformes com o presente decreto- -lei todos os ascensores e todos os componentes de segu- rança para ascensores colocados em mercado desde 20 de abril de 2016 até à data da entrada em vigor do presente decreto -lei, desde que tenham sido cumpridos os requisitos da Diretiva n.º 2014/33/UE; 2 — Os certificados e as decisões emitidas por organis- mos de avaliação da conformidade ao abrigo do Decreto- -Lei n.º 295/98, de 22 de setembro, alterado pelo Decreto- -Lei n.º 176/2008, de 26 de agosto, mantêm -se válidos para efeitos do presente decreto -lei; 3 — A primeira lista a entregar pelos instaladores, após a data da entrada em vigor do presente decreto -lei, em conformidade com o estabelecido no n.º 1 do artigo 22.º do Decreto -Lei n.º 320/2002, de 28 de dezembro, deve iden- tificar todos os ascensores ou componentes de segurança de ascensores colocados em serviço ou disponibilizados no mercado após 20 de abril de 2016; Artigo 46.º Norma revogatória É revogado o Decreto -Lei n.º 295/98, de 22 de setembro, alterado pelo Decreto -Lei n.º 176/2008, de 26 de agosto, sem prejuízo do disposto no artigo anterior.\n",
      "\n",
      "Pre-prediction \n",
      "ário da República, 1.ª série — N.º 120 — 9 de junho de 2017 mercigo 4.º Aidada em vigor O presente diplomareto -lei era a vigor no dia seguinte ao da sua publicação A Diso Legisl public publicado p vigselho, 2016istro, E de agril de 2014 Pub A Oesoma daís Se da Rep Rica Ao Lo Rodrigo da ran Aáqu da Manuelarantque Eni Oaur da La Fmosndio\n",
      "\n",
      "Post-prediction \n",
      "ário da República, 1.ª série — N.º 120 — 9 de junho de 2017 mercigo 4.º Aidada em vigor O presente diplomareto -lei era a vigor no dia seguinte ao da sua publicação A Diso Legisl public publicado p vigselho, 2016istro, E de agril de 2014 Pub A Oesoma daís Se da Rep Rica Ao Lo Rodrigo da ran Aáqu da Manuelarantque Eni Oaur da La Fmosndio\n",
      "\n",
      "----------------------------------------------------------------------------------------------------------------------\n",
      "\n",
      "Ground truth 1 \n",
      "Diário da República, 1.ª série — N.º 120 — 24 de Junho de 2008 Sempre que, para poder funcionar, uma máquina esteja equipada com dispositivos que ultrapassem o seu gaba- rito normal (por exemplo, estabilizadores, lanças, etc.), o condutor deve dispor de meios que lhe permitam verificar facilmente, antes de a deslocar, se esses dispositivos se encontram numa posição determinada que permita uma deslocação segura; O mesmo se aplica a todos os outros elementos que, a fim de permitir uma deslocação segura, tenham de ocupar uma posição determinada, se necessário através de um encravamento; Sempre que tal não dê origem a outros riscos, a deslo- cação da máquina deve depender do facto de os elementos acima referidos se encontrarem na posição de segurança; Durante o arranque do motor, não deve ser possível qualquer deslocação involuntária da máquina; 3.3.3 — Função de deslocação. — Sem prejuízo das disposições em matéria de circulação rodoviária, as má- quinas automotoras e seus reboques devem respeitar os requisitos de diminuição de velocidade, paragem, trava- gem e imobilização, garantindo a segurança em todas as condições de serviço, carga, velocidade, estado do solo e declive previstas; A diminuição de velocidade e a paragem da máquina au- tomotora devem poder ser obtidas pelo condutor por meio de um dispositivo principal. Na medida em que a segurança o exija, em caso de falha do dispositivo principal, ou na ausência de energia para accionar esse dispositivo, deve existir um dispositivo de emergência com um dispositivo de comando inteiramente independente e facilmente aces- sível que permita o abrandamento e a paragem; Na medida em que a segurança o exija, a manutenção da imobilização da máquina deve ser obtida por meio de um dispositivo de estacionamento. Este pode ser combinado com um dos dispositivos referidos no segundo parágrafo desde que a sua acção seja exclusivamente mecânica; Uma máquina equipada com comando à distância deve dispor de meios para iniciar automática e imediatamente a paragem e para impedir o funcionamento potencialmente perigoso nas seguintes situações: — Quando o condutor perder o controlo da máquina; — Na recepção de um sinal de paragem; — Quando for detectado um defeito numa parte do sistema relacionada com a segurança; — Quando não for detectado um sinal de validação num prazo especificado; O n.º 1.2.4 não se aplica à função «deslocação»; 3.3.4 — Deslocação de máquinas com condutor apeado. — Qualquer deslocação de uma máquina auto- motora com o condutor apeado só deve ser possível desde que o condutor efectue uma acção continuada sobre o dispositivo de comando correspondente. Em especial, não deve ser possível qualquer deslocação aquando do arranque do motor; Os sistemas de comando das máquinas com condutor apeado devem ser concebidos de forma a reduzirem ao mí- nimo os riscos devidos à deslocação inopinada da máquina em direcção ao condutor, nomeadamente os riscos de: — Esmagamento; — Ferimentos devidos às ferramentas rotativas; A velocidade de deslocação da máquina deve ser com- patível com a velocidade de um condutor apeado.; 3782 D de protecção referidas nos n.os 3.4.3 ou 3.4.4, os assentos devem ser concebidos ou equipados com um sistema de retenção que permita manter as pessoas nos seus assen- tos, sem dificultar os movimentos necessários ao trabalho nem os movimentos resultantes da suspensão dos assentos relativamente à estrutura. Tais sistemas de retenção não deverão ser montados se aumentarem o risco; 3.2.3 — Postos destinados às outras pessoas. — Se as condições de utilização previrem que outras pessoas, além do condutor, possam ser ocasional ou regularmente transportadas pela máquina ou nela trabalhar, devem ser previstos postos apropriados que permitam o respectivo transporte ou o trabalho sem riscos; Os segundo e terceiro parágrafos do n.º 3.2.1 aplicam- -se igualmente aos lugares previstos para outras pessoas além do condutor; 3.3 — Sistemas de comando. — Se necessário, devem ser previstos meios para impedir o uso não autorizado dos comandos; No caso de comandos à distância, cada unidade de co- mando deve indicar de forma inequívoca qual ou quais as máquinas destinadas a serem comandadas por essa unidade; O sistema de comando à distância deve ser concebido e fabricado de modo a ter efeito exclusivamente sobre: — A máquina em causa; — As funções em causa; As máquinas comandadas à distância devem ser conce- bidas e fabricadas de modo a responder apenas aos sinais das unidades de comando previstas; 3.3.1 — Dispositivos de comando. — A partir do posto de condução, o condutor deve poder accionar todos os dispositivos de comando necessários ao funcionamento da máquina, excepto no que diz respeito às funções que só possam ser comandadas com segurança através de dis- positivos de comando situados noutro local. Estas funções incluem, em especial, as que estejam a cargo de outros operadores que não o condutor ou para as quais o condu- tor tenha de abandonar o posto de condução a fim de as comandar com segurança; Se existirem pedais, estes devem ser concebidos, cons- truídos e dispostos de modo a poderem ser accionados pelo condutor com segurança e com um mínimo de riscos de accionamento incorrecto. Devem apresentar uma superfície antiderrapante e ser de fácil limpeza; Quando o seu funcionamento for susceptível de causar perigo, nomeadamente movimentos perigosos, os disposi- tivos de comando, com excepção dos que tenham posições predeterminadas, devem voltar à posição neutra logo que o operador os liberte; No caso das máquinas com rodas, o mecanismo de direcção deve ser concebido e construído de modo a amor- tecer os movimentos bruscos do volante ou da alavanca de direcção resultantes de choques nas rodas directrizes; Qualquer comando de bloqueio do diferencial deve ser concebido e disposto de modo a permitir desbloquear o diferencial quando a máquina estiver em movimento; O sexto parágrafo do n.º 1.2.2, relativo aos sinais de aviso sonoros e ou visuais, só se aplica em caso de marcha atrás; 3.3.2 — Arranque/deslocação. — Qualquer desloca- ção comandada das máquinas automotoras com condutor transportado só poderá efectuar -se se o condutor estiver no seu posto de comando.\n",
      "\n",
      "Pre-prediction \n",
      "ário da República, 1.ª série — N.º 120 — 24 de Junho de 2008 A est que poss no asuder asionament os ama reinsáquina de pr emada com umiivos p orapass, queuu reconarant as tia, oacar o oeleidadaament, uz� de esceter pui e func sersoç uc me permhe seir serificar osiride permit aes de cpllar me a necessencia materitivos o aontrare\n",
      "\n",
      "Post-prediction \n",
      "ário da República, 1.ª série — N.º 120 — 24 de Junho de 2008 A est que poss no asuder asionament os ama reinsáquina de pr emada com umiivos p orapass, queuu reconarant as tia, oacar o oeleidadaament, uz� de esceter pui e func sersoç uc me permhe seir serificar osiride permit aes de cpllar me a necessencia materitivos o aontrare\n",
      "\n",
      "----------------------------------------------------------------------------------------------------------------------\n",
      "\n",
      "Ground truth 2 \n",
      "DAREPÚBLICA—ISÉRIE-A 8161 d) Empresa de manutenção de ascensores (EMA) a entidadequeefectuaeéresponsávelpelamanu- tenção das instalações, cujo estatuto constitui o anexo I a este diploma e que dele faz parte integrante; e) Entidade inspectora (EI) a empresa habilitada a efectuar inspecções a instalações, bem como a realizar inquéritos, peritagens, relatórios e pareceres, cujo estatuto constitui o anexo IV a este diploma e que dele faz parte integrante; CAPÍTULOII Manutenção Artigo3.o Obrigaçãodemanutenção 1—Asinstalaçõesabrangidaspelopresentediploma ficam,obrigatoriamente,sujeitasamanutençãoregular, a qual é assegurada por uma EMA, que assumirá a responsabilidade, criminal e civil, pelos acidentes cau- sados pela deficiente manutenção das instalações ou peloincumprimentodasnormasaplicáveis; 2—O proprietário da instalação é responsável soli- dariamente, nos termos do número anterior, sem pre- juízo da transferência da responsabilidade para uma entidadeseguradora; 3—Paraefeitosderesponsabilidadecriminaloucivil, presume-se que os contratos de manutenção a que res- peita o artigo seguinte integram sempre os requisitos mínimos estabelecidos para o respectivo tipo, estabe- lecidosnoartigo5.o 4—A EMA tem o dever de informar por escrito o proprietário das reparações que se torne necessário efectuar; 5—Caso sejadetectadasituaçãodegraveriscopara o funcionamento da instalação, a EMA deve proceder àsuaimediataimobilização,dandodissoconhecimento, por escrito, ao proprietário e à câmara municipal res- pectiva,noprazodequarentaeoitohoras; Artigo4.o Contratodemanutenção 1—O proprietário de uma instalação em serviço é obrigado a celebrar um contrato de manutenção com umaEMA; 2—O contrato de manutenção, no caso de insta- lações novas, deverá iniciar a sua vigência no momento da entrada em serviço da instalação, sem prejuízo do dispostononúmeroseguinte; 3—Durante o primeiro ano de funcionamento da instalação, a entidade instaladora fica obrigada, direc- tamente ou através de uma EMA, a assegurar a sua manutenção,salvoseoproprietárioadesobrigar,através da celebração de um contrato de manutenção com umaEMA; Artigo5.o Tiposdecontratodemanutenção 1—O contrato de manutenção, a estabelecer entre o proprietário de uma instalação e uma EMA, pode corresponderaumdosseguintestipos: a) Contrato de manutenção simples, destinado a manterainstalaçãoemboascondiçõesdesegu-; N.o300—28deDezembrode2002 DIÁRIOD Porseuturno,opresentediplomavisa,também,trans- ferir para as câmaras municipais a competência para o licenciamento e fiscalização destas instalações, até ao momentoatribuídaàsdirecçõesregionaisdeeconomia, em obediência à alínea a) do n.o 2 do artigo 17.o da Lei n.o 159/99, de 14 de Setembro, que estabelece o quadro de transferência de atribuições e competências paraasautarquiaslocais; Opresentediplomavisa,assim,prosseguirdoisobjec- tivos:porumlado,aprovarnovasregrasquantoàmanu- tençãoeinspecçãodeascensores,monta-cargas,escadas mecânicasetapetesrolanteseestabelecerocorrespon- dente regime contra-ordenacional, por outro, proceder à efectiva transferência das competências que nesta matéria se encontravam atribuídas a serviços da admi- nistração central para as câmaras municipais conforme impõe o princípio da descentralização administrativa, concretizado na Lei n.o 159/99, de 14 de Setembro; Mantém-se em vigor o Decreto-Lei n.o 295/98, de 22deSetembro,quantoàconcepção,fabrico,instalação, ensaios e controlo final dos ascensores e respectivos componentesdesegurança; Foram ouvidos os órgãos de governo próprio das Regiões Autónomas e a Associação Nacional de Muni- cípiosPortugueses; Assim: Nos termos da alínea c) do n.o 1 do artigo 198.o da Constituição, o Governo decreta, para valer como lei geraldaRepública,oseguinte: CAPÍTULOI Disposiçõesgerais Artigo1.o Objectoeâmbito 1—O presente diploma estabelece as disposições aplicáveis à manutenção e inspecção de ascensores, monta-cargas, escadas mecânicas e tapetes rolantes, de agora em adiante designados abreviadamente por ins- talações, após a sua entrada em serviço, bem como as condições de acesso às actividades de manutenção e deinspecção; 2—Excluem-se do âmbito de aplicação do presente diplomaasinstalaçõesidentificadasnon.o2doartigo2.o do Decreto-Lei n.o 295/98, de 22 de Setembro, bem como os monta-cargas de carga nominal inferior a 100kg; Artigo2.o Definições Para efeitos do presente diploma, entende-se por: a) Entrada em serviço ou entrada em funciona- mento o momento em que a instalação é colo- cadaàdisposiçãodosutilizadores; b) Manutenção o conjunto de operações de veri- ficação, conservação e reparação efectuadas com a finalidade de manter uma instalação em boas condições de segurança e funcionamento; c) Inspecçãooconjuntodeexameseensaiosefec- tuados a uma instalação, de carácter geral ou incidindo sobre aspectos específicos, para com- provar o cumprimento dos requisitos regula- mentares;\n",
      "\n",
      "Pre-prediction \n",
      "áEPÚBLICA—ISÉRIE-A 8165 Art) Debracerazç contrutenção Art 16ensores,EC, N queidade int níaar-rieabilvel aonutenagesseha� das operaalações 3 durja solicitáut deut rece direexo IV ao pr a d se:ic parte integrante; b) Descidadequeados-EC) dec Se entissresa de-idaado de ordfetuada;critção�es;oalação�es; sendm 1\n",
      "\n",
      "Post-prediction \n",
      "áEPÚBLICA—ISÉRIE-A 8165 Art) Debracerazç contrutenção Art 16ensores,EC, N queidade int níaar-rieabilvel aonutenagesseha� das operaalações 3 durja solicitáut deut rece direexo IV ao pr a d se:ic parte integrante; b) Descidadequeados-EC) dec Se entissresa de-idaado de ordfetuada;critção�es;oalação�es; sendm 1\n",
      "\n",
      "----------------------------------------------------------------------------------------------------------------------\n",
      "\n",
      "Ground truth 3 \n",
      "Diário da República, 1.ª série — N.º 120 — 24 de Junho de 2008 b) A preparação do manual de montagem descrito no anexo VI do presente decreto- lei, que dele faz parte inte- grante; c) A elaboração da declaração de incorporação descrita na parte B do n.º 1 do anexo II; 2 — O manual de montagem e a declaração de incor- poração devem acompanhar a quase -máquina até esta ser incorporada na máquina final, passando a fazer parte do processo técnico da máquina acabada; Artigo 9.º Organismos notificados 1 — Os organismos encarregados de efectuar os pro- cedimentos de avaliação de conformidade previstos nos n.os 3 e 4 do artigo 7.º são acreditados para o efeito pelo Instituto Português de Acreditação, I. P., com observância dos critérios mínimos previstos no anexo XI do presente decreto -lei, que dele faz parte integrante; 2 — A designação dos organismos a que se refere o número anterior deve indicar os procedimentos específicos de avaliação da conformidade e as categorias de máquinas para as quais esses organismos são designados, bem como os números de identificação previamente atribuídos pela Comissão; 3 — Presume -se que os organismos que satisfazem os critérios de avaliação previstos nas normas harmonizadas pertinentes, cujas referências são publicadas no Jornal Oficial da União Europeia, preenchem os critérios do anexo XI abrangidos por essas normas harmonizadas; 4 — Os organismos notificados são regularmente ava- liados pelo Instituto Português de Acreditação, I. P., no que concerne ao respeito dos critérios previstos no anexo XI, devendo, quando solicitados para esse efeito, disponibilizar todas as informações necessárias, incluindo documentação orçamental, à verificação do cumprimento dos requisitos previstos no referido anexo; 5 — Quando se verifique que um organismo notificado deixou de preencher os critérios previstos no anexo XI ou que esse organismo não cumpre, de forma grave, as suas responsabilidades, a sua notificação é retirada; 6 — Se um organismo notificado constatar que um fa- bricante não satisfaz ou deixou de satisfazer os requisitos pertinentes estabelecidos no presente decreto- lei ou que não deveria ter sido emitido um certificado de exame CE de tipo ou aprovado um sistema de garantia de qualidade, esse organismo, observando o princípio de proporcionali- dade, suspende, retira ou submete a restrições o certificado ou a aprovação emitida, fundamentando detalhadamente a sua decisão, excepto se o fabricante garantir o respeito dos referidos requisitos através de medidas de correcção adequadas; 7 — O organismo notificado informa as entidades fisca- lizadoras previstas no n.º 1 do artigo 14.º em caso de sus- pensão, retirada ou imposição de restrições do certificado ou da aprovação ou no caso de ser necessária a intervenção das próprias entidades fiscalizadoras; 8 — Da decisão de suspensão, revogação ou imposição de restrições do certificado ou da aprovação tomada pelo organismo notificado cabe recurso a interpor pelo fabri- cante junto da Direcção -Geral das Actividades Económicas (DGAE), no prazo de 10 dias úteis a contar da data de recepção da referida decisão.; 3768 D sejam acompanhadas da declaração CE de conformidade, cujos elementos se encontram previstos na parte A do n.º 1 do anexo II; 2 — Presume- se que uma máquina fabricada de acordo com uma norma harmonizada, cujas referências tenham sido publicadas no Jornal Oficial da União Europeia, é conforme com os requisitos essenciais de saúde e de se- gurança abrangidos por essa norma harmonizada; 3 — A presunção de conformidade prevista no número anterior limita- se ao âmbito de aplicação da ou das normas harmonizadas aplicadas e aos requisitos essenciais perti- nentes por elas abrangidos; Artigo 7.º Procedimentos de avaliação da conformidade das máquinas 1 — Para certificar a conformidade da máquina com o disposto no presente decreto -lei, o fabricante ou o seu mandatário deve aplicar um dos procedimentos de ava- liação da conformidade descritos nos números seguintes; 2 — Sempre que a máquina não esteja referida no ane- xo IV do presente decreto -lei, que dele faz parte integrante, o fabricante ou o seu mandatário deve aplicar o procedi- mento de avaliação da conformidade com controlo interno do fabrico da máquina previsto no anexo VIII do presente decreto -lei, que dele faz parte integrante; 3 — Sempre que a máquina esteja referida no anexo IV e seja fabricada respeitando as normas harmonizadas refe- ridas no n.º 2 do artigo anterior e estas abranjam todos os requisitos essenciais pertinentes de saúde e de segurança, o fabricante ou o seu mandatário deve aplicar um dos seguintes procedimentos: a) Procedimento de avaliação da conformidade com con- trolo interno do fabrico da máquina, previsto no anexo VIII; b) Procedimento de exame CE de tipo previsto no ane- xo IX do presente decreto -lei, que dele faz parte integrante, e ainda controlo interno do fabrico da máquina previsto no n.º 3 do anexo VIII; c) Procedimento de garantia de qualidade total previsto no anexo X do presente decreto -lei, que dele faz parte integrante; 4 — Sempre que a máquina esteja referida no anexo IV e seja fabricada não respeitando ou respeitando apenas parcialmente as normas harmonizadas referidas no n.º 2 do artigo anterior, ou se as normas harmonizadas não abrange- rem todos os requisitos essenciais pertinentes de saúde e de segurança, ou se não existirem normas harmonizadas para a máquina em questão, o fabricante ou o seu mandatário deve aplicar um dos seguintes procedimentos: a) Procedimento de exame CE de tipo previsto no anexo IX e ainda controlo interno do fabrico da máquina previsto no n.º 3 do anexo VIII; b) Procedimento de garantia de qualidade total previsto no anexo X; Artigo 8.º Procedimento para as quase -máquinas 1 — O fabricante de uma quase -máquina, ou o seu mandatário, antes da respectiva colocação no mercado, deve assegurar: a) A preparação da documentação técnica relevante descrita na parte B do anexo VII;\n",
      "\n",
      "Pre-prediction \n",
      "ário da República, 1.ª série — N.º 120 — 24 de Junho de 2008 A) A mação de pro de proteaem deart- nexo IV e asce decreto - lei, o ap possaz parte integemress leir a c) A mação dos docaração do medação darita a ale inst) Dec.º 1 do presentexo VII; — O fabric de montagem descfetplaração de decrig bons então do dec\n",
      "\n",
      "Post-prediction \n",
      "ário da República, 1.ª série — N.º 120 — 24 de Junho de 2008 A) A mação de pro de proteaem deart- nexo IV e asce decreto - lei, o ap possaz parte integemress leir a c) A mação dos docaração do medação darita a ale inst) Dec.º 1 do presentexo VII; — O fabric de montagem descfetplaração de decrig bons então do dec\n",
      "\n",
      "----------------------------------------------------------------------------------------------------------------------\n",
      "\n",
      "Ground truth 4 \n",
      "ário da República, 1.ª série — N.º 34 — 18 de fevereiro de 2016 REGIÃO AUTÓNOMA DA MADEIRA Assembleia Legislativa Decreto Legislativo Regional n.º 7/2016/M APROVA O NOVO REGIME DE MANUTENÇÃO E INSPEÇÃO DE ASCENSORES, MONTA -CARGAS, ESCADAS MECÂNICAS E TAPETES ROLANTES, APÓS A SUA ENTRADA EM SERVIÇO, BEM COMO AS CONDIÇÕES DE ACESSO ÀS ATIVIDADES DE MANUTENÇÃO; Considerando que a Lei n.º 65/2013, de 27 de agosto, veio aprovar os requisitos de acesso e exercício das Em- presas de Manutenção de Instalações de Elevação e das Entidades Inspetoras de Instalações de Elevação e seus profissionais no âmbito da diretiva de Serviços aprovado pelo Decreto -Lei n.º 92/2010, de 26 de julho; Considerando que a supra referida Lei prevê, no seu artigo 41.º, a competência das Regiões Autónomas para estabelecerem os atos e os procedimentos necessários à sua execução, e Considerando a desconformidade do regime previsto no Decreto Legislativo Regional n.º 2/2004/M, de 10 de março: Importa estabelecer novos procedimentos de controlo e registo das instalações de elevação; Assim: A Assembleia Legislativa da Região Autónoma da Ma- deira decreta, ao abrigo da alínea a) do n.º 1 do artigo 227.º, do n.º 1 do artigo 228.º da Constituição da República Por- tuguesa e da alínea c) do n.º 1 do artigo 37.º do Estatuto Político -Administrativo da Região Autónoma da Madeira, aprovado pela Lei n.º 13/91, de 5 de junho, revisto pelas Leis n.os 130/99, de 21 de agosto, e 12/2000, de 21 de junho, o seguinte: CAPÍTULO I Disposições gerais Artigo 1.º Objetivo e âmbito 1 — O presente diploma estabelece as disposições aplicáveis à manutenção e inspeção de ascensores, monta- -cargas, escadas mecânicas e tapetes rolantes, de agora em diante designados abreviadamente por instalações, após a sua entrada em serviço, bem como as condições de acesso às atividades de manutenção; 2 — Excluem -se do âmbito de aplicação do presente diploma as instalações identificadas no n.º 2 do artigo 2.º do Decreto -Lei n.º 295/98, de 22 de setembro, alterado pelo Decreto -Lei n.º 176/2008, de 26 de agosto, bem como os monta- cargas de carga nominal inferior a 100 kg; Artigo 2.º Definições Para efeitos do presente diploma, entende -se por: a) «Entrada em serviço ou entrada em funcionamento» o momento em que a instalação é colocada à disposição dos utilizadores, que pressupõe a declaração de conformidade com a respetiva marcação CE;; 514 Diá ASSEMBLEIA DA REPÚBLICA Resolução da Assembleia da República n.º 31/2016 Eleição para a Comissão para a Igualdade e Contra a Discriminação Racial A Assembleia da República resolve, nos termos do n.º 5 do artigo 166.º da Constituição e da alínea b) do artigo 6.º da Lei n.º 134/99, de 28 de agosto, eleger para a Comis- são para a Igualdade e Contra a Discriminação Racial, os seguintes representantes: Efetivos: Mónica Sofia do Amaral Pinto Ferro (PSD); Elza Maria Henriques Deus Pais (PS); Suplentes: Ângela Maria Pinheiro Branquinho Guerra (PSD); José Maximiano de Albuquerque Almeida Leitão (PS); Aprovada em 12 de fevereiro de 2016; O Presidente da Assembleia da República, Eduardo Ferro Rodrigues; Resolução da Assembleia da República n.º 32/2016 Eleição para o Conselho Superior de Segurança Interna A Assembleia da República resolve, nos termos do n.º 5 do artigo 166.º da Constituição e da alínea g) do n.º 2 do artigo 12.º da Lei n.º 53/2008, de 29 de agosto, alterada pela Lei n.º 59/2015, de 24 de junho, eleger para o Conselho Superior de Segurança Interna os seguintes Deputados: Luís Maria de Barros Marques Guedes (PSD); Alberto de Sousa Martins (PS); Aprovada em 12 de fevereiro de 2016; O Presidente da Assembleia da República, Eduardo Ferro Rodrigues; Resolução da Assembleia da República n.º 33/2016 Eleição para o Conselho Superior de Informações A Assembleia da República resolve, nos termos do n.º 5 do artigo 166.º da Constituição e da alínea g) do n.º 2 do artigo 18.º da Lei Quadro do Sistema de Infor- mações da República Portuguesa, alterada e republicada pela Lei Orgânica n.º 14/2014, de 13 de agosto, eleger para o Conselho Superior de Informações os seguintes Deputados: Efetivos: Teresa de Andrade Leal Coelho (PSD); Ascenso Luís Seixas Simões (PS); Suplentes: Hugo Alexandre Lopes Soares (PSD); João Paulo de Loureiro Rebelo (PS); Aprovada em 12 de fevereiro de 2016; O Presidente da Assembleia da República, Eduardo Ferro Rodrigues.\n",
      "\n",
      "Pre-prediction \n",
      "á da República, 1.ª série — N.º 120 — 18 de fevereiro de 2016 ArtEç�,É�RIICAA O,áA,Esembleia Legislativa,reto-ativa Regional n.º 505/2012/A/Q, Prime, VIIIIO, E�O,�É� IntegIISTRUCT�,�É� V FENT�As 1�A,A,ENT,,AES,�ENICAR,IIECES�,IOES�, DOTEX�RI DOT decPA D\n",
      "\n",
      "Post-prediction \n",
      "á da República, 1.ª série — N.º 120 — 18 de fevereiro de 2016 ArtEç�,É�RIICAA O,áA,Esembleia Legislativa,reto-ativa Regional n.º 505/2012/A/Q, Prime, VIIIIO, E�O,�É� IntegIISTRUCT�,�É� V FENT�As 1�A,A,ENT,,AES,�ENICAR,IIECES�,IOES�, DOTEX�RI DOT decPA D\n",
      "\n",
      "----------------------------------------------------------------------------------------------------------------------\n",
      "\n",
      "Ground truth 5 \n",
      "Diário da República, 1.ª série — N.º 112 — 9 de junho de 2017 Assim: Nos termos da alínea a) do n.º 1 do artigo 198.º da Cons- tituição, o Governo decreta o seguinte: CAPÍTULO I Disposições gerais Artigo 1.º Objeto O presente decreto -lei estabelece os requisitos aplicáveis à conceção, fabrico e colocação no mercado de ascensores e de componentes de segurança para ascensores, transpondo para a ordem jurídica interna a Diretiva n.º 2014/33/UE, do Parlamento Europeu e do Conselho, de 26 de feve- reiro de 2014, relativa à harmonização da legislação dos Estados -Membros respeitante a ascensores e componentes de segurança para ascensores; Artigo 2.º Âmbito de aplicação 1 — O presente decreto -lei aplica- se aos ascensores instalados de forma permanente em edifícios e construções e destinados ao transporte: a) De pessoas; b) De pessoas e mercadorias; c) Unicamente de mercadorias, desde que o habitáculo seja acessível, sem dificuldades, a pessoas e esteja equi- pado com comandos situados no seu interior ou ao alcance de qualquer pessoa que nele se encontre; 2 — O presente decreto- lei aplica -se ainda aos compo- nentes de segurança dos ascensores referidos no número anterior, identificados no anexo III ao presente decreto -lei, do qual faz parte integrante; 3 — O presente decreto -lei não se aplica: a) Aos aparelhos de elevação cuja velocidade de des- locação seja igual ou inferior a 0,15 m/s; b) Aos elevadores de estaleiro; c) Às instalações por cabos, incluindo os funiculares; d) Aos ascensores especialmente concebidos e cons- truídos para fins militares ou de manutenção da ordem pública; e) Aos aparelhos de elevação, a partir dos quais podem realizar -se trabalhos; f) Aos ascensores para poços de minas; g) Aos aparelhos de elevação destinados a elevar artistas durante representações artísticas; h) Aos aparelhos de elevação instalados em meios de transporte; i) Aos aparelhos de elevação ligados a uma máquina e destinados exclusivamente ao acesso a postos de trabalho, designadamente pontos de manutenção e de inspeção das máquinas; j) Aos comboios de cremalheira; k) Às escadas mecânicas e tapetes rolantes; 4 — O presente decreto- lei não se aplica ainda aos ris- cos relacionados com ascensores ou com componentes de segurança para ascensores, caso estes estejam ou passem a estar abrangidos, total ou parcialmente, por direito es- pecífico da União Europeia (UE).; 2888 do Parlamento Europeu e do Conselho, de 29 de junho de 1995, substituindo -a e desenvolvendo regras e princípios relativos aos intervenientes e fases do processo de con- ceção, fabrico, instalação, fornecimento e colocação no mercado dos ascensores e dos componentes de segurança para ascensores; O regime em vigor, estabelecido no Decreto -Lei n.º 295/98, de 22 de setembro, alterado pelo Decreto -Lei n.º 176/2008, de 26 de agosto, aplicável aos ascensores utilizados de forma permanente, em edifícios e construções, e destina- dos ao transporte de pessoas e mercadorias, visa garantir a livre circulação e a segurança da utilização dos ascen- sores, e seus equipamentos, através da adoção de uma série de disposições relativas aos processos de conceção, fabrico, instalação, ensaios e controlo final, ao mesmo tempo que define as competências dos organismos na- cionais intervenientes. A alteração introduzida em 2008 teve em consideração o Regulamento (CE) n.º 765/2008, do Parlamento Europeu e do Conselho, de 9 de julho de 2008, que estabelece os requisitos de acreditação e fiscali- zação do mercado relativos à comercialização de produtos, e a Decisão n.º 768/2008/CE, do Parlamento Europeu e do Conselho, também de 9 de julho de 2008, relativa a um quadro comum para a comercialização de produtos; Com o presente decreto -lei, procede -se a uma definição mais pormenorizada dos direitos e obrigações dos interve- nientes nos processos de fabrico, colocação e distribuição no mercado, bem como das competências das autoridades nacionais competentes, no sentido de reforçar o controlo e a fiscalização do cumprimento das regras aplicáveis, tendo em vista garantir um elevado nível de proteção da saúde e da segurança de pessoas e bens e uma sã concorrência nos mercados; Neste quadro, é de assinalar o princípio de que os as- censores e os componentes de segurança para ascensores só podem ser colocados no mercado e entrar em serviço quando cumpram com as disposições do presente decreto- -lei. Para tanto, devem cumprir com os requisitos de se- gurança e de proteção da saúde neste elencados, serem acompanhados de uma declaração UE de conformidade a emitir pelo instalador ou fabricante e, se for o caso, pelo importador, bem como da marcação CE, que materiali- zam um processo cujas regras, além de estabelecidas no presente decreto- lei, constam ainda do Regulamento (CE) n.º 765/2008, do Parlamento Europeu e do Conselho, de 9 de julho de 2008; Além disso, são detalhadas as competências das auto- ridades nacionais responsáveis pelo acompanhamento, coordenação, operacionalização e fiscalização da aplicação do regime estabelecido no presente decreto -lei, designada- mente, a Direção -Geral de Geologia e Energia, enquanto responsável pela coordenação geral da aplicação do sis- tema, o Instituto Português de Qualidade, I. P., enquanto entidade nacional responsável pela notificação à Comis- são Europeia dos organismos notificados, após concluída a acreditação dos mesmos pelo Instituto Português de Acreditação, I. P., e, enquanto autoridade de fiscalização do mercado, a Autoridade da Segurança Alimentar e Eco- nómica; Foram ouvidos os órgãos de governo próprio das Re- giões Autónomas; Foi promovida a audição ao Conselho Nacional do Con- sumo.\n",
      "\n",
      "Pre-prediction \n",
      "ário da República, 1.ª série — N.º 120 — 9 de junho de 2017 mercin o 6 paros de autínea f) do n.º 2 do artigo anterior.º; Leiol �ularadaão d do termo deretoçuuinte à aÍTULO II.posição�es Aut)is 1igo 20 —º Autet de terme decreto -lei,elec norm disposisitos de ficáveis Art Compão de fabrico,fectoc 1\n",
      "\n",
      "Post-prediction \n",
      "ário da República, 1.ª série — N.º 120 — 9 de junho de 2017 mercin o 6 paros de autínea f) do n.º 2 do artigo anterior.º; Leiol �ularadaão d do termo deretoçuuinte à aÍTULO II.posição�es Aut)is 1igo 20 —º Autet de terme decreto -lei,elec norm disposisitos de ficáveis Art Compão de fabrico,fectoc 1\n",
      "\n",
      "----------------------------------------------------------------------------------------------------------------------\n",
      "\n",
      "Ground truth 6 \n",
      "iário da República, 1.ª série — N.º 164 — 27 de agosto de 2013 tinadas a movimentar pessoas apenas pode ser exercida por EMIE que cumpram os requisitos previstos na presente lei; 2 — Sem prejuízo das competências atribuídas às câma- ras municipais, a atividade de realização de atos de inspeção, inquéritos e peritagens a ascensores, escadas mecânicas, tapetes rolantes, monta -cargas e plataformas destinadas a movimentar pessoas, bem como de emissão dos correspon- dentes relatórios e pareceres, apenas pode ser exercida por EIIE que cumpram os requisitos previstos na presente lei; 3 — Com exceção das situações previstas no artigo 28.º, o acesso e exercício da atividade das EMIE e das EIIE de- pende de reconhecimento pela Direção -Geral de Energia e Geologia (DGEG), nos termos do disposto na presente lei; 4 — Os serviços técnicos camarários que exerçam a atividade de manutenção de instalações em propriedade municipal devem: a) Ser reconhecidos pela DGEG nos termos dos arti- gos 10.º e 11.º, conforme disponham ou não da certificação referida na alínea a) do n.º 2 do artigo 4.º, aplicando -se o disposto no artigo 16.º, com as devidas adaptações; b) Cumprir, com as devidas adaptações, o disposto nos artigos 5.º, 6.º, 7.º, nos n.os 1 a 3 do artigo 8.º, e nos arti- gos 8.º e 15.º 5 — Os serviços técnicos camarários que, nos termos da lei, exerçam a atividade de inspeção não carecem da acreditação referida no n.º 2 do artigo 17.º, mas devem: a) Ser reconhecidos pela DGEG, nos termos dos n.os 1 e 3 a 6 do artigo 17.º, aplicando -se o disposto no artigo 27.º, com as devidas adaptações; b) Cumprir, com as devidas adaptações, o disposto no artigo 18.º, nos n.os 1 a 3 do artigo 19.º, nos artigos 26.º, 29.º e no n.º 2 do artigo 30.º Artigo 3.º Reconhecimento mútuo 1 — É vedada a duplicação de condições exigíveis para os procedimentos previstos na presente lei e os requisitos e controlos de fim equivalente a que o requerente tenha já sido submetido em Portugal ou em outro Estado membro da União Europeia ou do Espaço Económico Europeu, nos termos da alínea a) do n.º 1 do artigo 11.º do Decreto- Lei n.º 92/2010, de 26 de julho; 2 — O reconhecimento de qualificações profissionais adquiridas fora do território nacional, por cidadãos da União Europeia ou do espaço económico europeu, rege- -se pela Lei n.º 9/2009, de 4 de março, alterada pela Lei n.º 41/2012, de 28 de agosto; CAPÍTULO II Empresas de manutenção de instalações de elevação (EMIE) SECÇÃO I Requisitos de acesso e exercício da atividade das EMIE Artigo 4.º Idoneidade e capacidade 1 — O reconhecimento de uma EMIE assenta na análise da idoneidade, competência técnica e capacidade em meios humanos e materiais da entidade requerente.; 5172 Di Artigo 12.º Entrada em vigor A presente lei entra em vigor no 1.º dia do mês seguinte ao da sua publicação; Aprovada em 24 de julho de 2013; A Presidente da Assembleia da República, Maria da Assunção A. Esteves; Promulgada em 19 de agosto de 2013; Publique -se; O Presidente da República, ANÍBAL CAVACO SILVA; Referendada em 20 de agosto de 2013; O Primeiro -Ministro, Pedro Passos Coelho; Lei n.º 65/2013 de 27 de agosto Aprova os requisitos de acesso e exercício das atividades das empresas de manutenção de instalações de elevação e das entidades inspetoras de instalações de elevação, e seus pro- fissionais, conformando -os com a disciplina da Lei n.º 9/2009, de 4 de março, e do Decreto- Lei n.º 92/2010, de 26 de julho, que transpuseram as Diretivas n.os 2005/36/CE, relativa ao re- conhecimento das qualificações profissionais, e 2006/123/CE, relativa aos serviços no mercado interno; A Assembleia da República decreta, nos termos da alínea c) do artigo 161.º da Constituição, o seguinte: CAPÍTULO I Disposições gerais Artigo 1.º Objeto 1 — A presente lei aprova os requisitos de acesso e exercício da atividade das empresas de manutenção de instalações de elevação (EMIE), bem como os requisitos de acesso e exercício da atividade das entidades inspetoras de instalações de elevação (EIIE) e dos seus profissionais, em conformidade com o disposto no Decreto -Lei n.º 92/2010, de 26 de julho, que estabelece os princípios e as regras necessárias para simplificar o livre acesso e exercício das atividades de serviços e transpõe a Diretiva n.º 2006/123/ CE, do Parlamento Europeu e do Conselho, de 12 de de- zembro de 2006, relativa ao mercado interno dos serviços, e revoga o disposto no artigo 6.º, no n.º 5 do artigo 7.º, no artigo 10.º, nos n.os 2 e 3 do artigo 25.º e os anexos I e IV ao Decreto -Lei n.º 320/2002, de 28 de dezembro; 2 — A presente lei incorpora ainda a disciplina da Lei n.º 9/2009, de 4 de março, alterada pela Lei n.º 41/2012, de 28 de agosto, que transpõe para a ordem jurídica interna a Diretiva n.º 2005/36/CE, do Parlamento Europeu e do Conselho, de 7 de setembro de 2005, relativa ao reconhe- cimento das qualificações profissionais; Artigo 2.º Acesso e exercício das atividades das EMIE e das EIIE 1 — A atividade de manutenção de ascensores, escadas mecânicas, tapetes rolantes, monta -cargas e plataformas des-\n",
      "\n",
      "Pre-prediction \n",
      "ário da República, 1.ª série — N.º 120 — 27 de agosto de 2013 bado entoimento deelaoal eóas queela ser executí de apMIE e oumpram o critisitos aistos no legisle diplomai, — O prejuízo doas suíncias aéuídas à su Eargnis rios gí, a Eribade de Eização dos urib defin ucção que aéritos rece disposigosemivo\n",
      "\n",
      "Post-prediction \n",
      "ário da República, 1.ª série — N.º 120 — 27 de agosto de 2013 bado entoimento deelaoal eóas queela ser executí de apMIE e oumpram o critisitos aistos no legisle diplomai, — O prejuízo doas suíncias aéuídas à su Eargnis rios gí, a Eribade de Eização dos urib defin ucção que aéritos rece disposigosemivo\n",
      "\n",
      "----------------------------------------------------------------------------------------------------------------------\n",
      "\n",
      "Ground truth 7 \n",
      "8 3767 2 — As quase -máquinas só podem ser colocadas no mercado se cumprirem as disposições pertinentes do pre- sente decreto -lei e se destinarem, segundo declaração de incorporação do fabricante ou do seu mandatário, prevista na parte B do n.º 1 do anexo II do presente decreto -lei, que dele faz parte integrante, a ser incorporadas numa máquina ou montadas com outras quase -máquinas com vista a constituir uma máquina; 3 — O disposto nos números anteriores não preclude a possibilidade de apresentação em feiras, exposições, demonstrações ou eventos similares de máquinas ou quase -máquinas que não sejam conformes com o presente decreto -lei desde que se indique, mediante um letreiro visível, a sua não conformidade com as disposições do presente decreto -lei e a impossibilidade de aquisição de tais máquinas antes de serem colocadas em conformidade; 4 — Durante as demonstrações das máquinas ou quase- -máquinas não conformes com o presente decreto- lei, per- mitidas nos termos do número anterior, devem ser toma- das medidas de segurança adequadas a fim de garantir a protecção das pessoas; 5 — Caso seja necessário, podem ser estabelecidas, em diploma próprio, exigências suplementares para garantir a protecção das pessoas e, em especial, dos trabalhadores ao utilizarem as máquinas, desde que isso não implique modificações dessas máquinas em relação às disposições do presente decreto -lei; Artigo 5.º Responsabilidade do fabricante 1 — O fabricante ou o seu mandatário, antes de colo- car uma máquina no mercado e ou de a pôr em serviço, deve: a) Certificar -se de que a máquina cumpre os requisitos essenciais pertinentes em matéria de saúde e de segurança enunciados no anexo I; b) Certificar -se de que o processo técnico descrito na parte A do anexo VII do presente decreto -lei, que dele faz parte integrante, está disponível; c) Fornecer, nomeadamente, as informações necessárias, tais como o manual de instruções; d) Efectuar os procedimentos de avaliação da confor- midade adequados nos termos do artigo 7.º; e) Elaborar a declaração CE de conformidade nos ter- mos da parte A do n.º 1 do anexo II e certificar -se de que a mesma acompanha a máquina; f) Apor a marcação «CE» nos termos do artigo 10.º 2 — O fabricante ou o seu mandatário, antes de colo- car uma quase -máquina no mercado, deve certificar -se de que os procedimentos previstos no artigo 8.º foram observados; 3 — Para efeitos dos procedimentos referidos no ar- tigo 7.º, o fabricante, ou o seu mandatário, deve dispor dos meios necessários, ou ter acesso a esses meios, para poder certificar -se da conformidade da máquina com os requisitos essenciais de saúde e de segurança enunciados no anexo I; Artigo 6.º Presunção de conformidade e normas harmonizadas 1 — Presume- se que cumprem as disposições do presente decreto -lei as máquinas que ostentem a marcação «CE» e; Diário da República, 1.ª série — N.º 120 — 24 de Junho de 2008 g) «Quase -máquina» o conjunto que quase constitui uma máquina mas que não pode assegurar por si só uma aplicação específica, como é o caso de um sistema de accio- namento e que se destina a ser exclusivamente incorporada ou montada noutras máquinas ou noutras quase -máquinas ou equipamentos com vista à constituição de uma máquina à qual é aplicável o presente decreto -lei; h) «Colocação no mercado» a primeira colocação à disposição na Comunidade, a título oneroso ou gratuito, de uma máquina ou quase -máquina com vista a distribuição ou utilização; i) «Fabricante»: i) Qualquer pessoa singular ou colectiva responsável pela concepção e ou pelo fabrico de uma máquina ou quase -máquina abrangida pelo presente decreto- lei, bem como pela conformi- dade da máquina ou quase -máquina com o presente decreto -lei tendo em vista a sua colocação no mercado, com o seu próprio nome ou a sua própria marca ou para seu uso próprio; ii) Na falta de fabricante na acepção da subalínea ante- rior, considera -se fabricante qualquer pessoa singular ou colectiva que proceda à colocação no mercado ou à entrada em serviço de uma máquina ou quase -máquina abrangida pelo presente decreto -lei; j) «Mandatário» qualquer pessoa singular ou colectiva, estabelecida na Comunidade, que tenha recebido um man- dato escrito do fabricante para cumprir, em seu nome, a totalidade ou parte das obrigações e formalidades ligadas ao presente decreto -lei; l) «Entrada em serviço» a primeira utilização, na Comu- nidade, de uma máquina abrangida pelo presente decreto- -lei de acordo com o fim a que se destina; m) «Norma harmonizada» a especificação técnica, não obrigatória, adoptada por um organismo de normalização, a saber, o Comité Europeu de Normalização (CEN), o Comité Europeu de Normalização Electrotécnica (CENELEC) ou o Instituto Europeu de Normas de Telecomunicações (ETSI), com base num mandato conferido pela Comissão de acordo com os procedimentos estabelecidos na Directiva n.º 98/34/ CE, do Parlamento Europeu e do Conselho, de 22 de Junho, relativa a um procedimento de informação no domínio das normas e regulamentações técnicas e das regras relativas aos serviços da sociedade da informação, transposta para a ordem jurídica interna pelo Decreto -Lei n.º 58/2000, de 18 de Abril, com as alterações de que foi objecto; 3 — Consta do anexo V do presente decreto -lei, que dele faz parte integrante, uma lista indicativa dos compo- nentes de segurança a que se refere a alínea c) do número anterior; CAPÍTULO II Colocação no mercado e avaliação da conformidade Artigo 4.º Colocação no mercado 1 — As máquinas sujeitas à aplicação das disposições do presente decreto -lei só podem ser colocadas no mer- cado e ou entrar em serviço se cumprirem as disposições pertinentes nele estipuladas e não comprometerem a saúde e a segurança das pessoas e, se for o caso, dos animais domésticos ou dos bens, quando convenientemente insta- ladas e mantidas, e utilizadas de acordo com o fim a que se destinam ou em condições razoavelmente previsíveis.\n",
      "\n",
      "Pre-prediction \n",
      "á65 A. O Eando asleáquinas continó podem ser conceocadas no merado deguumprirem as funições noe, nju vido decreto -lei, realguinadosm ser sem foruro searação, medarção, seante,u de seu satário, deist no ale A) Dec.º 3 do presentexo;; presente decreto -lei, se est:az parte Arante; a qual asa naa partáquina de 6\n",
      "\n",
      "Post-prediction \n",
      "á65 A. O Eando asleáquinas continó podem ser conceocadas no merado deguumprirem as funições noe, nju vido decreto -lei, realguinadosm ser sem foruro searação, medarção, seante,u de seu satário, deist no ale A) Dec.º 3 do presentexo;; presente decreto -lei, se est:az parte Arante; a qual asa naa partáquina de 6\n",
      "\n",
      "----------------------------------------------------------------------------------------------------------------------\n",
      "\n",
      "Ground truth 8 \n",
      "Diário da República, 1.ª série — N.º 112 — 9 de junho de 2017 3.4.1 — O instalador deve manter o organismo notifi- cado que tiver aprovado o sistema da qualidade informado de qualquer projeto de alteração do sistema; 3.4.2 — O organismo notificado deve avaliar as altera- ções propostas e decidir se o sistema da qualidade assim alterado continua a corresponder aos requisitos referidos nos presentes n.os 3.2 ou se é necessária nova avaliação; 3.4.3 — A decisão deve ser notificada ao instalador ou, se for o caso, ao respetivo mandatário. A notificação deve incluir as conclusões da avaliação e uma decisão de avaliação fundamentada; 3.4.4 — O organismo notificado deve afixar, ou mandar afixar, o seu número de identificação ao lado da marca- ção CE, em conformidade com o artigo 20.º do presente decreto -lei; 4 — Vigilância sob a responsabilidade do organismo notificado: 4.1 — O objetivo da vigilância é assegurar que o insta- lador cumpre devidamente as obrigações decorrentes do sistema da qualidade aprovado; 4.2 — O instalador deve permitir, para efeitos de avalia- ção, que o organismo notificado tenha acesso à instalação e aos locais de inspeção e ensaio, facultando -lhe todas as informações necessárias, em especial: 4.2.1 — A documentação relativa ao sistema da qua- lidade; 4.2.2 — A documentação técnica; 4.2.3 — Os registos de qualidade, tais como os rela- tórios de inspeção, os dados de ensaio e de calibração, os relatórios sobre a qualificação do pessoal envolvido, entre outros; 4.3 — O organismo notificado deve efetuar controlos periódicos para se certificar de que o instalador mantém e aplica o sistema da qualidade e apresentar ao instalador um relatório desses controlos; 4.4 — Além do disposto no número anterior, o orga- nismo notificado pode efetuar visitas inesperadas ao esta- leiro de instalação de um ascensor, durante as quais pode, se necessário, efetuar, ou mandar efetuar, ensaios para verificar o bom funcionamento do sistema da qualidade e do ascensor, apresentando ao instalador um relatório da visita e, se tiverem sido realizados ensaios, um relatório dos ensaios; 5 — O instalador deve manter à disposição das autori- dades nacionais, durante um período de 10 anos a contar da data de colocação no mercado do último ascensor: a) A documentação referida na alínea c) do n.º 3.1 do presente anexo; b) A documentação técnica referida na alínea d) do n.º 3.1 do presente anexo; c) A informação relativa às alterações referidas no n.º 3.4.1. do presente anexo; d) As decisões e relatórios dos organismos notificados referidos nos n.os 3.4.3, 4.3 e 4.4 do presente anexo; 6 — Cada organismo notificado deve informar o IPQ, I. P., das decisões de aprovação de sistemas de qua- lidade concedidas ou retiradas e, periodicamente ou quando lhe for solicitado, disponibilizar -lhe a lista das decisões de aprovação que tenha recusado, suspendido ou submetido a quaisquer outras restrições; Cada organismo notificado deve informar os restan- tes organismos notificados das decisões de aprovação de sistemas de qualidade que tenha recusado, suspendido ou; 2912 e fica sujeito à vigilância referida no n.º 4 do presente anexo; 3 — Sistema da qualidade: 3.1 — O instalador deve requerer a um único organismo notificado da sua escolha a avaliação do seu sistema da qualidade para os ascensores em causa, por via de pedido que deve incluir: a) O nome e o endereço do fabricante e, se apresentado pelo mandatário, igualmente o nome e o endereço deste último; b) Todas as informações adequadas sobre os ascensores a instalar; c) A documentação relativa ao sistema da qualidade; d) A documentação técnica dos ascensores a instalar; e) Uma declaração escrita indicando que o mesmo pedido não foi apresentado a nenhum outro organismo notificado; 3.2 — No âmbito do sistema da qualidade, cada ascen- sor deve ser controlado, devendo ser efetuados os ensaios adequados, definidos nas normas harmonizadas aplicáveis, ou os ensaios equivalentes, para verificar a sua conformi- dade com os requisitos essenciais de saúde e de segurança aplicáveis previstos no anexo I ao presente decreto -lei; Todos os elementos, requisitos e disposições adotados pelo instalador devem ser reunidos de modo sistemático e ordenado numa documentação sob a forma de políticas, procedimentos e instruções escritas. Essa documentação relativa ao sistema da qualidade deve permitir uma in- terpretação uniforme dos programas, planos, manuais e registos de qualidade e, em especial, deve conter uma descrição adequada: a) Dos objetivos de qualidade; b) Do organigrama, das responsabilidades dos quadros e dos seus poderes em matéria de qualidade dos produtos; c) Dos controlos e ensaios efetuados antes da colocação no mercado, incluindo, no mínimo, os ensaios previstos no n.º 3.3 do anexo V ao presente decreto -lei; d) Dos meios que permitem controlar a eficácia de fun- cionamento do sistema da qualidade; e) Dos registos de qualidade, tais como relatórios de inspeção, dados de ensaio e dados de calibração, relatórios relativos à qualificação do pessoal envolvido; 3.3 — O organismo notificado deve avaliar o sistema da qualidade para determinar se satisfaz os requisitos re- feridos nos presentes n.os 3.2. Esse organismo deve presu- mir a conformidade com estes requisitos no que respeita aos elementos do sistema da qualidade que cumpram as correspondentes especificações da norma harmonizada correspondente; O grupo de auditores deve incluir, pelo menos, um membro que tenha experiência na avaliação da tecnologia do ascensor em questão e conhecimentos dos requisitos essenciais de saúde e segurança previstos no anexo I ao presente decreto -lei. A auditoria deve incluir uma visita de avaliação às instalações do instalador e uma visita a um estaleiro; A decisão deve ser notificada ao instalador. A notificação deve conter as conclusões da auditoria e a fundamentação da decisão de avaliação; 3.4 — O instalador compromete -se a cumprir as obri- gações decorrentes do sistema da qualidade aprovado e a mantê -lo em condições de adequação e eficácia.\n",
      "\n",
      "Pre-prediction \n",
      "ário da República, 1.ª série — N.º 120 — 9 de junho de 2017 merc —2.3 — Par fabricalador deve apter a seo notific- dado e oé os documentado puistema da qualidade:a deveid extjeto tveação c seistema de.4.1 — O fabrico notificado devemaliaar aseaç úão�es daensas da,retade- necess proistema da qualidade dein oa\n",
      "\n",
      "Post-prediction \n",
      "ário da República, 1.ª série — N.º 120 — 9 de junho de 2017 merc —2.3 — Par fabricalador deve apter a seo notific- dado e oé os documentado puistema da qualidade:a deveid extjeto tveação c seistema de.4.1 — O fabrico notificado devemaliaar aseaç úão�es daensas da,retade- necess proistema da qualidade dein oa\n",
      "\n",
      "----------------------------------------------------------------------------------------------------------------------\n",
      "\n",
      "Ground truth 9 \n",
      "Diário da República, 1.ª série — N.º 112 — 9 de junho de 2017 b) O local onde o ascensor está instalado; c) Uma declaração escrita que indique que o mesmo pedido não foi dirigido a outro organismo notificado; d) A documentação técnica; 3 — A documentação técnica deve permitir avaliar a conformidade do ascensor com os requisitos essenciais de saúde e de segurança aplicáveis previstos no anexo I ao presente decreto -lei, e deve conter, no mínimo, os se- guintes elementos: a) Uma descrição do ascensor; b) Desenhos e esquemas de conceção e fabrico; c) As explicações necessárias para a compreensão dos referidos desenhos e esquemas e do funcionamento do ascensor; d) A lista dos requisitos essenciais de saúde e de segu- rança tomados em consideração; e) Uma lista das normas harmonizadas, aplicadas total ou parcialmente, cujas referências foram publicadas no JOUE e, nos casos em que essas normas harmonizadas não tenham sido aplicadas, descrições das soluções ado- tadas para cumprir os requisitos essenciais de saúde e de segurança do presente decreto -lei, incluindo uma lista de outras especificações técnicas pertinentes aplicadas, sendo que, no caso de terem sido parcialmente aplicadas normas harmonizadas, a documentação técnica deve especificar as partes que foram aplicadas; f) Uma cópia dos certificados de exame UE de tipo dos componentes de segurança para ascensores incorporados no ascensor; g) Os resultados dos cálculos da conceção efetuados por ou por conta do instalador; h) Os relatórios dos ensaios; i) Um exemplar das instruções referidas no n.º 6.2 do anexo I ao presente decreto -lei; 4 — Verificação: O organismo notificado escolhido pelo instalador deve examinar a documentação técnica, e o ascensor, e efetuar os ensaios adequados definidos na(s) norma(s) harmonizada(s) aplicável(is), ou ensaios equivalentes, a fim de verificar a sua conformidade com os requisitos essenciais de saúde e de segurança aplicáveis previstos no anexo I ao presente decreto -lei. Os ensaios devem incluir, no mínimo, os ensaios referidos no n.º 3.3 do anexo V ao presente decreto -lei; Se o ascensor satisfizer os requisitos essenciais de saúde e segurança referidos no anexo I ao presente decreto -lei, o organismo notificado deve passar um certificado de conformidade relativamente aos ensaios efetuados; O organismo notificado deve preencher as páginas cor- respondentes do livro de registo referido no n.º 6.2 do anexo I ao presente decreto -lei; Se lhe for solicitado, o organismo notificado deve fa- cultar à Comissão Europeia e aos Estados -Membros uma cópia do certificado de conformidade; Se o organismo notificado se recusar a emitir o certi- ficado de conformidade, deve fundamentar pormenoriza- damente essa recusa e indicar as medidas corretivas que devem ser tomadas. Nessa situação, quando o instalador do ascensor requerer nova verificação por unidade, deve fazê -lo ao mesmo organismo notificado; 5 — Marcação CE e declaração UE de conformidade: 5.1 — O instalador deve apor a marcação CE na cabina de cada ascensor que satisfaça os requisitos essenciais de; 2910 para ascensores. A declaração UE de conformidade deve especificar o componente de segurança para ascensores para o qual foi estabelecida; 6 — O fabricante deve manter à disposição das autori- dades nacionais, durante um período de 10 anos a contar da data de colocação no mercado do componente de segurança para ascensores: 6.1 — A documentação referida na alínea e) do n.º 3.1 do presente anexo; 6.2 — A documentação técnica referida na alínea d) do n.º 3.1 do presente anexo; 6.3 — A informação relativa à alteração referida no primeiro parágrafo do n.º 3.5 do presente anexo; 6.4 — As decisões e relatórios dos organismos notifica- dos referidos no terceiro parágrafo do n.º 3.5 e nos n.os 4.3 e 4.4 do presente anexo; 7 — Cada organismo notificado deve informar o IPQ, I. P., das decisões de aprovação de sistemas de qua- lidade concedidas ou retiradas e, periodicamente e, perio- dicamente ou quando lhe for solicitado, disponibilizar -lhe a lista das decisões de aprovação que tenha recusado, sus- pendido ou submetido a quaisquer outras restrições; Cada organismo notificado deve informar os outros organismos notificados das decisões de aprovação de sis- temas de qualidade que tenha recusado, suspendido ou retirado e, se lhe for solicitado, das decisões de aprovação que tenha emitido; Se lhe for solicitado, o organismo notificado deve facul- tar à Comissão Europeia e aos Estados -Membros uma cópia da(s) decisão(ões) de aprovação do sistema da qualidade que tenha emitido; O organismo notificado deve conservar uma cópia da decisão de aprovação emitida e dos respetivos anexos e aditamentos, assim como do processo técnico e do relatório de avaliação, pelo período de 15 anos a contar a partir da data sua emissão; 8 — Mandatário: As obrigações do fabricante estabelecidas nos presentes n.os 3.1 e 3.5 e nos n.os 5 e 6 podem ser cumpridas pelo man- datário em nome e sob a responsabilidade do fabricante, desde que o mandato as especifique; ANEXO VIII Conformidade baseada na verificação por unidade para ascensores (Módulo G) 1 — A conformidade baseada na verificação por unidade é o procedimento de avaliação da conformidade pelo qual um organismo notificado avalia se um ascensor cumpre os requisitos essenciais de saúde e de segurança aplicáveis previstos no anexo I ao presente decreto -lei; 2 — Obrigações dos instaladores: 2.1 — O instalador deve tomar as medidas necessárias para garantir que o processo de fabrico e respetivo controlo assegura a conformidade do ascensor com os requisitos essenciais de saúde e de segurança previstos no anexo I ao presente decreto -lei; 2.2 — O pedido de verificação por unidade é apresen- tado pelo instalador a um único organismo notificado da sua escolha, o qual deve incluir: a) O nome e o endereço do instalador e, se apresentado pelo mandatário, igualmente o nome e o endereço deste último;\n",
      "\n",
      "Pre-prediction \n",
      "ário da República, 1.ª série — N.º 120 — 9 de junho de 2017 merc) C fabric dede e trensor oá sualaado em e) Oma estabaração estola est oub est o ascmo:ido deão esti cor deem, suras organismo notificado po d) O mação técnica relevant — O documentação técnica relevant u serir oaliaar a conformidade dos seensor o o requisitos essenciais de saú�\n",
      "\n",
      "Post-prediction \n",
      "ário da República, 1.ª série — N.º 120 — 9 de junho de 2017 merc) C fabric dede e trensor oá sualaado em e) Oma estabaração estola est oub est o ascmo:ido deão esti cor deem, suras organismo notificado po d) O mação técnica relevant — O documentação técnica relevant u serir oaliaar a conformidade dos seensor o o requisitos essenciais de saú�\n",
      "\n",
      "----------------------------------------------------------------------------------------------------------------------\n",
      "\n"
     ]
    }
   ],
   "source": [
    "for idx, (pre, post) in enumerate(predictions):\n",
    "    pre_pred = tokenizer.decode(np.argmax(pre, axis=-1), skip_special_tokens=True)\n",
    "    post_pred = tokenizer.decode(np.argmax(post, axis=-1), skip_special_tokens=True)\n",
    "    ground_truth = encoded_dataset['test'][idx][\"text\"]\n",
    "    \n",
    "    print(f'Ground truth {idx} \\n' + \"; \".join(ground_truth) + '\\n')\n",
    "    print('Pre-prediction \\n' + \"\".join(pre_pred) + '\\n')\n",
    "    print('Post-prediction \\n'+ \"\".join(post_pred) + '\\n')\n",
    "    print('----------------------------------------------------------------------------------------------------------------------\\n')"
   ]
  },
  {
   "cell_type": "code",
   "execution_count": null,
   "id": "c3ed2b57-1400-4474-ab37-ce2f458b61af",
   "metadata": {},
   "outputs": [],
   "source": []
  }
 ],
 "metadata": {
  "kernelspec": {
   "display_name": "Python 3 (ipykernel)",
   "language": "python",
   "name": "python3"
  },
  "language_info": {
   "codemirror_mode": {
    "name": "ipython",
    "version": 3
   },
   "file_extension": ".py",
   "mimetype": "text/x-python",
   "name": "python",
   "nbconvert_exporter": "python",
   "pygments_lexer": "ipython3",
   "version": "3.10.13"
  }
 },
 "nbformat": 4,
 "nbformat_minor": 5
}
